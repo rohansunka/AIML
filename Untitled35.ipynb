{
 "cells": [
  {
   "cell_type": "code",
   "execution_count": 17,
   "id": "7aee1f2d-5eb1-4080-ac9f-ccf78977dacb",
   "metadata": {},
   "outputs": [],
   "source": [
    "class Node:\n",
    "    def __init__(self,val):\n",
    "        self.data=val\n",
    "        self.left=None\n",
    "        self.right=None\n",
    "def dfs(root):\n",
    "    if root is None:\n",
    "        return\n",
    "        dfs(root.left)\n",
    "        print(root.val)\n",
    "        dfs(root.right)\n",
    "root=Node(10)\n",
    "root.left=Node(20)\n",
    "root.right=Node(30\n",
    "dfs(root)"
   ]
  },
  {
   "cell_type": "code",
   "execution_count": 18,
   "id": "2f7373a4-b08b-4568-b75e-9c1c738d17fb",
   "metadata": {},
   "outputs": [
    {
     "name": "stdout",
     "output_type": "stream",
     "text": [
      "rohan\n"
     ]
    }
   ],
   "source": [
    "print(\"rohan\")"
   ]
  },
  {
   "cell_type": "code",
   "execution_count": 30,
   "id": "a62cc685-2108-4807-bf11-01478e79d800",
   "metadata": {},
   "outputs": [
    {
     "name": "stdout",
     "output_type": "stream",
     "text": [
      "20 "
     ]
    },
    {
     "ename": "AttributeError",
     "evalue": "'Node' object has no attribute 'riht'",
     "output_type": "error",
     "traceback": [
      "\u001b[1;31m---------------------------------------------------------------------------\u001b[0m",
      "\u001b[1;31mAttributeError\u001b[0m                            Traceback (most recent call last)",
      "Cell \u001b[1;32mIn[30], line 14\u001b[0m\n\u001b[0;32m     12\u001b[0m root\u001b[38;5;241m.\u001b[39mleft\u001b[38;5;241m=\u001b[39mNode(\u001b[38;5;241m20\u001b[39m)\n\u001b[0;32m     13\u001b[0m root\u001b[38;5;241m.\u001b[39mright\u001b[38;5;241m=\u001b[39mNode(\u001b[38;5;241m30\u001b[39m)\n\u001b[1;32m---> 14\u001b[0m inorder(root)\n",
      "Cell \u001b[1;32mIn[30], line 8\u001b[0m, in \u001b[0;36minorder\u001b[1;34m(root)\u001b[0m\n\u001b[0;32m      6\u001b[0m \u001b[38;5;28;01mdef\u001b[39;00m \u001b[38;5;21minorder\u001b[39m(root):\n\u001b[0;32m      7\u001b[0m     \u001b[38;5;28;01mif\u001b[39;00m root:\n\u001b[1;32m----> 8\u001b[0m         inorder(root\u001b[38;5;241m.\u001b[39mleft)\n\u001b[0;32m      9\u001b[0m         \u001b[38;5;28mprint\u001b[39m(root\u001b[38;5;241m.\u001b[39mdata, end\u001b[38;5;241m=\u001b[39m\u001b[38;5;124m\"\u001b[39m\u001b[38;5;124m \u001b[39m\u001b[38;5;124m\"\u001b[39m)\n\u001b[0;32m     10\u001b[0m         inorder(root\u001b[38;5;241m.\u001b[39mriht)\n",
      "Cell \u001b[1;32mIn[30], line 10\u001b[0m, in \u001b[0;36minorder\u001b[1;34m(root)\u001b[0m\n\u001b[0;32m      8\u001b[0m inorder(root\u001b[38;5;241m.\u001b[39mleft)\n\u001b[0;32m      9\u001b[0m \u001b[38;5;28mprint\u001b[39m(root\u001b[38;5;241m.\u001b[39mdata, end\u001b[38;5;241m=\u001b[39m\u001b[38;5;124m\"\u001b[39m\u001b[38;5;124m \u001b[39m\u001b[38;5;124m\"\u001b[39m)\n\u001b[1;32m---> 10\u001b[0m inorder(root\u001b[38;5;241m.\u001b[39mriht)\n",
      "\u001b[1;31mAttributeError\u001b[0m: 'Node' object has no attribute 'riht'"
     ]
    }
   ],
   "source": [
    "class Node:\n",
    "    def __init__(self,item):\n",
    "        self.data=item\n",
    "        self.left=None\n",
    "        self.right=None\n",
    "def inorder(root):\n",
    "    if root:\n",
    "        inorder(root.left)\n",
    "        print(root.data, end=\" \")\n",
    "        inorder(root.riht)\n",
    "root=Node(10)\n",
    "root.left=Node(20)\n",
    "root.right=Node(30)\n",
    "inorder(root)\n",
    "\n",
    "        "
   ]
  },
  {
   "cell_type": "code",
   "execution_count": 35,
   "id": "69096a9d-4bd1-40d1-8d7f-6c848f55b64a",
   "metadata": {},
   "outputs": [
    {
     "name": "stdout",
     "output_type": "stream",
     "text": [
      "20 10 "
     ]
    }
   ],
   "source": [
    "class node:\n",
    "    def __init__(self,data):\n",
    "        self.data=data\n",
    "        self.left=None\n",
    "        self.right=None\n",
    "def inorder (root):\n",
    "    if root:\n",
    "        inorder(root.left)\n",
    "        print(root.data,end=\" \")\n",
    "        inorder(root.right)\n",
    "root=node(10)\n",
    "root.left=node(20)\n",
    "inorder(root)\n",
    "        \n"
   ]
  },
  {
   "cell_type": "code",
   "execution_count": 90,
   "id": "69f6543f-89ac-4c64-a841-02d7c5cd8f42",
   "metadata": {},
   "outputs": [],
   "source": [
    "class node:\n",
    "    def __init__(self,item):\n",
    "        self.data=item\n",
    "        self.left=None\n",
    "        self.right=None\n",
    "def dfs(root):\n",
    "    if root is None:\n",
    "        return\n",
    "        dfs(root.left)\n",
    "        print(root.data,end=\" \")\n",
    "        dfs(root.right)\n",
    "root=dfs(10)\n",
    "dfs(root)\n",
    "        "
   ]
  },
  {
   "cell_type": "code",
   "execution_count": 57,
   "id": "341ed2d0-2c19-4b20-8309-afdf95b63762",
   "metadata": {},
   "outputs": [
    {
     "name": "stdout",
     "output_type": "stream",
     "text": [
      "[10]\n",
      "[10, 20]\n",
      "the remove element is 10\n",
      "the element is add [20]\n"
     ]
    }
   ],
   "source": [
    "class queue:\n",
    "    def __init__(self):\n",
    "        self.q=[]\n",
    "    def push(self,item):\n",
    "        self.q.append(item)\n",
    "        print(self.q)\n",
    "    def pop(self):\n",
    "        if len(self.q)!=0:\n",
    "            r=self.q.pop(0)\n",
    "            print(\"the remove element is\",r)\n",
    "    def display(self):\n",
    "        print(\"the element is add\",self.q)\n",
    "a=queue()\n",
    "a.push(10)\n",
    "a.push(20)\n",
    "a.pop()\n",
    "a.display()"
   ]
  },
  {
   "cell_type": "code",
   "execution_count": 78,
   "id": "ffe0b31d-2681-4921-b4cd-e9a96098b645",
   "metadata": {},
   "outputs": [
    {
     "name": "stdin",
     "output_type": "stream",
     "text": [
      "enter any number 4\n"
     ]
    },
    {
     "name": "stdout",
     "output_type": "stream",
     "text": [
      "destination top  source move source to disk\n",
      "move top disk disk to destination destination\n",
      "destination top  source move source to disk\n",
      "move top disk destination to destination disk\n",
      "destination top  source move source to disk\n",
      "move top disk disk to destination destination\n",
      "destination top  source move source to disk\n",
      "move top disk disk to destination destination\n",
      "destination top  source move source to disk\n",
      "move top disk disk to destination destination\n",
      "destination top  source move source to disk\n",
      "move top disk destination to destination disk\n",
      "destination top  source move source to disk\n",
      "move top disk disk to destination destination\n",
      "destination top  source move source to disk\n"
     ]
    }
   ],
   "source": [
    "def tower(n,source,destination,disk):\n",
    "    if n==1:\n",
    "        print(\"destination top \",source,\"move source to\",destination)\n",
    "    else:\n",
    "        tower(n-1,source,disk,destination)\n",
    "        print(\"move top disk\",disk,\"to destination\",destination)\n",
    "        tower(n-1,source,disk,destination)\n",
    "\n",
    "n=int(input(\"enter any number\"))\n",
    "tower(n,'source','destination','disk')"
   ]
  },
  {
   "cell_type": "code",
   "execution_count": 85,
   "id": "fb6f6e2f-9bf8-40d8-bf0d-7d4c6b6ad56a",
   "metadata": {},
   "outputs": [
    {
     "name": "stdin",
     "output_type": "stream",
     "text": [
      "enter any number 10\n"
     ]
    },
    {
     "ename": "TypeError",
     "evalue": "'function' object is not subscriptable",
     "output_type": "error",
     "traceback": [
      "\u001b[1;31m---------------------------------------------------------------------------\u001b[0m",
      "\u001b[1;31mTypeError\u001b[0m                                 Traceback (most recent call last)",
      "Cell \u001b[1;32mIn[85], line 7\u001b[0m\n\u001b[0;32m      5\u001b[0m         \u001b[38;5;28;01mreturn\u001b[39;00m fib\n\u001b[0;32m      6\u001b[0m n\u001b[38;5;241m=\u001b[39m\u001b[38;5;28mint\u001b[39m(\u001b[38;5;28minput\u001b[39m(\u001b[38;5;124m\"\u001b[39m\u001b[38;5;124menter any number\u001b[39m\u001b[38;5;124m\"\u001b[39m))\n\u001b[1;32m----> 7\u001b[0m res\u001b[38;5;241m=\u001b[39mfib(n)\n\u001b[0;32m      8\u001b[0m \u001b[38;5;28mprint\u001b[39m(res)\n",
      "Cell \u001b[1;32mIn[85], line 2\u001b[0m, in \u001b[0;36mfib\u001b[1;34m(n)\u001b[0m\n\u001b[0;32m      1\u001b[0m \u001b[38;5;28;01mdef\u001b[39;00m \u001b[38;5;21mfib\u001b[39m(n):\n\u001b[1;32m----> 2\u001b[0m     fib[\u001b[38;5;241m0\u001b[39m, \u001b[38;5;241m1\u001b[39m]\n\u001b[0;32m      3\u001b[0m     \u001b[38;5;28;01mfor\u001b[39;00m i \u001b[38;5;129;01min\u001b[39;00m \u001b[38;5;28mrange\u001b[39m(\u001b[38;5;241m2\u001b[39m, n):\n\u001b[0;32m      4\u001b[0m         fib\u001b[38;5;241m.\u001b[39mappend(fib[\u001b[38;5;241m-\u001b[39m\u001b[38;5;241m1\u001b[39m] \u001b[38;5;241m+\u001b[39m fib[\u001b[38;5;241m-\u001b[39m\u001b[38;5;241m2\u001b[39m])\n",
      "\u001b[1;31mTypeError\u001b[0m: 'function' object is not subscriptable"
     ]
    }
   ],
   "source": [
    "def fib(n):\n",
    "    fib[0, 1]\n",
    "    for i in range(2, n):\n",
    "        fib.append(fib[-1] + fib[-2])\n",
    "        return fib\n",
    "n=int(input(\"enter any number\"))\n",
    "res=fib(n)\n",
    "print(res)"
   ]
  },
  {
   "cell_type": "code",
   "execution_count": 95,
   "id": "b5a42031-bfef-4d9c-8812-3537bbec0c00",
   "metadata": {},
   "outputs": [
    {
     "name": "stdin",
     "output_type": "stream",
     "text": [
      "enter any number 10\n"
     ]
    },
    {
     "name": "stdout",
     "output_type": "stream",
     "text": [
      "the fibonaci series is [0, 1, 1]\n"
     ]
    }
   ],
   "source": [
    "def fib(n):\n",
    "    fib=[0,1]\n",
    "    for i in range(2,n):\n",
    "        fib.append(fib[-1]+fib[-2])\n",
    "        return fib\n",
    "n=int(input(\"enter any number\"))\n",
    "res=fib(n)\n",
    "print(\"the fibonaci series is\",res)"
   ]
  },
  {
   "cell_type": "code",
   "execution_count": 98,
   "id": "9a849ce4-6c02-468b-a432-e338043adc30",
   "metadata": {},
   "outputs": [
    {
     "name": "stdin",
     "output_type": "stream",
     "text": [
      "enter any number: 10\n"
     ]
    },
    {
     "data": {
      "text/plain": [
       "3628800"
      ]
     },
     "execution_count": 98,
     "metadata": {},
     "output_type": "execute_result"
    }
   ],
   "source": [
    "def sum(n):\n",
    "    if n==1:\n",
    "        return 1\n",
    "    else:\n",
    "        s=n*sum(n-1)\n",
    "        return s\n",
    "n=int(input(\"enter any number:\"))\n",
    "sum(n)"
   ]
  },
  {
   "cell_type": "code",
   "execution_count": 100,
   "id": "3b44c308-636b-4da8-bb35-4c1d1969f845",
   "metadata": {},
   "outputs": [
    {
     "name": "stdin",
     "output_type": "stream",
     "text": [
      "enter any number 10\n",
      "enter any number 10\n"
     ]
    },
    {
     "data": {
      "text/plain": [
       "1000000000"
      ]
     },
     "execution_count": 100,
     "metadata": {},
     "output_type": "execute_result"
    }
   ],
   "source": [
    "def power(n,m):\n",
    "    if m==1:\n",
    "        return 1\n",
    "    else:\n",
    "        return n*power(n,m-1)\n",
    "        return power\n",
    "    \n",
    "    \n",
    "n=int(input(\"enter any number\"))\n",
    "m=int(input(\"enter any number\"))\n",
    "power(n,m)"
   ]
  },
  {
   "cell_type": "code",
   "execution_count": 105,
   "id": "2e44dd45-4b46-4f60-a00b-19cd6b084c89",
   "metadata": {},
   "outputs": [
    {
     "name": "stdin",
     "output_type": "stream",
     "text": [
      "enter any number 101\n"
     ]
    },
    {
     "name": "stdout",
     "output_type": "stream",
     "text": [
      "not found\n"
     ]
    }
   ],
   "source": [
    "a=10,20,30,50\n",
    "key=int(input(\"enter any number\"))\n",
    "flag=i\n",
    "for i in range (len(a)):\n",
    "    if a[i]==key:\n",
    "        flag=-1\n",
    "        break\n",
    "if flag==-1:\n",
    "    print(\"the elenment found\")\n",
    "else:\n",
    "    print(\"not found\")\n",
    "    "
   ]
  },
  {
   "cell_type": "code",
   "execution_count": 106,
   "id": "bcfb4932-8c7c-435b-8592-e484ac5ff48b",
   "metadata": {},
   "outputs": [
    {
     "ename": "TypeError",
     "evalue": "'tuple' object does not support item assignment",
     "output_type": "error",
     "traceback": [
      "\u001b[1;31m---------------------------------------------------------------------------\u001b[0m",
      "\u001b[1;31mTypeError\u001b[0m                                 Traceback (most recent call last)",
      "Cell \u001b[1;32mIn[106], line 7\u001b[0m\n\u001b[0;32m      5\u001b[0m \u001b[38;5;28;01mif\u001b[39;00m a[j]\u001b[38;5;241m<\u001b[39ma[j\u001b[38;5;241m+\u001b[39m\u001b[38;5;241m1\u001b[39m]:\n\u001b[0;32m      6\u001b[0m     temp\u001b[38;5;241m=\u001b[39ma[j]\n\u001b[1;32m----> 7\u001b[0m     a[j]\u001b[38;5;241m=\u001b[39ma[j\u001b[38;5;241m+\u001b[39m\u001b[38;5;241m1\u001b[39m]\n\u001b[0;32m      8\u001b[0m     a[j\u001b[38;5;241m+\u001b[39m\u001b[38;5;241m1\u001b[39m]\u001b[38;5;241m=\u001b[39mtemp\n",
      "\u001b[1;31mTypeError\u001b[0m: 'tuple' object does not support item assignment"
     ]
    }
   ],
   "source": [
    "a=90,20,80,50\n",
    "n=len(a)\n",
    "for i in range(n):\n",
    "    for j in range(n-1):\n",
    "        if a[j]<a[j+1]:\n",
    "            temp=a[j]\n",
    "            a[j]=a[j+1]\n",
    "            a[j+1]=temp"
   ]
  },
  {
   "cell_type": "code",
   "execution_count": 109,
   "id": "46152bdd-0f24-4c40-84af-89de8cd6c097",
   "metadata": {},
   "outputs": [
    {
     "name": "stdout",
     "output_type": "stream",
     "text": [
      "[10, 60, 80, 90]\n"
     ]
    }
   ],
   "source": [
    "a=[10,80,90,60]\n",
    "n=len(a)\n",
    "for i in range(n):\n",
    "    for j in range(n-1):\n",
    "        if a[j]>a[j+1]:\n",
    "            temp=a[j]\n",
    "            a[j]=a[j+1]\n",
    "            a[j+1]=temp\n",
    "print(a)"
   ]
  },
  {
   "cell_type": "code",
   "execution_count": null,
   "id": "ca6a4d66-cad4-451c-8188-64a4054e5c4c",
   "metadata": {},
   "outputs": [],
   "source": [
    "a=[10,80,90,60]\n",
    "n=len(a)\n",
    "for i in range(1, n):\n",
    "    k=a[i]\n",
    "    j=i-1\n",
    "    while j>=0 and a[j]>k:\n",
    "        a[j+1]=a[j]\n",
    "        j-=1\n",
    "    a[j+1]=k\n",
    "print(a)\n",
    "    "
   ]
  },
  {
   "cell_type": "code",
   "execution_count": null,
   "id": "b07a823e-3701-498f-b5a8-b5d53419a5f1",
   "metadata": {},
   "outputs": [],
   "source": [
    "a=[10,80,90,60]\n",
    "n=len(a)\n",
    "for i in range(n-2):\n",
    "    i=min\n",
    "    for j in range(i+1,n):\n",
    "        a[j]>a[min]\n",
    "        temp=a[j]\n",
    "        a[j]=a[min]\n",
    "        a[min]=temp\n",
    "print(a)"
   ]
  },
  {
   "cell_type": "code",
   "execution_count": null,
   "id": "d49e49b2-fcb2-4b9b-a0f3-531639ef2ec6",
   "metadata": {},
   "outputs": [],
   "source": [
    "print(\"rohan\")"
   ]
  },
  {
   "cell_type": "code",
   "execution_count": null,
   "id": "d19fcc79-1a87-487f-940c-49d986bf8a06",
   "metadata": {},
   "outputs": [],
   "source": [
    "class Node:\n",
    "    def __init_(self,item):\n",
    "        self.data=data\n",
    "        self.right=None\n",
    "        self.left=None\n",
    "def inorder(root):\n",
    "    if root:\n",
    "        inorder(root.left)\n",
    "        print(root.data=,end=\" \")\n",
    "        inorder(root.right)\n",
    "root=Node(10)\n",
    "inorder(root)"
   ]
  },
  {
   "cell_type": "code",
   "execution_count": null,
   "id": "71995dec-1d64-4d2e-aa15-d261fd91996e",
   "metadata": {},
   "outputs": [],
   "source": []
  }
 ],
 "metadata": {
  "kernelspec": {
   "display_name": "Python 3 (ipykernel)",
   "language": "python",
   "name": "python3"
  },
  "language_info": {
   "codemirror_mode": {
    "name": "ipython",
    "version": 3
   },
   "file_extension": ".py",
   "mimetype": "text/x-python",
   "name": "python",
   "nbconvert_exporter": "python",
   "pygments_lexer": "ipython3",
   "version": "3.12.4"
  }
 },
 "nbformat": 4,
 "nbformat_minor": 5
}
