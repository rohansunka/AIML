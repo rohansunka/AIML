{
 "cells": [
  {
   "cell_type": "code",
   "execution_count": 5,
   "id": "7881647f-4bb5-48e9-9c91-b12b77510849",
   "metadata": {},
   "outputs": [
    {
     "name": "stdout",
     "output_type": "stream",
     "text": [
      "the name is rohan\n",
      "the age is 20\n"
     ]
    }
   ],
   "source": [
    "class student:\n",
    "    def __init__(self):\n",
    "        self.name=\" \"\n",
    "        self.age=0\n",
    "    def push(self,n,a):\n",
    "        self.name=n\n",
    "        self.age=a\n",
    "    def display(self):\n",
    "        print(\"the name is\",self.name)\n",
    "        print(\"the age is\",self.age)\n",
    "a=student()\n",
    "a.push(\"rohan\",20)\n",
    "a.display()\n",
    "        "
   ]
  },
  {
   "cell_type": "code",
   "execution_count": 9,
   "id": "dec62573-cd6f-4936-b415-586028c15b71",
   "metadata": {},
   "outputs": [
    {
     "name": "stdout",
     "output_type": "stream",
     "text": [
      "the list is [10, 30, 20, 50, 90, 70]\n",
      "the length of the list is 6\n"
     ]
    }
   ],
   "source": [
    "a=[10,30,20,50,90,70]\n",
    "print(\"the list is\",a)\n",
    "print(\"the length of the list is\",len(a))\n",
    "\n"
   ]
  },
  {
   "cell_type": "code",
   "execution_count": 16,
   "id": "f6d3a96a-fbc9-4a53-9347-139db3ec9fba",
   "metadata": {},
   "outputs": [
    {
     "name": "stdout",
     "output_type": "stream",
     "text": [
      "[0.5, 60, 80, 80, 90]\n"
     ]
    }
   ],
   "source": [
    "a=[0.5,60,80,90,80]\n",
    "n=len(a)\n",
    "for i in range(n):\n",
    "    for j in range(n-1):\n",
    "        if a[j]>a[j+1]:\n",
    "            temp=a[j]\n",
    "            a[j]=a[j+1]\n",
    "            a[j+1]=temp\n",
    "print(a)"
   ]
  },
  {
   "cell_type": "code",
   "execution_count": 23,
   "id": "15b5e91f-6ec4-4f79-a0b3-12ef80de770f",
   "metadata": {},
   "outputs": [
    {
     "name": "stdin",
     "output_type": "stream",
     "text": [
      "enter any number 10\n"
     ]
    },
    {
     "name": "stdout",
     "output_type": "stream",
     "text": [
      "no\n"
     ]
    }
   ],
   "source": [
    "a=[0.5,60,80,90,80]\n",
    "key=int(input(\"enter any number\"))\n",
    "flag=i\n",
    "for i in range(len(a)):\n",
    "    if a[i]==key:\n",
    "        flag=-1\n",
    "        break\n",
    "if flag==-1:\n",
    "    print(\"yes\")\n",
    "else:\n",
    "    print(\"no\")"
   ]
  },
  {
   "cell_type": "code",
   "execution_count": 31,
   "id": "a3bd6bd1-5782-42f2-aab7-b949f2df55de",
   "metadata": {},
   "outputs": [
    {
     "name": "stdout",
     "output_type": "stream",
     "text": [
      "[60, 0.5, 80, 90, 80]\n"
     ]
    }
   ],
   "source": [
    "a=[0.5,60,80,90,80]\n",
    "n=len(a)\n",
    "for i in range(1,n-1):\n",
    "    k=a[i]\n",
    "    j=i-1\n",
    "    while j<=0 and a[j]<k:\n",
    "        a [j+1]=a[j]\n",
    "        j=j-1\n",
    "        a[j+1]=k\n",
    "        print(a)"
   ]
  },
  {
   "cell_type": "code",
   "execution_count": 41,
   "id": "92cb1a20-7887-45aa-bc72-bc9c61f1142b",
   "metadata": {},
   "outputs": [
    {
     "name": "stdout",
     "output_type": "stream",
     "text": [
      "the list is [10]\n"
     ]
    }
   ],
   "source": [
    "class stack:\n",
    "    def __init__(self):\n",
    "        self.q=[]\n",
    "    def push(self,item):\n",
    "        self.q .append(item)\n",
    "    def remove(self):\n",
    "        if len(self.q)!=0:\n",
    "            self.q.pop()\n",
    "    def display(self):\n",
    "        print(\"the list is\",self.q)\n",
    "a=stack()\n",
    "a.push(10)\n",
    "a.display()"
   ]
  },
  {
   "cell_type": "code",
   "execution_count": 44,
   "id": "ef14762b-839e-4500-8009-9fd2a6b8b18e",
   "metadata": {},
   "outputs": [],
   "source": [
    "a=[0.5,60,80,90,80]\n",
    "n=len(a)\n",
    "for i in range(n-2):\n",
    "    min=i\n",
    "for i in range(i+1,n-1):\n",
    "   a[j]<a[min] \n",
    "temp=a[j]\n"
   ]
  },
  {
   "cell_type": "code",
   "execution_count": 48,
   "id": "d1293d0e-a9af-45d9-852c-9bfabd25ca2b",
   "metadata": {},
   "outputs": [
    {
     "name": "stdin",
     "output_type": "stream",
     "text": [
      "enter any number 10\n"
     ]
    },
    {
     "ename": "AttributeError",
     "evalue": "'list' object has no attribute 'appen'",
     "output_type": "error",
     "traceback": [
      "\u001b[1;31m---------------------------------------------------------------------------\u001b[0m",
      "\u001b[1;31mAttributeError\u001b[0m                            Traceback (most recent call last)",
      "Cell \u001b[1;32mIn[48], line 7\u001b[0m\n\u001b[0;32m      5\u001b[0m         \u001b[38;5;28;01mreturn\u001b[39;00m fib\n\u001b[0;32m      6\u001b[0m n\u001b[38;5;241m=\u001b[39m\u001b[38;5;28mint\u001b[39m(\u001b[38;5;28minput\u001b[39m(\u001b[38;5;124m\"\u001b[39m\u001b[38;5;124menter any number\u001b[39m\u001b[38;5;124m\"\u001b[39m))\n\u001b[1;32m----> 7\u001b[0m res\u001b[38;5;241m=\u001b[39mfib(n)\n\u001b[0;32m      8\u001b[0m \u001b[38;5;28mprint\u001b[39m(\u001b[38;5;124m\"\u001b[39m\u001b[38;5;124mthe fibonaci series is\u001b[39m\u001b[38;5;124m\"\u001b[39m,res)\n",
      "Cell \u001b[1;32mIn[48], line 4\u001b[0m, in \u001b[0;36mfib\u001b[1;34m(n)\u001b[0m\n\u001b[0;32m      2\u001b[0m fib\u001b[38;5;241m=\u001b[39m[\u001b[38;5;241m0\u001b[39m,\u001b[38;5;241m1\u001b[39m]\n\u001b[0;32m      3\u001b[0m \u001b[38;5;28;01mfor\u001b[39;00m i \u001b[38;5;129;01min\u001b[39;00m \u001b[38;5;28mrange\u001b[39m(\u001b[38;5;241m2\u001b[39m,n):\n\u001b[1;32m----> 4\u001b[0m     fib\u001b[38;5;241m.\u001b[39mappen(fib[\u001b[38;5;241m-\u001b[39m\u001b[38;5;241m1\u001b[39m]\u001b[38;5;241m+\u001b[39mfib[\u001b[38;5;241m-\u001b[39m\u001b[38;5;241m2\u001b[39m])\n\u001b[0;32m      5\u001b[0m     \u001b[38;5;28;01mreturn\u001b[39;00m fib\n",
      "\u001b[1;31mAttributeError\u001b[0m: 'list' object has no attribute 'appen'"
     ]
    }
   ],
   "source": [
    "def  fib(n):\n",
    "    fib=[0,1]\n",
    "    for i in range(2,n):\n",
    "        fib.appen(fib[-1]+fib[-2])\n",
    "        return fib\n",
    "n=int(input(\"enter any number\"))\n",
    "res=fib(n)\n",
    "print(\"the fibonaci series is\",res)"
   ]
  },
  {
   "cell_type": "code",
   "execution_count": null,
   "id": "f8cc881b-de93-4f6d-bf3b-4f1b581e131b",
   "metadata": {},
   "outputs": [],
   "source": []
  }
 ],
 "metadata": {
  "kernelspec": {
   "display_name": "Python 3 (ipykernel)",
   "language": "python",
   "name": "python3"
  },
  "language_info": {
   "codemirror_mode": {
    "name": "ipython",
    "version": 3
   },
   "file_extension": ".py",
   "mimetype": "text/x-python",
   "name": "python",
   "nbconvert_exporter": "python",
   "pygments_lexer": "ipython3",
   "version": "3.12.4"
  }
 },
 "nbformat": 4,
 "nbformat_minor": 5
}
