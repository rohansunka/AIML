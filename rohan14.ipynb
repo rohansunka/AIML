{
 "cells": [
  {
   "cell_type": "code",
   "execution_count": null,
   "id": "718840f3-54c8-4a0a-a2e8-61aa60d3eac3",
   "metadata": {},
   "outputs": [],
   "source": [
    "import numpy as np\n",
    "import pandas as pd\n",
    "import matplotlib.pyplot as plt\n",
    "import seaborn as sns\n",
    "import warnings\n",
    "warnings.filterwarnings('ignore')"
   ]
  },
  {
   "cell_type": "code",
   "execution_count": 2,
   "id": "a2064bc5-a223-4e7f-b241-e4171d82117c",
   "metadata": {},
   "outputs": [],
   "source": [
    "df = pd.read_csv(\"Downloads/Indian_House_Rent_Dataset.csv\")"
   ]
  },
  {
   "cell_type": "code",
   "execution_count": 3,
   "id": "418532db-57a1-4f78-9013-0103261d136e",
   "metadata": {},
   "outputs": [
    {
     "data": {
      "text/html": [
       "<div>\n",
       "<style scoped>\n",
       "    .dataframe tbody tr th:only-of-type {\n",
       "        vertical-align: middle;\n",
       "    }\n",
       "\n",
       "    .dataframe tbody tr th {\n",
       "        vertical-align: top;\n",
       "    }\n",
       "\n",
       "    .dataframe thead th {\n",
       "        text-align: right;\n",
       "    }\n",
       "</style>\n",
       "<table border=\"1\" class=\"dataframe\">\n",
       "  <thead>\n",
       "    <tr style=\"text-align: right;\">\n",
       "      <th></th>\n",
       "      <th>Posted On</th>\n",
       "      <th>BHK</th>\n",
       "      <th>Size</th>\n",
       "      <th>Floor</th>\n",
       "      <th>Area Type</th>\n",
       "      <th>Area Locality</th>\n",
       "      <th>City</th>\n",
       "      <th>Furnishing Status</th>\n",
       "      <th>Tenant Preferred</th>\n",
       "      <th>Bathroom</th>\n",
       "      <th>Point of Contact</th>\n",
       "      <th>Rent</th>\n",
       "    </tr>\n",
       "  </thead>\n",
       "  <tbody>\n",
       "    <tr>\n",
       "      <th>0</th>\n",
       "      <td>NaN</td>\n",
       "      <td>2.0</td>\n",
       "      <td>1100.0</td>\n",
       "      <td>NaN</td>\n",
       "      <td>Super Area</td>\n",
       "      <td>Bandel</td>\n",
       "      <td>India-! Kolkata</td>\n",
       "      <td>Unfurnished</td>\n",
       "      <td>Bach^elors/Fam.ily</td>\n",
       "      <td>2.0</td>\n",
       "      <td>Contact Owner</td>\n",
       "      <td>10000</td>\n",
       "    </tr>\n",
       "    <tr>\n",
       "      <th>1</th>\n",
       "      <td>2022-05-13</td>\n",
       "      <td>2.0</td>\n",
       "      <td>800.0</td>\n",
       "      <td>1 out of 3</td>\n",
       "      <td>Super Area</td>\n",
       "      <td>Phool Bagan, Kankurgachi</td>\n",
       "      <td>India-! Kolkata</td>\n",
       "      <td>Semi-Furnished</td>\n",
       "      <td>Bachelors\\/Family*</td>\n",
       "      <td>NaN</td>\n",
       "      <td>NaN</td>\n",
       "      <td>20000</td>\n",
       "    </tr>\n",
       "    <tr>\n",
       "      <th>2</th>\n",
       "      <td>2022-05-16</td>\n",
       "      <td>2.0</td>\n",
       "      <td>1000.0</td>\n",
       "      <td>1 out of 3</td>\n",
       "      <td>Super Area</td>\n",
       "      <td>Salt Lake City Sector 2</td>\n",
       "      <td>India-- Kolkata</td>\n",
       "      <td>Semi-Furnished</td>\n",
       "      <td>NaN</td>\n",
       "      <td>1.0</td>\n",
       "      <td>Contact Owner</td>\n",
       "      <td>17000</td>\n",
       "    </tr>\n",
       "    <tr>\n",
       "      <th>3</th>\n",
       "      <td>2022-07-04</td>\n",
       "      <td>2.0</td>\n",
       "      <td>800.0</td>\n",
       "      <td>1 out of 2</td>\n",
       "      <td>Super Area</td>\n",
       "      <td>NaN</td>\n",
       "      <td>NaN</td>\n",
       "      <td>Unfurnished</td>\n",
       "      <td>Bachel]ors/F@amily</td>\n",
       "      <td>1.0</td>\n",
       "      <td>NaN</td>\n",
       "      <td>10000</td>\n",
       "    </tr>\n",
       "    <tr>\n",
       "      <th>4</th>\n",
       "      <td>2022-05-09</td>\n",
       "      <td>2.0 room</td>\n",
       "      <td>850.0</td>\n",
       "      <td>1 out of 2</td>\n",
       "      <td>Carpet Area</td>\n",
       "      <td>South Dum Dum</td>\n",
       "      <td>India-^ Kolkata</td>\n",
       "      <td>Unfurnished</td>\n",
       "      <td>Bache[lors&amp;</td>\n",
       "      <td>1.0</td>\n",
       "      <td>Contact Owner</td>\n",
       "      <td>7500</td>\n",
       "    </tr>\n",
       "  </tbody>\n",
       "</table>\n",
       "</div>"
      ],
      "text/plain": [
       "    Posted On       BHK    Size       Floor    Area Type  \\\n",
       "0         NaN       2.0  1100.0         NaN   Super Area   \n",
       "1  2022-05-13       2.0   800.0  1 out of 3   Super Area   \n",
       "2  2022-05-16       2.0  1000.0  1 out of 3   Super Area   \n",
       "3  2022-07-04       2.0   800.0  1 out of 2   Super Area   \n",
       "4  2022-05-09  2.0 room   850.0  1 out of 2  Carpet Area   \n",
       "\n",
       "              Area Locality             City Furnishing Status  \\\n",
       "0                    Bandel  India-! Kolkata       Unfurnished   \n",
       "1  Phool Bagan, Kankurgachi  India-! Kolkata    Semi-Furnished   \n",
       "2   Salt Lake City Sector 2  India-- Kolkata    Semi-Furnished   \n",
       "3                       NaN              NaN       Unfurnished   \n",
       "4             South Dum Dum  India-^ Kolkata       Unfurnished   \n",
       "\n",
       "     Tenant Preferred Bathroom Point of Contact   Rent  \n",
       "0  Bach^elors/Fam.ily      2.0    Contact Owner  10000  \n",
       "1  Bachelors\\/Family*      NaN              NaN  20000  \n",
       "2                 NaN      1.0    Contact Owner  17000  \n",
       "3  Bachel]ors/F@amily      1.0              NaN  10000  \n",
       "4         Bache[lors&      1.0    Contact Owner   7500  "
      ]
     },
     "execution_count": 3,
     "metadata": {},
     "output_type": "execute_result"
    }
   ],
   "source": [
    "df.head()"
   ]
  },
  {
   "cell_type": "code",
   "execution_count": 4,
   "id": "99d3e21a-c96a-44a8-bc83-854a3423ea6d",
   "metadata": {},
   "outputs": [
    {
     "name": "stdout",
     "output_type": "stream",
     "text": [
      "<class 'pandas.core.frame.DataFrame'>\n",
      "RangeIndex: 4746 entries, 0 to 4745\n",
      "Data columns (total 12 columns):\n",
      " #   Column             Non-Null Count  Dtype \n",
      "---  ------             --------------  ----- \n",
      " 0   Posted On          4084 non-null   object\n",
      " 1   BHK                3963 non-null   object\n",
      " 2   Size               3826 non-null   object\n",
      " 3   Floor              3960 non-null   object\n",
      " 4   Area Type          3804 non-null   object\n",
      " 5   Area Locality      4146 non-null   object\n",
      " 6   City               4091 non-null   object\n",
      " 7   Furnishing Status  4042 non-null   object\n",
      " 8   Tenant Preferred   4094 non-null   object\n",
      " 9   Bathroom           4205 non-null   object\n",
      " 10  Point of Contact   4137 non-null   object\n",
      " 11  Rent               4746 non-null   int64 \n",
      "dtypes: int64(1), object(11)\n",
      "memory usage: 445.1+ KB\n"
     ]
    }
   ],
   "source": [
    "df.info()"
   ]
  },
  {
   "cell_type": "code",
   "execution_count": 5,
   "id": "2056c03e-01de-4bae-a1e6-f6ce4b8ba1f9",
   "metadata": {},
   "outputs": [
    {
     "data": {
      "text/html": [
       "<div>\n",
       "<style scoped>\n",
       "    .dataframe tbody tr th:only-of-type {\n",
       "        vertical-align: middle;\n",
       "    }\n",
       "\n",
       "    .dataframe tbody tr th {\n",
       "        vertical-align: top;\n",
       "    }\n",
       "\n",
       "    .dataframe thead th {\n",
       "        text-align: right;\n",
       "    }\n",
       "</style>\n",
       "<table border=\"1\" class=\"dataframe\">\n",
       "  <thead>\n",
       "    <tr style=\"text-align: right;\">\n",
       "      <th></th>\n",
       "      <th>Rent</th>\n",
       "    </tr>\n",
       "  </thead>\n",
       "  <tbody>\n",
       "    <tr>\n",
       "      <th>count</th>\n",
       "      <td>4.746000e+03</td>\n",
       "    </tr>\n",
       "    <tr>\n",
       "      <th>mean</th>\n",
       "      <td>3.499345e+04</td>\n",
       "    </tr>\n",
       "    <tr>\n",
       "      <th>std</th>\n",
       "      <td>7.810641e+04</td>\n",
       "    </tr>\n",
       "    <tr>\n",
       "      <th>min</th>\n",
       "      <td>1.200000e+03</td>\n",
       "    </tr>\n",
       "    <tr>\n",
       "      <th>25%</th>\n",
       "      <td>1.000000e+04</td>\n",
       "    </tr>\n",
       "    <tr>\n",
       "      <th>50%</th>\n",
       "      <td>1.600000e+04</td>\n",
       "    </tr>\n",
       "    <tr>\n",
       "      <th>75%</th>\n",
       "      <td>3.300000e+04</td>\n",
       "    </tr>\n",
       "    <tr>\n",
       "      <th>max</th>\n",
       "      <td>3.500000e+06</td>\n",
       "    </tr>\n",
       "  </tbody>\n",
       "</table>\n",
       "</div>"
      ],
      "text/plain": [
       "               Rent\n",
       "count  4.746000e+03\n",
       "mean   3.499345e+04\n",
       "std    7.810641e+04\n",
       "min    1.200000e+03\n",
       "25%    1.000000e+04\n",
       "50%    1.600000e+04\n",
       "75%    3.300000e+04\n",
       "max    3.500000e+06"
      ]
     },
     "execution_count": 5,
     "metadata": {},
     "output_type": "execute_result"
    }
   ],
   "source": [
    "df.describe()"
   ]
  },
  {
   "cell_type": "code",
   "execution_count": 6,
   "id": "20069c82-aa57-4bdc-b1db-f834ae704ffa",
   "metadata": {},
   "outputs": [
    {
     "data": {
      "text/plain": [
       "Posted On            662\n",
       "BHK                  783\n",
       "Size                 920\n",
       "Floor                786\n",
       "Area Type            942\n",
       "Area Locality        600\n",
       "City                 655\n",
       "Furnishing Status    704\n",
       "Tenant Preferred     652\n",
       "Bathroom             541\n",
       "Point of Contact     609\n",
       "Rent                   0\n",
       "dtype: int64"
      ]
     },
     "execution_count": 6,
     "metadata": {},
     "output_type": "execute_result"
    }
   ],
   "source": [
    "df.isnull().sum()"
   ]
  },
  {
   "cell_type": "code",
   "execution_count": 7,
   "id": "142552e9-4788-4aba-b1c5-afdee57c3356",
   "metadata": {},
   "outputs": [
    {
     "data": {
      "text/plain": [
       "array(['2.0', '2.0 room', '1.0', nan, '3.0', '1.0 room', '6.0', '4.0',\n",
       "       '3.0 room', '5.0', '5.0 room', '4.0 room', '6.0 room'],\n",
       "      dtype=object)"
      ]
     },
     "execution_count": 7,
     "metadata": {},
     "output_type": "execute_result"
    }
   ],
   "source": [
    "df['BHK'].unique()"
   ]
  },
  {
   "cell_type": "code",
   "execution_count": 8,
   "id": "1cb8d7ad-4fce-45e7-a142-9bd858fbb6bd",
   "metadata": {},
   "outputs": [],
   "source": [
    "df['BHK'] = df['BHK'].str.extract(r'(\\d+)')"
   ]
  },
  {
   "cell_type": "code",
   "execution_count": 9,
   "id": "d55280cd-d19e-4b4c-a6ff-7aa0ae1206d6",
   "metadata": {},
   "outputs": [
    {
     "data": {
      "text/plain": [
       "array(['2', '1', nan, '3', '6', '4', '5'], dtype=object)"
      ]
     },
     "execution_count": 9,
     "metadata": {},
     "output_type": "execute_result"
    }
   ],
   "source": [
    "df['BHK'].unique()"
   ]
  },
  {
   "cell_type": "code",
   "execution_count": 10,
   "id": "2a59b156-93fb-4ac8-a32e-1b242cf7ec32",
   "metadata": {},
   "outputs": [
    {
     "data": {
      "text/plain": [
       "BHK\n",
       "2    1921\n",
       "1     947\n",
       "3     911\n",
       "4     162\n",
       "5      17\n",
       "6       5\n",
       "Name: count, dtype: int64"
      ]
     },
     "execution_count": 10,
     "metadata": {},
     "output_type": "execute_result"
    }
   ],
   "source": [
    "df['BHK'].value_counts()"
   ]
  },
  {
   "cell_type": "code",
   "execution_count": 11,
   "id": "43376ddc-d145-4200-8c5f-b03645e209d6",
   "metadata": {},
   "outputs": [],
   "source": [
    "df['BHK'] = pd.to_numeric(df['BHK'])"
   ]
  },
  {
   "cell_type": "code",
   "execution_count": 12,
   "id": "1c100620-c2ba-4ee6-b712-0cc5c7531fe1",
   "metadata": {},
   "outputs": [
    {
     "data": {
      "text/plain": [
       "array(['1100.0', '800.0', '1000.0', '850.0', '600.0', '700.0', '250.0',\n",
       "       nan, '1200.0', '400.0', '375.0', '900.0', '1286.0', '2000.0',\n",
       "       '650.0', '300.0', '1600.0', '355.0', '350.0', '550.0', '500.0',\n",
       "       '630.0', '270.0', '1500.0', '1068.0', '150.0', '450.0', '720.0',\n",
       "       '680.0', '950.0', '1800.0', '480.0', '435.0', '1300.0', '1450.0',\n",
       "       '750.0', '220.0', '20.0', '200.0', '840.0', '740.0', '490.0',\n",
       "       '280.0', '120.0', '1220.0', '670.0', '240.0', '2200.0', '685.0',\n",
       "       '44.0', '392.0', '710.0', '1400.0', '160.0', '1250.0', '839.0',\n",
       "       '230.0', '620.0', '1350.0Square Feet', '723.0', '320.0', '2160.0',\n",
       "       '1700.0', '130.0', '505.0', '4000.0', '1190.0', '1012.0', '812.0',\n",
       "       '420.0', '1750.0', '830.0', '1050.0', '960.0', '756.0', '288.0',\n",
       "       '1600.0Square Feet', '986.0', '322.0', '957.0', '1430.0', '1320.0',\n",
       "       '650.0Square Feet', '475.0', '550.0Square Feet', '570.0', '460.0',\n",
       "       '530.0', '850.0Square Feet', '558.0', '175.0', '721.0', '2210.0',\n",
       "       '675.0', '1880.0', '640.0', '518.0', '777.0', '2308.0', '890.0',\n",
       "       '888.0', '275.0', '424.0', '610.0', '722.0', '1150.0', '470.0',\n",
       "       '410.0', '435.0Square Feet', '932.0', '560.0', '3000.0', '751.0',\n",
       "       '696.0', '2500.0', '715.0', '1337.0', '737.0', '760.0', '365.0',\n",
       "       '2000.0Square Feet', '1330.0', '2600.0', '1783.0', '565.0',\n",
       "       '1080.0', '825.0', '1545.0', '780.0', '695.0', '1095.0', '790.0',\n",
       "       '661.0', '1350.0', '330.0', '925.0', '1105.0', '1460.0', '415.0',\n",
       "       '1755.0', '628.0', '1064.0', '845.0', '1915.0', '807.0',\n",
       "       '1100.0Square Feet', '380.0', '428.0', '1550.0', '860.0', '433.0',\n",
       "       '1225.0', '1650.0', '305.0', '690.0', '635.0', '935.0', '535.0',\n",
       "       '3700.0', '1208.0', '3200.0', '225.0', '1900.0', '905.0', '430.0',\n",
       "       '795.0', '575.0', '656.0', '719.0', '3064.0', '3400.0', '980.0',\n",
       "       '413.0', '1850.0', '1705.0', '1355.0', '610.0Square Feet', '471.0',\n",
       "       '1528.0Square Feet', '1030.0', '583.0', '806.0', '390.0', '994.0',\n",
       "       '520.0', '2750.0', '2424.0', '724.0', '1076.0', '485.0', '385.0',\n",
       "       '704.0', '755.0', '700.0Square Feet', '625.0', '805.0', '742.0',\n",
       "       '1265.0', '325.0', '1233.0', '2120.0', '1937.0', '596.0', '1950.0',\n",
       "       '510.0', '1260.0', '770.0', '3900.0', '660.0Square Feet', '694.0',\n",
       "       '1740.0', '472.0', '421.0', '831.0', '753.0', '2800.0', '1197.0',\n",
       "       '880.0', '1088.0', '2650.0', '975.0', '1325.0', '785.0', '1016.0',\n",
       "       '508.0', '623.0', '1358.0', '1255.0', '450.0Square Feet', '870.0',\n",
       "       '1691.0', '615.0', '663.0', '1432.0', '425.0', '649.0', '882.0',\n",
       "       '1710.0', '555.0', '854.0', '1130.0', '495.0', '407.0', '1092.0',\n",
       "       '669.0', '725.0', '1110.0Square Feet', '1110.0', '999.0', '1256.0',\n",
       "       '889.0', '660.0', '434.0', '1121.0', '937.0', '360.0', '379.0',\n",
       "       '440.0', '582.0', '444.0', '1617.0', '836.0', '585.0', '2046.0',\n",
       "       '730.0', '229.0', '910.0', '1648.0', '820.0', '771.0', '465.0',\n",
       "       '1073.0', '310.0Square Feet', '1649.0', '1560.0',\n",
       "       '4500.0Square Feet', '1425.0Square Feet', '1375.0', '920.0',\n",
       "       '265.0', '1663.0', '377.0', '2080.0', '965.0', '2100.0Square Feet',\n",
       "       '1380.0', '540.0', '500.0Square Feet', '970.0', '340.0', '641.0',\n",
       "       '810.0', '875.0', '758.0', '2880.0', '1962.0', '590.0', '1120.0',\n",
       "       '2729.0', '1040.0', '1403.0', '2608.0', '1400.0Square Feet',\n",
       "       '1045.0', '1021.0', '1155.0', '2900.0', '3150.0',\n",
       "       '100.0Square Feet', '1771.0', '773.0', '1840.0', '990.0', '1360.0',\n",
       "       '1757.0', '1281.0', '3500.0', '1221.0', '416.0', '976.0', '1387.0',\n",
       "       '1020.0', '400.0Square Feet', '1645.0', '3276.0', '1893.0',\n",
       "       '1296.0', '455.0', '1066.0', '2150.0', '2110.0', '1025.0',\n",
       "       '1180.0', '580.0', '904.0', '1252.0', '144.0', '1005.0', '1274.0',\n",
       "       '1480.0', '4500.0', '600.0Square Feet', '1115.0', '1278.0',\n",
       "       '4105.0', '1055.0', '800.0Square Feet', '1603.0',\n",
       "       '1900.0Square Feet', '894.0', '2400.0', '1200.0Square Feet',\n",
       "       '1680.0', '1475.0', '2100.0', '4341.0', '846.0', '110.0', '5700.0',\n",
       "       '1760.0', '775.0', '445.0', '2710.0', '1768.0', '1280.0', '532.0',\n",
       "       '1465.0', '940.0', '1789.0', '1618.0', '1580.0', '4550.0',\n",
       "       '1333.0', '1875.0', '1065.0', '1660.0', '625.0Square Feet',\n",
       "       '100.0', '1305.0', '1188.0', '2390.0', '1788.0', '1520.0',\n",
       "       '1464.0', '180.0', '140.0', '70.0', '60.0', '170.0', '48.0',\n",
       "       '1901.0', '145.0', '25.0', '892.0', '80.0', '45.0', '75.0',\n",
       "       '1125.0', '50.0', '63.0', '1440.0', '55.0', '65.0', '2300.0',\n",
       "       '84.0', '90.0', '446.0', '125.0', '2700.0', '30.0', '497.0',\n",
       "       '95.0', '272.0', '585.0Square Feet', '2925.0', '96.0',\n",
       "       '1800.0Square Feet', '545.0', '165.0', '1872.0', '40.0', '42.0',\n",
       "       '3800.0', '1205.0', '950.0Square Feet', '900.0Square Feet', '77.0',\n",
       "       '1000.0Square Feet', '1428.0', '2117.0', '1462.0', '674.0',\n",
       "       '1540.0', '985.0', '930.0', '1234.0', '1162.0', '1425.0', '1145.0',\n",
       "       '3600.0', '898.0', '2036.0', '115.0', '2064.0', '1557.0', '917.0',\n",
       "       '579.0Square Feet', '1920.0', '1002.0', '778.0', '1567.0',\n",
       "       '1113.0', '1175.0', '618.0', '705.0', '901.0', '1340.0', '1246.0',\n",
       "       '1530.0', '1780.0', '1500.0Square Feet', '1402.0Square Feet',\n",
       "       '1484.0', '1065.0Square Feet', '1140.0', '1525.0', '2550.0',\n",
       "       '1132.0', '3300.0', '1785.0', '985.0Square Feet', '1975.0',\n",
       "       '914.0', '1170.0Square Feet', '1444.0', '1503.0', '966.0',\n",
       "       '2900.0Square Feet', '1570.0', '1157.0', '1153.0', '506.0',\n",
       "       '749.0', '1107.0', '1235.0', '1415.0', '281.0', '6000.0', '926.0',\n",
       "       '2280.0', '826.0', '1050.0Square Feet', '745.0', '833.0', '809.0',\n",
       "       '1062.0', '2240.0', '1424.0', '1075.0', '2317.0', '1109.0',\n",
       "       '1290.0', '939.0', '1610.0', '1420.0', '1152.0', '1144.0',\n",
       "       '1903.0', '1383.0', '1912.0', '1146.0', '909.0',\n",
       "       '1570.0Square Feet', '750.0Square Feet', '1270.0', '1625.0',\n",
       "       '1535.0', '647.0', '2061.0', '919.0', '2210.0Square Feet',\n",
       "       '1815.0', '2430.0', '1210.0', '1010.0', '2290.0', '1473.0',\n",
       "       '4050.0Square Feet', '2520.0', '242.0', '1725.0', '878.0',\n",
       "       '1956.0', '1955.0', '1090.0', '1070.0', '3133.0', '2050.0',\n",
       "       '1565.0', '1135.0', '3698.0', '2405.0', '1248.0', '3115.0',\n",
       "       '1374.0', '927.0', '562.0', '1720.0', '103.0', '1730.0', '133.0',\n",
       "       '1315.0', '1230.0', '4761.0', '1970.0', '1940.0', '1170.0',\n",
       "       '167.0', '933.0', '1960.0', '1275.0', '1285.0', '1742.0', '2235.0',\n",
       "       '1283.0', '3455.0', '3050.0', '7000.0', '1606.0', '2352.0',\n",
       "       '2671.0', '1156.0', '67.0', '1060.0', '2780.0', '1685.0', '853.0',\n",
       "       '2310.0', '1965.0', '1834.0', '10.0', '3789.0', '1160.0', '1422.0',\n",
       "       '1124.0', '4200.0', '3250.0', '214.0', '855.0'], dtype=object)"
      ]
     },
     "execution_count": 12,
     "metadata": {},
     "output_type": "execute_result"
    }
   ],
   "source": [
    "df['Size'].unique()"
   ]
  },
  {
   "cell_type": "code",
   "execution_count": 13,
   "id": "99880542-c061-4daf-8c57-2a20abe4fccb",
   "metadata": {},
   "outputs": [],
   "source": [
    "df['Size'] = df['Size'].str.extract(r'(\\d+)')"
   ]
  },
  {
   "cell_type": "code",
   "execution_count": 14,
   "id": "ed9744b7-1dfd-412d-b8ec-1d4c326d617e",
   "metadata": {},
   "outputs": [
    {
     "data": {
      "text/plain": [
       "array(['1100', '800', '1000', '850', '600', '700', '250', nan, '1200',\n",
       "       '400', '375', '900', '1286', '2000', '650', '300', '1600', '355',\n",
       "       '350', '550', '500', '630', '270', '1500', '1068', '150', '450',\n",
       "       '720', '680', '950', '1800', '480', '435', '1300', '1450', '750',\n",
       "       '220', '20', '200', '840', '740', '490', '280', '120', '1220',\n",
       "       '670', '240', '2200', '685', '44', '392', '710', '1400', '160',\n",
       "       '1250', '839', '230', '620', '1350', '723', '320', '2160', '1700',\n",
       "       '130', '505', '4000', '1190', '1012', '812', '420', '1750', '830',\n",
       "       '1050', '960', '756', '288', '986', '322', '957', '1430', '1320',\n",
       "       '475', '570', '460', '530', '558', '175', '721', '2210', '675',\n",
       "       '1880', '640', '518', '777', '2308', '890', '888', '275', '424',\n",
       "       '610', '722', '1150', '470', '410', '932', '560', '3000', '751',\n",
       "       '696', '2500', '715', '1337', '737', '760', '365', '1330', '2600',\n",
       "       '1783', '565', '1080', '825', '1545', '780', '695', '1095', '790',\n",
       "       '661', '330', '925', '1105', '1460', '415', '1755', '628', '1064',\n",
       "       '845', '1915', '807', '380', '428', '1550', '860', '433', '1225',\n",
       "       '1650', '305', '690', '635', '935', '535', '3700', '1208', '3200',\n",
       "       '225', '1900', '905', '430', '795', '575', '656', '719', '3064',\n",
       "       '3400', '980', '413', '1850', '1705', '1355', '471', '1528',\n",
       "       '1030', '583', '806', '390', '994', '520', '2750', '2424', '724',\n",
       "       '1076', '485', '385', '704', '755', '625', '805', '742', '1265',\n",
       "       '325', '1233', '2120', '1937', '596', '1950', '510', '1260', '770',\n",
       "       '3900', '660', '694', '1740', '472', '421', '831', '753', '2800',\n",
       "       '1197', '880', '1088', '2650', '975', '1325', '785', '1016', '508',\n",
       "       '623', '1358', '1255', '870', '1691', '615', '663', '1432', '425',\n",
       "       '649', '882', '1710', '555', '854', '1130', '495', '407', '1092',\n",
       "       '669', '725', '1110', '999', '1256', '889', '434', '1121', '937',\n",
       "       '360', '379', '440', '582', '444', '1617', '836', '585', '2046',\n",
       "       '730', '229', '910', '1648', '820', '771', '465', '1073', '310',\n",
       "       '1649', '1560', '4500', '1425', '1375', '920', '265', '1663',\n",
       "       '377', '2080', '965', '2100', '1380', '540', '970', '340', '641',\n",
       "       '810', '875', '758', '2880', '1962', '590', '1120', '2729', '1040',\n",
       "       '1403', '2608', '1045', '1021', '1155', '2900', '3150', '100',\n",
       "       '1771', '773', '1840', '990', '1360', '1757', '1281', '3500',\n",
       "       '1221', '416', '976', '1387', '1020', '1645', '3276', '1893',\n",
       "       '1296', '455', '1066', '2150', '2110', '1025', '1180', '580',\n",
       "       '904', '1252', '144', '1005', '1274', '1480', '1115', '1278',\n",
       "       '4105', '1055', '1603', '894', '2400', '1680', '1475', '4341',\n",
       "       '846', '110', '5700', '1760', '775', '445', '2710', '1768', '1280',\n",
       "       '532', '1465', '940', '1789', '1618', '1580', '4550', '1333',\n",
       "       '1875', '1065', '1660', '1305', '1188', '2390', '1788', '1520',\n",
       "       '1464', '180', '140', '70', '60', '170', '48', '1901', '145', '25',\n",
       "       '892', '80', '45', '75', '1125', '50', '63', '1440', '55', '65',\n",
       "       '2300', '84', '90', '446', '125', '2700', '30', '497', '95', '272',\n",
       "       '2925', '96', '545', '165', '1872', '40', '42', '3800', '1205',\n",
       "       '77', '1428', '2117', '1462', '674', '1540', '985', '930', '1234',\n",
       "       '1162', '1145', '3600', '898', '2036', '115', '2064', '1557',\n",
       "       '917', '579', '1920', '1002', '778', '1567', '1113', '1175', '618',\n",
       "       '705', '901', '1340', '1246', '1530', '1780', '1402', '1484',\n",
       "       '1140', '1525', '2550', '1132', '3300', '1785', '1975', '914',\n",
       "       '1170', '1444', '1503', '966', '1570', '1157', '1153', '506',\n",
       "       '749', '1107', '1235', '1415', '281', '6000', '926', '2280', '826',\n",
       "       '745', '833', '809', '1062', '2240', '1424', '1075', '2317',\n",
       "       '1109', '1290', '939', '1610', '1420', '1152', '1144', '1903',\n",
       "       '1383', '1912', '1146', '909', '1270', '1625', '1535', '647',\n",
       "       '2061', '919', '1815', '2430', '1210', '1010', '2290', '1473',\n",
       "       '4050', '2520', '242', '1725', '878', '1956', '1955', '1090',\n",
       "       '1070', '3133', '2050', '1565', '1135', '3698', '2405', '1248',\n",
       "       '3115', '1374', '927', '562', '1720', '103', '1730', '133', '1315',\n",
       "       '1230', '4761', '1970', '1940', '167', '933', '1960', '1275',\n",
       "       '1285', '1742', '2235', '1283', '3455', '3050', '7000', '1606',\n",
       "       '2352', '2671', '1156', '67', '1060', '2780', '1685', '853',\n",
       "       '2310', '1965', '1834', '10', '3789', '1160', '1422', '1124',\n",
       "       '4200', '3250', '214', '855'], dtype=object)"
      ]
     },
     "execution_count": 14,
     "metadata": {},
     "output_type": "execute_result"
    }
   ],
   "source": [
    "df['Size'].unique()"
   ]
  },
  {
   "cell_type": "code",
   "execution_count": 15,
   "id": "2f283a43-6ffd-4082-a4d1-1439ce3ada14",
   "metadata": {},
   "outputs": [],
   "source": [
    "df['Size'] = pd.to_numeric(df['Size'])"
   ]
  },
  {
   "cell_type": "code",
   "execution_count": 16,
   "id": "99cc5b01-68b7-4602-a26f-75ec08941345",
   "metadata": {},
   "outputs": [
    {
     "data": {
      "text/plain": [
       "count    3826.000000\n",
       "mean      967.802405\n",
       "std       627.895502\n",
       "min        10.000000\n",
       "25%       551.250000\n",
       "50%       845.500000\n",
       "75%      1200.000000\n",
       "max      7000.000000\n",
       "Name: Size, dtype: float64"
      ]
     },
     "execution_count": 16,
     "metadata": {},
     "output_type": "execute_result"
    }
   ],
   "source": [
    "df['Size'].describe()"
   ]
  },
  {
   "cell_type": "code",
   "execution_count": 17,
   "id": "db4b1e7b-f073-4470-a5ad-74735ce2cf54",
   "metadata": {},
   "outputs": [
    {
     "data": {
      "text/plain": [
       "array([nan, '1 out of 3', '1 out of 2', 'Ground out of 1',\n",
       "       'Ground out of 4', '1 out of 4', '1 out of 1', 'Ground out of 2',\n",
       "       'Ground out of 3', '2 out of 3', '4 out of 5', '2 out of 2',\n",
       "       '2 out of 5', '3 out of 3', '5 out of 5', '4 out of 4',\n",
       "       '7 out of 8', '2 out of 4', '3 out of 4', '1 out of 5',\n",
       "       'Ground out of 6', 'Upper Basement out of 4', 'Ground out of 5',\n",
       "       '3 out of 5', '11 out of 19', '5 out of 10', '11 out of 14',\n",
       "       'Lower Basement out of 2', '2 out of 7', '4 out of 10',\n",
       "       '7 out of 10', '2 out of 13', '6 out of 7', '4 out of 7',\n",
       "       '14 out of 14', '43 out of 78', '2 out of 8', '13 out of 18',\n",
       "       '18 out of 24', '3 out of 7', '17 out of 31', '11 out of 21',\n",
       "       '14 out of 23', '19 out of 24', '3 out of 21', '8 out of 8',\n",
       "       '6 out of 12', '4 out of 58', '60 out of 66', '34 out of 48',\n",
       "       '5 out of 8', '14 out of 40', '5 out of 7', '26 out of 44',\n",
       "       '1 out of 8', '25 out of 42', '25 out of 41', '53 out of 78',\n",
       "       'Ground out of 7', '14 out of 20', '16 out of 23', '39 out of 60',\n",
       "       '16 out of 21', '10 out of 32', '4 out of 8', '12 out of 24',\n",
       "       '32 out of 41', '13 out of 21', '47 out of 89', '7 out of 41',\n",
       "       '28 out of 30', '13 out of 15', '6 out of 21', '8 out of 16',\n",
       "       '5 out of 19', '3 out of 11', '17 out of 42', '8 out of 28',\n",
       "       '9 out of 15', '14 out of 22', '18 out of 40', '9 out of 17',\n",
       "       '12 out of 45', '25 out of 35', '4 out of 14', '2 out of 6',\n",
       "       'Upper Basement out of 20', '5 out of 14',\n",
       "       'Upper Basement out of 9', '5 out of 20',\n",
       "       'Upper Basement out of 40', '5 out of 18', '34 out of 58',\n",
       "       '4 out of 6', '20 out of 22', '12 out of 19', '15 out of 18',\n",
       "       '65 out of 78', '6 out of 16', '17 out of 22', '6 out of 24',\n",
       "       '40 out of 75', '19 out of 38', '11 out of 28', '17 out of 24',\n",
       "       '15 out of 19', '9 out of 10', '7 out of 12', '8 out of 20',\n",
       "       '11 out of 13', '9 out of 19', '37 out of 51', '6 out of 11',\n",
       "       '8 out of 15', '11 out of 20', '10 out of 23',\n",
       "       'Upper Basement out of 10', '4 out of 11', '17 out of 43',\n",
       "       '7 out of 22', '14 out of 18', '6 out of 10', '8 out of 12',\n",
       "       '3 out of 18', '7 out of 7', '14 out of 58', '18 out of 23',\n",
       "       '19 out of 19', '9 out of 20', '13 out of 14', '11 out of 22',\n",
       "       'Upper Basement out of 30', '12 out of 14', '12 out of 13',\n",
       "       '2 out of 12', '9 out of 22', '7 out of 14', '10 out of 22',\n",
       "       '10 out of 12', '5 out of 13', '7 out of 21', '14 out of 21',\n",
       "       '17 out of 25', '9 out of 14', '8 out of 27', '3 out of 6',\n",
       "       '17 out of 20', '18 out of 22', '9 out of 30', '3 out of 8',\n",
       "       '17 out of 27', '4 out of 12', '10 out of 24', '65 out of 76',\n",
       "       '1 out of 7', '7 out of 9', '17 out of 60', '10 out of 16',\n",
       "       '18 out of 25', '5 out of 11', '15 out of 17', '15 out of 23',\n",
       "       '5 out of 17', '3 out of 28', '16 out of 32', '21 out of 22',\n",
       "       '7 out of 13', '9 out of 12', '15 out of 32', '18 out of 27',\n",
       "       '15 out of 16', '18 out of 45', '15 out of 15', '6 out of 14',\n",
       "       '16 out of 36', '30 out of 44', '30 out of 37', '2 out of 9',\n",
       "       '12 out of 22', '4 out of 9', '2 out of 22', '5 out of 6',\n",
       "       '6 out of 18', '35 out of 55', '30 out of 45', '5 out of 12',\n",
       "       '5 out of 9', '13 out of 23', '9 out of 38', '8 out of 13',\n",
       "       '11 out of 24', '9 out of 16', '9 out of 31', '7 out of 15',\n",
       "       '3 out of 9', '22 out of 30', '3 out of 58', '4 out of 15',\n",
       "       '6 out of 8', '53 out of 60', '5 out of 22', '15 out of 22',\n",
       "       '19 out of 21', '9 out of 40', 'Ground out of 8', '44 out of 75',\n",
       "       '8 out of 17', '3 out of 14', '12 out of 31', '26 out of 42',\n",
       "       '2 out of 45', '12 out of 68', '17 out of 36', '41 out of 41',\n",
       "       '14 out of 68', '14 out of 17', '46 out of 76', '12 out of 20',\n",
       "       '18 out of 32', '10 out of 25', '17 out of 29', '10 out of 31',\n",
       "       '10 out of 15', '13 out of 16', '8 out of 10', '18 out of 21',\n",
       "       '27 out of 58', '1 out of 6', '19 out of 25', '3 out of 15',\n",
       "       '25 out of 43', '10 out of 14', '12 out of 18', '8 out of 14',\n",
       "       '11 out of 12', '10 out of 13', '18 out of 19', '10 out of 20',\n",
       "       '12 out of 29', '10 out of 18', 'Lower Basement out of 18',\n",
       "       '48 out of 68', '12 out of 42', '15 out of 20', '16 out of 22',\n",
       "       '35 out of 68', '18 out of 30', '11 out of 31', '50 out of 75',\n",
       "       '18 out of 26', '12 out of 27', '16 out of 20', '24 out of 55',\n",
       "       '16 out of 37', 'Upper Basement out of 7', '6 out of 15',\n",
       "       '11 out of 27', '11 out of 23', '3 out of 12', '14 out of 48',\n",
       "       '29 out of 35', '15 out of 36', '15 out of 25', '15 out of 28',\n",
       "       '8 out of 11', '6 out of 20', '23 out of 23', '5 out of 15',\n",
       "       '16 out of 18', '2 out of 10', '40 out of 50', '34 out of 40',\n",
       "       'Upper Basement out of 22', '8 out of 23', '5 out of 21',\n",
       "       '20 out of 32', '9 out of 18', '10 out of 37', '25 out of 48',\n",
       "       '4 out of 22', '11 out of 11', '5 out of 23', '11 out of 18',\n",
       "       '4 out of 20', '3 out of 13', '30 out of 58', '10 out of 11',\n",
       "       '15 out of 43', '7 out of 16', 'Upper Basement out of 16',\n",
       "       '9 out of 55', '11 out of 25', '7 out of 27', '14 out of 27',\n",
       "       '16 out of 27', '25 out of 50', '6 out of 30', '21 out of 23',\n",
       "       '20 out of 41', '3 out of 62', '4 out of 13', '7 out of 17',\n",
       "       '12 out of 21', '15 out of 58', '36 out of 45', '9 out of 28',\n",
       "       '22 out of 52', '10 out of 19', '21 out of 58', '48 out of 54',\n",
       "       '11 out of 15', '8 out of 18', '19 out of 22', '15 out of 37',\n",
       "       '7 out of 23', '2 out of 17', '5 out of 16', '76 out of 78',\n",
       "       '3 out of 10', '20 out of 27', '8 out of 36', '14 out of 33',\n",
       "       '21 out of 21', '12 out of 25', '18 out of 29', '14 out of 35',\n",
       "       '7 out of 20', '20 out of 37', '9 out of 35', '27 out of 27',\n",
       "       '19 out of 33', '18 out of 20', '13 out of 40', '15 out of 60',\n",
       "       '9 out of 11', '8 out of 22', '27 out of 45', '19 out of 20',\n",
       "       '32 out of 46', '19 out of 85', '3 out of 23', '34 out of 46',\n",
       "       '15 out of 24', '4 out of 27', '19 out of 27', '35 out of 60',\n",
       "       '9 out of 21', '21 out of 33', '2 out of 24', '24 out of 24',\n",
       "       '18 out of 33', '1 out of 10', '45 out of 60', '60 out of 71',\n",
       "       '36 out of 81', '24 out of 60', '16 out of 38', '8 out of 45',\n",
       "       'Ground out of 16', '8 out of 32', '10 out of 10', '7 out of 19',\n",
       "       '23 out of 40', '7 out of 18', '8 out of 19', '6 out of 17',\n",
       "       '16 out of 34', 'Ground out of 12', '6 out of 9',\n",
       "       'Ground out of 18', '20 out of 25', '9 out of 32', '26 out of 32',\n",
       "       '12 out of 16', '17 out of 18', '24 out of 25', '19 out of 26',\n",
       "       '17 out of 19', '14 out of 30', '8 out of 9', '1 out of 9',\n",
       "       '3 out of 17', '12 out of 23', '1 out of 24', '1 out of 12', '3',\n",
       "       '15 out of 29', '20 out of 20', '14 out of 29',\n",
       "       'Lower Basement out of 1', '13 out of 17', '1 out of 14',\n",
       "       '2 out of 14', '7 out of 11', '24 out of 31', '4 out of 16',\n",
       "       '2 out of 16', '9 out of 13', '1 out of 11', '6 out of 29',\n",
       "       '9 out of 9', '1 out of 15', 'Ground out of 14', '19 out of 31',\n",
       "       '1 out of 16', '25 out of 32', '11 out of 16', '11 out of 17',\n",
       "       'Upper Basement out of 3', '4 out of 24', '7 out of 30',\n",
       "       'Ground out of 13', '2 out of 25', '23 out of 30', '4 out of 30',\n",
       "       '13 out of 25', '23 out of 35', 'Ground out of 10', '5 out of 34',\n",
       "       '12 out of 17', '20 out of 35', '1', '4 out of 31', '4 out of 26',\n",
       "       '4 out of 17', '1 out of 35', '11 out of 35', 'Ground out of 15',\n",
       "       'Ground out of 27', '15 out of 30', '12 out of 30',\n",
       "       'Upper Basement out of 2', '6 out of 13', '23 out of 34'],\n",
       "      dtype=object)"
      ]
     },
     "execution_count": 17,
     "metadata": {},
     "output_type": "execute_result"
    }
   ],
   "source": [
    "df['Floor'].unique()"
   ]
  },
  {
   "cell_type": "code",
   "execution_count": 18,
   "id": "53529af3-f919-4c81-bbee-db6bf3005dcf",
   "metadata": {},
   "outputs": [],
   "source": [
    "df['Floor_number'] = df['Floor'].str.split(\" out of \").str[0]\n",
    "df['Total_Floors'] = df['Floor'].str.split(\" out of \").str[1]"
   ]
  },
  {
   "cell_type": "code",
   "execution_count": 19,
   "id": "5db7b337-43d5-4d48-9b5c-081ba0ea4bbd",
   "metadata": {},
   "outputs": [
    {
     "data": {
      "text/plain": [
       "array([nan, '1', 'Ground', '2', '4', '3', '5', '7', 'Upper Basement',\n",
       "       '11', 'Lower Basement', '6', '14', '43', '13', '18', '17', '19',\n",
       "       '8', '60', '34', '26', '25', '53', '16', '39', '10', '12', '32',\n",
       "       '47', '28', '9', '20', '15', '65', '40', '37', '21', '30', '35',\n",
       "       '22', '44', '41', '46', '27', '48', '50', '24', '29', '23', '36',\n",
       "       '76', '45'], dtype=object)"
      ]
     },
     "execution_count": 19,
     "metadata": {},
     "output_type": "execute_result"
    }
   ],
   "source": [
    "df['Floor_number'].unique()"
   ]
  },
  {
   "cell_type": "code",
   "execution_count": 20,
   "id": "c1163c8c-4ad7-4467-b335-673d8881cd9f",
   "metadata": {},
   "outputs": [],
   "source": [
    "df['Floor_number'].replace({'Ground': 0 ,'Upper Basement':-1 , 'Lower Basement':-2}, inplace=True)"
   ]
  },
  {
   "cell_type": "code",
   "execution_count": 21,
   "id": "c381f736-1002-4f2a-8681-f82e11807e9e",
   "metadata": {},
   "outputs": [
    {
     "data": {
      "text/plain": [
       "array([nan, '1', 0, '2', '4', '3', '5', '7', -1, '11', -2, '6', '14',\n",
       "       '43', '13', '18', '17', '19', '8', '60', '34', '26', '25', '53',\n",
       "       '16', '39', '10', '12', '32', '47', '28', '9', '20', '15', '65',\n",
       "       '40', '37', '21', '30', '35', '22', '44', '41', '46', '27', '48',\n",
       "       '50', '24', '29', '23', '36', '76', '45'], dtype=object)"
      ]
     },
     "execution_count": 21,
     "metadata": {},
     "output_type": "execute_result"
    }
   ],
   "source": [
    "df['Floor_number'].unique()"
   ]
  },
  {
   "cell_type": "code",
   "execution_count": 22,
   "id": "745bd559-a332-452d-a90d-8c8b9d07e8a9",
   "metadata": {},
   "outputs": [
    {
     "data": {
      "text/plain": [
       "array([nan, '3', '2', '1', '4', '5', '8', '6', '19', '10', '14', '7',\n",
       "       '13', '78', '18', '24', '31', '21', '23', '12', '58', '66', '48',\n",
       "       '40', '44', '42', '41', '20', '60', '32', '89', '30', '15', '16',\n",
       "       '11', '28', '22', '17', '45', '35', '9', '75', '38', '51', '43',\n",
       "       '25', '27', '76', '36', '37', '55', '68', '29', '26', '50', '62',\n",
       "       '52', '54', '33', '46', '85', '71', '81', '34'], dtype=object)"
      ]
     },
     "execution_count": 22,
     "metadata": {},
     "output_type": "execute_result"
    }
   ],
   "source": [
    "df['Total_Floors'].unique()"
   ]
  },
  {
   "cell_type": "code",
   "execution_count": 23,
   "id": "66aff95b-a3b5-4778-9c6d-6d2f53c3cc40",
   "metadata": {},
   "outputs": [],
   "source": [
    "df['Floor_number'] = pd.to_numeric(df['Floor_number'])\n",
    "df['Total_Floors'] = pd.to_numeric(df['Total_Floors'])"
   ]
  },
  {
   "cell_type": "code",
   "execution_count": 24,
   "id": "74a393ea-8953-48c0-b991-dfda091f2018",
   "metadata": {},
   "outputs": [
    {
     "data": {
      "text/plain": [
       "array(['Super Area', 'Carpet Area', nan, 'CARPET AREA', 'SUPER AREA',\n",
       "       'Built Area'], dtype=object)"
      ]
     },
     "execution_count": 24,
     "metadata": {},
     "output_type": "execute_result"
    }
   ],
   "source": [
    "df['Area Type'].unique()"
   ]
  },
  {
   "cell_type": "code",
   "execution_count": 25,
   "id": "e70767e6-7f45-4d64-b648-5b93eeb7c80d",
   "metadata": {},
   "outputs": [],
   "source": [
    "df['Area Type'] = df['Area Type'].str.capitalize()"
   ]
  },
  {
   "cell_type": "code",
   "execution_count": 26,
   "id": "76157387-7d86-4117-b43b-72b4f85c606e",
   "metadata": {},
   "outputs": [
    {
     "data": {
      "text/plain": [
       "array(['Super area', 'Carpet area', nan, 'Built area'], dtype=object)"
      ]
     },
     "execution_count": 26,
     "metadata": {},
     "output_type": "execute_result"
    }
   ],
   "source": [
    "df['Area Type'].unique()"
   ]
  },
  {
   "cell_type": "code",
   "execution_count": 27,
   "id": "3cf893c4-b767-49d7-970c-7657d73966e7",
   "metadata": {},
   "outputs": [
    {
     "data": {
      "text/plain": [
       "432                    Salt Lake City Sector 2\n",
       "2486    Safdarjung Development Area, Hauz Khas\n",
       "3413                                       NaN\n",
       "3212                                Mandaiveli\n",
       "2920                                 Pitampura\n",
       "648                       Lake Florence, Powai\n",
       "4067               Ashok Nagar, Himayath Nagar\n",
       "2595                              Gautam Nagar\n",
       "3208                                   T Nagar\n",
       "1093            Island City Centre, Dadar East\n",
       "3501                  Moulivakkam, Moulivakkam\n",
       "1585                                       NaN\n",
       "3621                                Arumbakkam\n",
       "1520                                Nri Layout\n",
       "1398                                       NaN\n",
       "4411                            Petbasheerabad\n",
       "1867                                       NaN\n",
       "4053                                IAS Colony\n",
       "901                              Borivali East\n",
       "3953                               Narayanguda\n",
       "Name: Area Locality, dtype: object"
      ]
     },
     "execution_count": 27,
     "metadata": {},
     "output_type": "execute_result"
    }
   ],
   "source": [
    "df['Area Locality'].sample(20)"
   ]
  },
  {
   "cell_type": "code",
   "execution_count": 28,
   "id": "bd0501e4-4965-4682-a94d-e85bfcdc8336",
   "metadata": {},
   "outputs": [
    {
     "data": {
      "text/plain": [
       "array(['India-! Kolkata', 'India-- Kolkata', nan, 'India-^ Kolkata',\n",
       "       'India-\\\\ Kolkata', 'India-% Kolkata', ',-9 Kolkata',\n",
       "       'India-/ Kolkata', '(-9 Kolkata', '^-9 Kolkata', '--9 Kolkata',\n",
       "       'India-* Kolkata', 'India-; Kolkata', 'India-. Kolkata',\n",
       "       '!-9 Kolkata', ':-9 Kolkata', '\\\\-9 Kolkata', ';-9 Kolkata',\n",
       "       'India-> Kolkata', '.-9 Kolkata', 'India-@ Kolkata',\n",
       "       'India-{ Kolkata', 'India-[ Kolkata', 'India-| Kolkata',\n",
       "       'India-} Kolkata', '\"-9 Kolkata', '|-9 Kolkata', \"'-9 Kolkata\",\n",
       "       '>-9 Kolkata', 'India-? Kolkata', '}-9 Kolkata', '#-9 Kolkata',\n",
       "       'India-$ Kolkata', ']-9 Kolkata', 'India-< Kolkata', '$-9 Kolkata',\n",
       "       'India-] Kolkata', '<-9 Kolkata', 'India-: Kolkata',\n",
       "       'India-# Kolkata', 'India-+ Kolkata', '+-9 Kolkata',\n",
       "       'India-& Kolkata', 'India-, Kolkata', '%-9 Kolkata',\n",
       "       'India-( Kolkata', 'India-_ Kolkata', '@-9 Kolkata', '=-9 Kolkata',\n",
       "       'India-\" Kolkata', '/-9 Kolkata', '_-9 Kolkata', '?-9 Kolkata',\n",
       "       ')-9 Kolkata', '*-9 Kolkata', 'India-= Kolkata', \"India-' Kolkata\",\n",
       "       '{-9 Kolkata', '&-9 Kolkata', '[-9 Kolkata', 'India-) Kolkata',\n",
       "       '=-9 Mumbai', '\\\\-9 Mumbai', 'India-- Mumbai', 'India-/ Mumbai',\n",
       "       ']-9 Mumbai', '%-9 Mumbai', 'India-$ Mumbai', 'India-* Mumbai',\n",
       "       'India-^ Mumbai', '?-9 Mumbai', '@-9 Mumbai', '+-9 Mumbai',\n",
       "       \"India-' Mumbai\", 'India-} Mumbai', '}-9 Mumbai', 'India-! Mumbai',\n",
       "       'India-+ Mumbai', 'India-> Mumbai', '*-9 Mumbai', 'India-( Mumbai',\n",
       "       'India-, Mumbai', 'India-& Mumbai', '>-9 Mumbai',\n",
       "       'India-\\\\ Mumbai', 'India-[ Mumbai', 'India-: Mumbai',\n",
       "       'India-; Mumbai', '<-9 Mumbai', '\"-9 Mumbai', 'India-< Mumbai',\n",
       "       'India-? Mumbai', ')-9 Mumbai', '^-9 Mumbai', 'India-_ Mumbai',\n",
       "       'India-) Mumbai', 'India-@ Mumbai', '|-9 Mumbai', '&-9 Mumbai',\n",
       "       'India-\" Mumbai', '/-9 Mumbai', '(-9 Mumbai', 'India-% Mumbai',\n",
       "       '!-9 Mumbai', '--9 Mumbai', '$-9 Mumbai', '[-9 Mumbai',\n",
       "       ',-9 Mumbai', ':-9 Mumbai', ';-9 Mumbai', 'India-# Mumbai',\n",
       "       'India-] Mumbai', 'India-{ Mumbai', 'India-= Mumbai', \"'-9 Mumbai\",\n",
       "       '_-9 Mumbai', 'India-| Mumbai', 'India-. Mumbai', '{-9 Mumbai',\n",
       "       '.-9 Mumbai', '#-9 Mumbai', 'India-, Bangalore',\n",
       "       'India-[ Bangalore', 'India-@ Bangalore', '_-9 Bangalore',\n",
       "       '%-9 Bangalore', 'India-& Bangalore', '$-9 Bangalore',\n",
       "       '?-9 Bangalore', '#-9 Bangalore', 'India-. Bangalore',\n",
       "       ')-9 Bangalore', 'India-; Bangalore', '/-9 Bangalore',\n",
       "       'India-# Bangalore', 'India-\\\\ Bangalore', 'India-* Bangalore',\n",
       "       '!-9 Bangalore', 'India-| Bangalore', '\\\\-9 Bangalore',\n",
       "       'India-< Bangalore', 'India-- Bangalore', 'India-/ Bangalore',\n",
       "       'India-\" Bangalore', '(-9 Bangalore', '--9 Bangalore',\n",
       "       'India-? Bangalore', ';-9 Bangalore', '&-9 Bangalore',\n",
       "       '+-9 Bangalore', 'India-( Bangalore', 'India-^ Bangalore',\n",
       "       '{-9 Bangalore', '|-9 Bangalore', '\"-9 Bangalore', \"'-9 Bangalore\",\n",
       "       'India-: Bangalore', 'India-> Bangalore', 'India-! Bangalore',\n",
       "       '>-9 Bangalore', 'India-} Bangalore', 'India-] Bangalore',\n",
       "       '*-9 Bangalore', 'India-= Bangalore', \"India-' Bangalore\",\n",
       "       'India-% Bangalore', 'India-$ Bangalore', '.-9 Bangalore',\n",
       "       'India-{ Bangalore', '<-9 Bangalore', '@-9 Bangalore',\n",
       "       ':-9 Bangalore', 'India-+ Bangalore', '^-9 Bangalore',\n",
       "       '=-9 Bangalore', '[-9 Bangalore', '}-9 Bangalore',\n",
       "       'India-_ Bangalore', 'India-) Bangalore', ']-9 Bangalore',\n",
       "       ',-9 Bangalore', 'India-[ Delhi', 'India-, Delhi', '_-9 Delhi',\n",
       "       'India-+ Delhi', 'India-! Delhi', '*-9 Delhi', \"'-9 Delhi\",\n",
       "       ';-9 Delhi', '=-9 Delhi', '\\\\-9 Delhi', '?-9 Delhi', '{-9 Delhi',\n",
       "       '/-9 Delhi', '$-9 Delhi', 'India-{ Delhi', '&-9 Delhi',\n",
       "       'India-? Delhi', ']-9 Delhi', 'India-$ Delhi', '#-9 Delhi',\n",
       "       'India-\" Delhi', 'India-@ Delhi', 'India-. Delhi', '@-9 Delhi',\n",
       "       'India-\\\\ Delhi', 'India-/ Delhi', 'India-^ Delhi',\n",
       "       'India-( Delhi', '!-9 Delhi', '[-9 Delhi', 'India-} Delhi',\n",
       "       ')-9 Delhi', '<-9 Delhi', 'India-] Delhi', '+-9 Delhi',\n",
       "       'India-< Delhi', 'India-& Delhi', 'India-; Delhi', '|-9 Delhi',\n",
       "       'India-_ Delhi', '.-9 Delhi', '(-9 Delhi', 'India-= Delhi',\n",
       "       'India-> Delhi', '%-9 Delhi', 'India-# Delhi', ',-9 Delhi',\n",
       "       'India-- Delhi', '>-9 Delhi', '^-9 Delhi', '--9 Delhi',\n",
       "       'India-* Delhi', \"India-' Delhi\", 'India-: Delhi', ':-9 Delhi',\n",
       "       'India-% Delhi', 'India-| Delhi', '}-9 Delhi', 'India-) Delhi',\n",
       "       '\"-9 Delhi', '%-9 Chennai', '^-9 Chennai', 'India-: Chennai',\n",
       "       ']-9 Chennai', '--9 Chennai', 'India-) Chennai', 'India-( Chennai',\n",
       "       'India-@ Chennai', '.-9 Chennai', '&-9 Chennai', '<-9 Chennai',\n",
       "       '_-9 Chennai', '?-9 Chennai', '}-9 Chennai', '*-9 Chennai',\n",
       "       'India-= Chennai', 'India-# Chennai', 'India-% Chennai',\n",
       "       'India-[ Chennai', 'India-! Chennai', 'India-} Chennai',\n",
       "       'India-< Chennai', 'India-^ Chennai', '@-9 Chennai',\n",
       "       'India-* Chennai', 'India-\\\\ Chennai', '(-9 Chennai',\n",
       "       'India-& Chennai', 'India-? Chennai', '=-9 Chennai',\n",
       "       'India-] Chennai', 'India-+ Chennai', ')-9 Chennai',\n",
       "       '\\\\-9 Chennai', '!-9 Chennai', 'India-{ Chennai', '\"-9 Chennai',\n",
       "       'India-; Chennai', 'India-> Chennai', '#-9 Chennai', \"'-9 Chennai\",\n",
       "       ';-9 Chennai', '/-9 Chennai', '>-9 Chennai', 'India-- Chennai',\n",
       "       ':-9 Chennai', 'India-. Chennai', '|-9 Chennai', '$-9 Chennai',\n",
       "       ',-9 Chennai', 'India-| Chennai', 'India-/ Chennai', '{-9 Chennai',\n",
       "       'India-\" Chennai', '+-9 Chennai', 'India-_ Chennai',\n",
       "       'India-$ Chennai', 'India-, Chennai', '[-9 Chennai',\n",
       "       \"India-' Chennai\", 'India-! Hyderabad', ';-9 Hyderabad',\n",
       "       '_-9 Hyderabad', 'India-[ Hyderabad', 'India-@ Hyderabad',\n",
       "       'India-% Hyderabad', 'India-( Hyderabad', '>-9 Hyderabad',\n",
       "       '(-9 Hyderabad', '\\\\-9 Hyderabad', 'India-< Hyderabad',\n",
       "       'India-\" Hyderabad', \"'-9 Hyderabad\", 'India-$ Hyderabad',\n",
       "       'India-- Hyderabad', 'India-= Hyderabad', ':-9 Hyderabad',\n",
       "       '|-9 Hyderabad', 'India-} Hyderabad', '%-9 Hyderabad',\n",
       "       '#-9 Hyderabad', ',-9 Hyderabad', 'India-] Hyderabad',\n",
       "       'India-. Hyderabad', '.-9 Hyderabad', 'India-? Hyderabad',\n",
       "       'India-+ Hyderabad', '@-9 Hyderabad', '+-9 Hyderabad',\n",
       "       'India-& Hyderabad', '^-9 Hyderabad', 'India-\\\\ Hyderabad',\n",
       "       '&-9 Hyderabad', '=-9 Hyderabad', 'India-| Hyderabad',\n",
       "       'India-; Hyderabad', '!-9 Hyderabad', '?-9 Hyderabad',\n",
       "       'India-> Hyderabad', ']-9 Hyderabad', 'India-* Hyderabad',\n",
       "       'India-^ Hyderabad', '}-9 Hyderabad', 'India-{ Hyderabad',\n",
       "       '--9 Hyderabad', \"India-' Hyderabad\", '{-9 Hyderabad',\n",
       "       '\"-9 Hyderabad', 'India-: Hyderabad', 'India-/ Hyderabad',\n",
       "       '<-9 Hyderabad', ')-9 Hyderabad', '/-9 Hyderabad',\n",
       "       'India-) Hyderabad', 'India-_ Hyderabad', 'India-# Hyderabad',\n",
       "       '[-9 Hyderabad', '*-9 Hyderabad', 'India-, Hyderabad',\n",
       "       '$-9 Hyderabad'], dtype=object)"
      ]
     },
     "execution_count": 28,
     "metadata": {},
     "output_type": "execute_result"
    }
   ],
   "source": [
    "df['City'].unique()"
   ]
  },
  {
   "cell_type": "code",
   "execution_count": 29,
   "id": "576ab552-3420-4e63-8dfd-21b70187f719",
   "metadata": {},
   "outputs": [],
   "source": [
    "df['City'] = df['City'].str.split(' ').str[1]"
   ]
  },
  {
   "cell_type": "code",
   "execution_count": 30,
   "id": "26da70ac-4f6b-49b0-b6ed-1460f3eaac85",
   "metadata": {},
   "outputs": [
    {
     "data": {
      "text/plain": [
       "array(['Kolkata', nan, 'Mumbai', 'Bangalore', 'Delhi', 'Chennai',\n",
       "       'Hyderabad'], dtype=object)"
      ]
     },
     "execution_count": 30,
     "metadata": {},
     "output_type": "execute_result"
    }
   ],
   "source": [
    "df['City'].unique()"
   ]
  },
  {
   "cell_type": "code",
   "execution_count": 31,
   "id": "fceead76-eb73-46c2-b87e-bd6e84080b81",
   "metadata": {},
   "outputs": [
    {
     "data": {
      "text/plain": [
       "array(['Unfurnished', 'Semi-Furnished', 'Furnished', nan], dtype=object)"
      ]
     },
     "execution_count": 31,
     "metadata": {},
     "output_type": "execute_result"
    }
   ],
   "source": [
    "df['Furnishing Status'].unique()"
   ]
  },
  {
   "cell_type": "code",
   "execution_count": 32,
   "id": "9a88ec02-aa02-4615-a141-da4333bbaf9c",
   "metadata": {},
   "outputs": [
    {
     "data": {
      "text/plain": [
       "array(['Bach^elors/Fam.ily', 'Bachelors\\\\/Family*', nan, ...,\n",
       "       '!Bachelors+/Family', '$Family%', 'Bachelo%rs:'], dtype=object)"
      ]
     },
     "execution_count": 32,
     "metadata": {},
     "output_type": "execute_result"
    }
   ],
   "source": [
    "df['Tenant Preferred'].unique()"
   ]
  },
  {
   "cell_type": "code",
   "execution_count": 33,
   "id": "ea951379-5536-4c54-885e-f812a063ca2b",
   "metadata": {},
   "outputs": [],
   "source": [
    "df['Tenant Preferred'] = df['Tenant Preferred'].str.replace(r'[^a-zA-Z]', '', regex=True)"
   ]
  },
  {
   "cell_type": "code",
   "execution_count": 34,
   "id": "35055add-c346-495d-87b1-5d3d51455a5a",
   "metadata": {},
   "outputs": [
    {
     "data": {
      "text/plain": [
       "array(['BachelorsFamily', nan, 'Bachelors', 'Family'], dtype=object)"
      ]
     },
     "execution_count": 34,
     "metadata": {},
     "output_type": "execute_result"
    }
   ],
   "source": [
    "df['Tenant Preferred'].unique()"
   ]
  },
  {
   "cell_type": "code",
   "execution_count": 35,
   "id": "06570432-1060-4bac-8e86-5525638f8a6a",
   "metadata": {},
   "outputs": [],
   "source": [
    "df['Tenant Preferred'] = df['Tenant Preferred'].str.replace('BachelorsFamily', 'Bachelors/Family')"
   ]
  },
  {
   "cell_type": "code",
   "execution_count": 36,
   "id": "d03c3550-b904-48c5-bdd0-e6a052f15c7c",
   "metadata": {},
   "outputs": [
    {
     "data": {
      "text/plain": [
       "array(['Bachelors/Family', nan, 'Bachelors', 'Family'], dtype=object)"
      ]
     },
     "execution_count": 36,
     "metadata": {},
     "output_type": "execute_result"
    }
   ],
   "source": [
    "df['Tenant Preferred'].unique()"
   ]
  },
  {
   "cell_type": "code",
   "execution_count": 37,
   "id": "9c41aa3b-633e-4175-97ee-c4fa3fe7c282",
   "metadata": {},
   "outputs": [
    {
     "data": {
      "text/plain": [
       "array(['2.0', nan, '1.0', '1.0 Bathrooms', '2.0 Bathrooms', '3.0', '4.0',\n",
       "       '5.0', '3.0 Bathrooms', '5.0 Bathrooms', '6.0', '4.0 Bathrooms',\n",
       "       '7.0', '10.0'], dtype=object)"
      ]
     },
     "execution_count": 37,
     "metadata": {},
     "output_type": "execute_result"
    }
   ],
   "source": [
    "df['Bathroom'].unique()"
   ]
  },
  {
   "cell_type": "code",
   "execution_count": 38,
   "id": "1ae9cc44-e297-46ea-b062-4b9020f2edaf",
   "metadata": {},
   "outputs": [],
   "source": [
    "df['Bathroom'] = df['Bathroom'].str.extract(r'(\\d+)')"
   ]
  },
  {
   "cell_type": "code",
   "execution_count": 39,
   "id": "87ee2cac-a60c-48ae-a496-262943c3b12d",
   "metadata": {},
   "outputs": [],
   "source": [
    "df['Bathroom'] = pd.to_numeric(df['Bathroom'])"
   ]
  },
  {
   "cell_type": "code",
   "execution_count": 40,
   "id": "2c29f243-5533-4e4e-bac7-e2031817e14d",
   "metadata": {},
   "outputs": [
    {
     "data": {
      "text/plain": [
       "array(['Contact Owner', nan, 'Contact Agent'], dtype=object)"
      ]
     },
     "execution_count": 40,
     "metadata": {},
     "output_type": "execute_result"
    }
   ],
   "source": [
    "df['Point of Contact'].unique()"
   ]
  },
  {
   "cell_type": "code",
   "execution_count": 41,
   "id": "d55531cb-fbd0-4730-8e41-ad66d0288ae2",
   "metadata": {},
   "outputs": [
    {
     "name": "stdout",
     "output_type": "stream",
     "text": [
      "<class 'pandas.core.frame.DataFrame'>\n",
      "RangeIndex: 4746 entries, 0 to 4745\n",
      "Data columns (total 14 columns):\n",
      " #   Column             Non-Null Count  Dtype  \n",
      "---  ------             --------------  -----  \n",
      " 0   Posted On          4084 non-null   object \n",
      " 1   BHK                3963 non-null   float64\n",
      " 2   Size               3826 non-null   float64\n",
      " 3   Floor              3960 non-null   object \n",
      " 4   Area Type          3804 non-null   object \n",
      " 5   Area Locality      4146 non-null   object \n",
      " 6   City               4091 non-null   object \n",
      " 7   Furnishing Status  4042 non-null   object \n",
      " 8   Tenant Preferred   4094 non-null   object \n",
      " 9   Bathroom           4205 non-null   float64\n",
      " 10  Point of Contact   4137 non-null   object \n",
      " 11  Rent               4746 non-null   int64  \n",
      " 12  Floor_number       3960 non-null   float64\n",
      " 13  Total_Floors       3957 non-null   float64\n",
      "dtypes: float64(5), int64(1), object(8)\n",
      "memory usage: 519.2+ KB\n"
     ]
    }
   ],
   "source": [
    "df.info()"
   ]
  },
  {
   "cell_type": "code",
   "execution_count": null,
   "id": "3bf93a7e-333a-4b7e-b7eb-70bf47b158f0",
   "metadata": {},
   "outputs": [],
   "source": []
  },
  {
   "cell_type": "code",
   "execution_count": null,
   "id": "8912843b-1ad6-40ce-be61-27c945c7d327",
   "metadata": {},
   "outputs": [],
   "source": []
  }
 ],
 "metadata": {
  "kernelspec": {
   "display_name": "Python 3 (ipykernel)",
   "language": "python",
   "name": "python3"
  },
  "language_info": {
   "codemirror_mode": {
    "name": "ipython",
    "version": 3
   },
   "file_extension": ".py",
   "mimetype": "text/x-python",
   "name": "python",
   "nbconvert_exporter": "python",
   "pygments_lexer": "ipython3",
   "version": "3.12.4"
  }
 },
 "nbformat": 4,
 "nbformat_minor": 5
}
