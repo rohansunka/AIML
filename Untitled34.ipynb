{
 "cells": [
  {
   "cell_type": "code",
   "execution_count": 30,
   "id": "47c58d90-bb4d-4c1d-837d-8e11aa882a75",
   "metadata": {},
   "outputs": [
    {
     "ename": "TypeError",
     "evalue": "Node() takes no arguments",
     "output_type": "error",
     "traceback": [
      "\u001b[1;31m---------------------------------------------------------------------------\u001b[0m",
      "\u001b[1;31mTypeError\u001b[0m                                 Traceback (most recent call last)",
      "Cell \u001b[1;32mIn[30], line 29\u001b[0m\n\u001b[0;32m     27\u001b[0m                 cur\u001b[38;5;241m=\u001b[39mcur\u001b[38;5;241m.\u001b[39mlink\n\u001b[0;32m     28\u001b[0m a\u001b[38;5;241m=\u001b[39msll()\n\u001b[1;32m---> 29\u001b[0m a\u001b[38;5;241m.\u001b[39minsert(\u001b[38;5;241m10\u001b[39m)\n",
      "Cell \u001b[1;32mIn[30], line 9\u001b[0m, in \u001b[0;36msll.insert\u001b[1;34m(self, data)\u001b[0m\n\u001b[0;32m      8\u001b[0m \u001b[38;5;28;01mdef\u001b[39;00m \u001b[38;5;21minsert\u001b[39m(\u001b[38;5;28mself\u001b[39m,data):\n\u001b[1;32m----> 9\u001b[0m     temp\u001b[38;5;241m=\u001b[39mNode(data)\n\u001b[0;32m     10\u001b[0m     temp\u001b[38;5;241m.\u001b[39mlink\u001b[38;5;241m=\u001b[39m\u001b[38;5;28mself\u001b[39m\u001b[38;5;241m.\u001b[39mfirst\n\u001b[0;32m     11\u001b[0m     \u001b[38;5;28mself\u001b[39m\u001b[38;5;241m.\u001b[39mfirst\u001b[38;5;241m=\u001b[39mtemp\n",
      "\u001b[1;31mTypeError\u001b[0m: Node() takes no arguments"
     ]
    }
   ],
   "source": [
    "class Node:\n",
    "    def __init_(self,data=None):\n",
    "        self.data=data\n",
    "        self.link=None\n",
    "class sll:\n",
    "    def __init__(self):\n",
    "        self.first=None\n",
    "    def insert(self,data):\n",
    "        temp=Node(data)\n",
    "        temp.link=self.first\n",
    "        self.first=temp\n",
    "        print(\"the adding element is\",data)\n",
    "    def remove(self):\n",
    "        if self.first is None:\n",
    "            print(\"the empty is\")\n",
    "        else:\n",
    "            t=self.first\n",
    "            self.first=self.first.link\n",
    "            print(\"the remove element is\",t.data)\n",
    "    def display(self):\n",
    "        if self.first is None:\n",
    "            print(\"the element is\")\n",
    "        else:\n",
    "            cur=self.first\n",
    "            while cur:\n",
    "                print(cur.data)\n",
    "                cur=cur.link\n",
    "a=sll()\n",
    "a.insert(10)\n",
    "\n",
    "\n",
    "\n",
    "\n",
    "                \n",
    "        "
   ]
  },
  {
   "cell_type": "code",
   "execution_count": 46,
   "id": "93b6c678-b2cd-4ddb-bef1-dca87d99a912",
   "metadata": {},
   "outputs": [
    {
     "name": "stdout",
     "output_type": "stream",
     "text": [
      "the adding element is 10\n",
      "the adding element is 20\n",
      "the adding element is 30\n",
      "the remove element is 30\n",
      "the remove element is 20\n",
      "the remove element is 10\n",
      "the empty is\n"
     ]
    }
   ],
   "source": [
    "class Node:\n",
    "    def __init__(self,data=None):\n",
    "        self.data=data\n",
    "        self.link=None\n",
    "    class sll:\n",
    "        def __init_(self):\n",
    "            self.first==None\n",
    "        def insert(self,data):\n",
    "            temp=Node(data)\n",
    "            temp.link=self.first\n",
    "            self.first=temp\n",
    "        def remove(self):\n",
    "            if self.first==None:\n",
    "                print(\"the remove element is\")\n",
    "            else:\n",
    "                t=self.first\n",
    "                self.first=self.first.link\n",
    "                print(\"the remove element is\",t.data)\n",
    "        def display(self):\n",
    "            if self.first==None:\n",
    "                print(\"the elementis\")\n",
    "            else:\n",
    "                cur=self.first\n",
    "                while(cur):\n",
    "                    print(cur.data)\n",
    "                    cur=cur.data\n",
    "a=sll()\n",
    "a.insert(10)\n",
    "a.insert(20)\n",
    "a.insert(30)\n",
    "a.remove()\n",
    "a.remove()\n",
    "a.remove()\n",
    "a.remove()\n"
   ]
  },
  {
   "cell_type": "code",
   "execution_count": 57,
   "id": "28ece147-0b6e-414d-a521-4fa44710440f",
   "metadata": {},
   "outputs": [
    {
     "ename": "AttributeError",
     "evalue": "'sll' object has no attribute 'first'",
     "output_type": "error",
     "traceback": [
      "\u001b[1;31m---------------------------------------------------------------------------\u001b[0m",
      "\u001b[1;31mAttributeError\u001b[0m                            Traceback (most recent call last)",
      "Cell \u001b[1;32mIn[57], line 12\u001b[0m\n\u001b[0;32m     10\u001b[0m         temp\u001b[38;5;241m.\u001b[39mlink\u001b[38;5;241m=\u001b[39m\u001b[38;5;28mself\u001b[39m\u001b[38;5;241m.\u001b[39mfirst\n\u001b[0;32m     11\u001b[0m         \u001b[38;5;28mself\u001b[39m\u001b[38;5;241m.\u001b[39mfirst\u001b[38;5;241m=\u001b[39mtemp\n\u001b[1;32m---> 12\u001b[0m a\u001b[38;5;241m=\u001b[39msll()\n\u001b[0;32m     13\u001b[0m a\u001b[38;5;241m.\u001b[39minsert(\u001b[38;5;241m10\u001b[39m)\n",
      "Cell \u001b[1;32mIn[57], line 7\u001b[0m, in \u001b[0;36msll.__init__\u001b[1;34m(self)\u001b[0m\n\u001b[0;32m      6\u001b[0m \u001b[38;5;28;01mdef\u001b[39;00m \u001b[38;5;21m__init__\u001b[39m(\u001b[38;5;28mself\u001b[39m):\n\u001b[1;32m----> 7\u001b[0m     \u001b[38;5;28mself\u001b[39m\u001b[38;5;241m.\u001b[39mfirst\u001b[38;5;241m==\u001b[39m\u001b[38;5;28;01mNone\u001b[39;00m\n",
      "\u001b[1;31mAttributeError\u001b[0m: 'sll' object has no attribute 'first'"
     ]
    }
   ],
   "source": [
    "class Node:\n",
    "    def __init__(self,data=None):\n",
    "        self.data=data\n",
    "        self.link=None\n",
    "class sll:\n",
    "    def __init__(self):\n",
    "        self.first==None\n",
    "    def insert(self,data):\n",
    "        temp=Node(data)\n",
    "        temp.link=self.first\n",
    "        self.first=temp\n",
    "a=sll()\n",
    "a.insert(10)"
   ]
  },
  {
   "cell_type": "code",
   "execution_count": 70,
   "id": "a74e54b0-7896-4cb5-a4d4-0ffb4ef608d0",
   "metadata": {},
   "outputs": [],
   "source": [
    "class Node:\n",
    "    def __init__(self,val):\n",
    "        self.data=val\n",
    "        self.left=None\n",
    "        self.right=None\n",
    "def dfs(root):\n",
    "    if root is None:\n",
    "        return\n",
    "        dfs(root.left)\n",
    "        print(root.val)\n",
    "        dfs(root.right)\n",
    "root=Node(10)\n",
    "dfs(root)\n",
    "    \n",
    "    "
   ]
  },
  {
   "cell_type": "code",
   "execution_count": null,
   "id": "7bc816d0-0d56-4c2d-b6a4-388c697e6ce8",
   "metadata": {},
   "outputs": [],
   "source": []
  }
 ],
 "metadata": {
  "kernelspec": {
   "display_name": "Python 3 (ipykernel)",
   "language": "python",
   "name": "python3"
  },
  "language_info": {
   "codemirror_mode": {
    "name": "ipython",
    "version": 3
   },
   "file_extension": ".py",
   "mimetype": "text/x-python",
   "name": "python",
   "nbconvert_exporter": "python",
   "pygments_lexer": "ipython3",
   "version": "3.12.4"
  }
 },
 "nbformat": 4,
 "nbformat_minor": 5
}
