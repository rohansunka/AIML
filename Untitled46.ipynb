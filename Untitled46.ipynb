{
 "cells": [
  {
   "cell_type": "code",
   "execution_count": 1,
   "id": "94dda5e2-675d-402a-a43a-1d6c7dcc9d95",
   "metadata": {},
   "outputs": [
    {
     "name": "stdout",
     "output_type": "stream",
     "text": [
      "rohan\n"
     ]
    }
   ],
   "source": [
    "print(\"rohan\")"
   ]
  },
  {
   "cell_type": "code",
   "execution_count": 16,
   "id": "4452aaa4-e68b-431c-91f5-b7b966bc1fe6",
   "metadata": {},
   "outputs": [
    {
     "name": "stdout",
     "output_type": "stream",
     "text": [
      "    name brach  math  science  total  average\n",
      "0  rohan    cs    10       87     97     48.5\n",
      "1  suhil    cp    40       40     80     40.0\n",
      "2   jade    at    60       66    126     63.0\n"
     ]
    }
   ],
   "source": [
    "import pandas as pd\n",
    "data={\n",
    "    \"name\":['rohan','suhil','jade'],\n",
    "    'brach':['cs','cp','at'],\n",
    "    'math':[10,40,60],\n",
    "     'science':[87,40,66]\n",
    "}\n",
    "df=pd.DataFrame(data)\n",
    "df['total']=df[['math','science']].sum(axis=1)\n",
    "df['average']=df[['math','science']].mean(axis=1)\n",
    "print(df)"
   ]
  },
  {
   "cell_type": "code",
   "execution_count": 12,
   "id": "f352b2a0-4ef0-4cd4-9fbd-0a431a3d1ae1",
   "metadata": {},
   "outputs": [],
   "source": []
  },
  {
   "cell_type": "code",
   "execution_count": null,
   "id": "92f0cf9f-3c26-49e5-9159-b919fc8d8348",
   "metadata": {},
   "outputs": [],
   "source": []
  }
 ],
 "metadata": {
  "kernelspec": {
   "display_name": "Python 3 (ipykernel)",
   "language": "python",
   "name": "python3"
  },
  "language_info": {
   "codemirror_mode": {
    "name": "ipython",
    "version": 3
   },
   "file_extension": ".py",
   "mimetype": "text/x-python",
   "name": "python",
   "nbconvert_exporter": "python",
   "pygments_lexer": "ipython3",
   "version": "3.12.4"
  }
 },
 "nbformat": 4,
 "nbformat_minor": 5
}
