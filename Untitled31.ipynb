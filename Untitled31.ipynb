{
 "cells": [
  {
   "cell_type": "code",
   "execution_count": 8,
   "id": "fb15e7b8-3382-47a9-9452-c599598a77af",
   "metadata": {},
   "outputs": [
    {
     "ename": "SyntaxError",
     "evalue": "unexpected character after line continuation character (172168021.py, line 6)",
     "output_type": "error",
     "traceback": [
      "\u001b[1;36m  Cell \u001b[1;32mIn[8], line 6\u001b[1;36m\u001b[0m\n\u001b[1;33m    if key==a[mid]1\\2:\u001b[0m\n\u001b[1;37m                    ^\u001b[0m\n\u001b[1;31mSyntaxError\u001b[0m\u001b[1;31m:\u001b[0m unexpected character after line continuation character\n"
     ]
    }
   ],
   "source": [
    "a=[10,40,20,80,30]\n",
    "low=0\n",
    "high=len(a)-1\n",
    "while low<=high:\n",
    "    mid=(high+low)\n",
    "    if key==a[mid]1\\2:\n",
    "        return mid\n",
    "    elif key<amid:\n",
    "        high=mid-1\n",
    "else:\n",
    "    low=mid+1\n",
    "    return -1\n",
    "    "
   ]
  },
  {
   "cell_type": "code",
   "execution_count": 22,
   "id": "91d4f8da-06c0-4deb-8455-f1e00e926f58",
   "metadata": {},
   "outputs": [
    {
     "name": "stdin",
     "output_type": "stream",
     "text": [
      "enter any number 1\n"
     ]
    },
    {
     "name": "stdout",
     "output_type": "stream",
     "text": [
      "move the disk to source source move the destination destination\n"
     ]
    }
   ],
   "source": [
    "def tower(n,source,destination,temp):\n",
    "    if n==1:\n",
    "        print(\"move the disk to source\",source,\"move the destination\",destination)\n",
    "    else:\n",
    "        tower(n-1,source,temp,destination)\n",
    "        print(\"move the disk\",temp,\"to destination\",destination)\n",
    "        tower(n-1,source,temp,destination)\n",
    "        \n",
    "n=int(input(\"enter any number\"))\n",
    "tower(n,\"source\",\"destination\",\"temp\")"
   ]
  },
  {
   "cell_type": "code",
   "execution_count": 27,
   "id": "6b29fde4-9ce5-487b-b843-e3c9ffc8ed30",
   "metadata": {},
   "outputs": [
    {
     "name": "stdin",
     "output_type": "stream",
     "text": [
      "entr any number 5\n"
     ]
    },
    {
     "name": "stdout",
     "output_type": "stream",
     "text": [
      "move the disk to source move the  destination\n",
      "move the destination to destination temp\n",
      "move the disk to source move the  destination\n",
      "move the temp to destination destination\n",
      "move the disk to source move the  destination\n",
      "move the destination to destination temp\n",
      "move the disk to source move the  destination\n",
      "move the destination to destination temp\n",
      "move the disk to source move the  destination\n",
      "move the destination to destination temp\n",
      "move the disk to source move the  destination\n",
      "move the temp to destination destination\n",
      "move the disk to source move the  destination\n",
      "move the destination to destination temp\n",
      "move the disk to source move the  destination\n",
      "move the temp to destination destination\n",
      "move the disk to source move the  destination\n",
      "move the destination to destination temp\n",
      "move the disk to source move the  destination\n",
      "move the temp to destination destination\n",
      "move the disk to source move the  destination\n",
      "move the destination to destination temp\n",
      "move the disk to source move the  destination\n",
      "move the destination to destination temp\n",
      "move the disk to source move the  destination\n",
      "move the destination to destination temp\n",
      "move the disk to source move the  destination\n",
      "move the temp to destination destination\n",
      "move the disk to source move the  destination\n",
      "move the destination to destination temp\n",
      "move the disk to source move the  destination\n"
     ]
    }
   ],
   "source": [
    "def tower(n,source,destination,temp):\n",
    "        if n==1:\n",
    "            print(\"move the disk to\",source,\"move the \",destination)\n",
    "        else:\n",
    "            tower(n-1,source,temp,destination)\n",
    "            print(\"move the\",temp,\"to destination\",destination)\n",
    "            tower(n-1,source,temp,destination)\n",
    "n=int(input(\"entr any number\"))\n",
    "tower(n,\"source\",\"destination\",\"temp\")"
   ]
  },
  {
   "cell_type": "code",
   "execution_count": 50,
   "id": "a7a2de30-dd82-4970-b827-0530b1428ebf",
   "metadata": {},
   "outputs": [
    {
     "name": "stdout",
     "output_type": "stream",
     "text": [
      "1744730744.8384063\n"
     ]
    },
    {
     "name": "stdin",
     "output_type": "stream",
     "text": [
      "enter any number 55\n"
     ]
    },
    {
     "name": "stdout",
     "output_type": "stream",
     "text": [
      "None\n"
     ]
    }
   ],
   "source": [
    "def feb(n):\n",
    "    if n<=1:\n",
    "        return n\n",
    "        feb=[0,1]\n",
    "        for i in range(2,n+1):\n",
    "            feb.append(feb[i-1]+feb[i])\n",
    "            return feb[n]\n",
    "import time\n",
    "start=time.time()\n",
    "print(start)\n",
    "n=int(input(\"enter any number\"))\n",
    "feb(n)\n",
    "print(feb(n))"
   ]
  },
  {
   "cell_type": "code",
   "execution_count": 65,
   "id": "af0edc51-339c-4bf5-927e-43f60c98dba8",
   "metadata": {},
   "outputs": [
    {
     "name": "stdin",
     "output_type": "stream",
     "text": [
      "enter any number 10\n"
     ]
    },
    {
     "name": "stdout",
     "output_type": "stream",
     "text": [
      "[0, 1, 1, 2, 3, 5, 8, 13, 21, 34]\n"
     ]
    }
   ],
   "source": [
    "def fib(n):\n",
    "        fib=[0, 1]\n",
    "        for i in range(2, n):\n",
    "            fib.append(fib[-1]+fib[-2])\n",
    "        return fib\n",
    "n=int(input(\"enter any number\"))\n",
    "series=fib(n)\n",
    "print(series)"
   ]
  },
  {
   "cell_type": "code",
   "execution_count": null,
   "id": "7aaf562c-3300-4e98-ab2d-8d9c4e336e64",
   "metadata": {},
   "outputs": [],
   "source": []
  }
 ],
 "metadata": {
  "kernelspec": {
   "display_name": "Python 3 (ipykernel)",
   "language": "python",
   "name": "python3"
  },
  "language_info": {
   "codemirror_mode": {
    "name": "ipython",
    "version": 3
   },
   "file_extension": ".py",
   "mimetype": "text/x-python",
   "name": "python",
   "nbconvert_exporter": "python",
   "pygments_lexer": "ipython3",
   "version": "3.12.4"
  }
 },
 "nbformat": 4,
 "nbformat_minor": 5
}
