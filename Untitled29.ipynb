{
 "cells": [
  {
   "cell_type": "code",
   "execution_count": 4,
   "id": "17856342-56e4-4de1-acd0-9798be478132",
   "metadata": {},
   "outputs": [
    {
     "name": "stdin",
     "output_type": "stream",
     "text": [
      "enter any number 10\n"
     ]
    },
    {
     "name": "stdout",
     "output_type": "stream",
     "text": [
      "yes\n"
     ]
    }
   ],
   "source": [
    "a=[30,40,20,10]\n",
    "key=int(input(\"enter any number\"))\n",
    "flag=-1\n",
    "for i in range(len(a)):\n",
    "    if a[i]==key:\n",
    "        flag=-1\n",
    "        break\n",
    "if flag==-1:\n",
    "    print(\"yes\")\n",
    "else:\n",
    "    print(\"no\")"
   ]
  },
  {
   "cell_type": "code",
   "execution_count": 9,
   "id": "7a8946bb-7ec6-4e83-8033-485d9931ff61",
   "metadata": {},
   "outputs": [
    {
     "name": "stdout",
     "output_type": "stream",
     "text": [
      "[40, 20, 30, 10]\n"
     ]
    }
   ],
   "source": [
    "a=[30,40,20,10]\n",
    "n=len(a)\n",
    "for i in range(n):\n",
    "    for j in range(n-1):\n",
    "        if a[i]<a[j+1]:\n",
    "            temp=a[j]\n",
    "            a[j]=a[j+1]\n",
    "            a[j+1]=temp\n",
    "print(a)"
   ]
  },
  {
   "cell_type": "code",
   "execution_count": 14,
   "id": "0f1e6541-1ee2-4b4f-8276-4518f8cff6fd",
   "metadata": {},
   "outputs": [
    {
     "name": "stdout",
     "output_type": "stream",
     "text": [
      "[80, 40, 30, 20, 10]\n"
     ]
    }
   ],
   "source": [
    "l=[30,80,10,40,20]\n",
    "n=len(l)\n",
    "for i in range(n):\n",
    "    for j in range(n-1):\n",
    "        if(l[j]<l[j+1]):\n",
    "            temp=l[j]\n",
    "            l[j]=l[j+1]\n",
    "            l[j+1]=temp\n",
    "print(l)"
   ]
  },
  {
   "cell_type": "code",
   "execution_count": 26,
   "id": "caedb6be-0596-4e48-9368-0c98a43fbd0c",
   "metadata": {},
   "outputs": [
    {
     "name": "stdout",
     "output_type": "stream",
     "text": [
      "[30, 80, 10, 40, 20]\n"
     ]
    }
   ],
   "source": [
    "l=[30,80,10,40,20]\n",
    "n=len(l)\n",
    "for i in range(n-2):\n",
    "    min=i\n",
    "for j in range(i+1,n-1):\n",
    "    if (l[j]<l[min]):\n",
    "        temp=l[j]\n",
    "        l[j]=l[min]\n",
    "        [min]=temp\n",
    "print(l)\n",
    "        \n",
    "        \n",
    "        \n",
    "        "
   ]
  },
  {
   "cell_type": "code",
   "execution_count": 33,
   "id": "21506459-1244-45a4-a05e-938e7b5ab8b6",
   "metadata": {},
   "outputs": [
    {
     "name": "stdout",
     "output_type": "stream",
     "text": [
      "[30, 80, 10, 10, 20]\n"
     ]
    }
   ],
   "source": [
    "l=[30,80,10,40,20]\n",
    "n=len(l)\n",
    "for i in range(n-2):\n",
    "    min=i\n",
    "for j in range(i+1,n-1):\n",
    "    if l[j]>l[min]:\n",
    "        temp=l[j]\n",
    "        l[j]=l[min]\n",
    "        a[min]=temp\n",
    "print(l)"
   ]
  },
  {
   "cell_type": "code",
   "execution_count": null,
   "id": "922d1c7b-22a2-497f-97c0-abfabf8f563e",
   "metadata": {},
   "outputs": [],
   "source": [
    "a=[30,80,10,40,20]\n",
    "len(a)\n",
    "for i in range(1,n):\n",
    "    k=a[i]\n",
    "    j=i-1\n",
    "    while j>=0 and a[j]>k:\n",
    "        \n",
    "        a[j+1]>a[j]:\n",
    "        j=j-1\n",
    "    a[j+1]=k\n",
    "print(a)\n",
    "\n"
   ]
  },
  {
   "cell_type": "code",
   "execution_count": null,
   "id": "4b83093d-a776-40d3-b173-70c2d0245cc9",
   "metadata": {},
   "outputs": [],
   "source": [
    "l=[30,80,10,40,20]\n",
    "len(a)\n",
    "for i in range(1,n):\n",
    "    k=a[j]\n",
    "    j=i-1\n",
    "    while j>=0 and a[j]>k:\n",
    "        a[j+1]=a[j]>k:\n",
    "        j=j-1\n",
    "        a[j+1]=k\n",
    "print(a)"
   ]
  },
  {
   "cell_type": "code",
   "execution_count": null,
   "id": "754659c6-723e-47e9-8b95-342935531d95",
   "metadata": {},
   "outputs": [],
   "source": [
    "def feb(n):\n",
    "    if n==1:\n",
    "        return n\n",
    "    else:\n",
    "        f=[0,1]\n",
    "        f.appen(f[i-1]f[i-2])\n",
    "n=int(input(\"enter any number\"))\n",
    "feb(n)"
   ]
  },
  {
   "cell_type": "code",
   "execution_count": null,
   "id": "ad499b02-bb02-4747-9262-c2aa5c53eb69",
   "metadata": {},
   "outputs": [],
   "source": []
  }
 ],
 "metadata": {
  "kernelspec": {
   "display_name": "Python 3 (ipykernel)",
   "language": "python",
   "name": "python3"
  },
  "language_info": {
   "codemirror_mode": {
    "name": "ipython",
    "version": 3
   },
   "file_extension": ".py",
   "mimetype": "text/x-python",
   "name": "python",
   "nbconvert_exporter": "python",
   "pygments_lexer": "ipython3",
   "version": "3.12.4"
  }
 },
 "nbformat": 4,
 "nbformat_minor": 5
}
