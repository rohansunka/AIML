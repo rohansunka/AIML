{
 "cells": [
  {
   "cell_type": "code",
   "execution_count": 3,
   "id": "315ea004-372e-4d2c-a0d4-224ebed9126f",
   "metadata": {},
   "outputs": [],
   "source": [
    "import pandas as pd\n",
    "data={\n",
    "    'name':['rohan','mehtab','atif','parshuram'],\n",
    "    'branch':['cs','Ec','cp','at'],\n",
    "    'math':[90,50,60,98],\n",
    "    'science':[60,80,35,45],\n",
    "    'english':[80,60,66,50]\n",
    "}\n",
    "df=pd.DataFrame(data)\n",
    "    "
   ]
  },
  {
   "cell_type": "code",
   "execution_count": 4,
   "id": "11db603b-333b-42e8-a256-ebaaa80dc99e",
   "metadata": {},
   "outputs": [
    {
     "name": "stdout",
     "output_type": "stream",
     "text": [
      "rohan\n"
     ]
    }
   ],
   "source": [
    "print(\"rohan\")"
   ]
  },
  {
   "cell_type": "code",
   "execution_count": null,
   "id": "d90cbf84-d9a4-4329-bd4f-9ae9f33ec5a2",
   "metadata": {},
   "outputs": [],
   "source": []
  },
  {
   "cell_type": "code",
   "execution_count": null,
   "id": "c4203384-8045-4f41-b457-fa407685bf0d",
   "metadata": {},
   "outputs": [],
   "source": []
  },
  {
   "cell_type": "code",
   "execution_count": null,
   "id": "e029e5f0-3cf6-4cfb-ba0e-9597edde79c9",
   "metadata": {},
   "outputs": [],
   "source": []
  },
  {
   "cell_type": "code",
   "execution_count": null,
   "id": "1d16514f-6a1b-4211-bf83-92991344ed4c",
   "metadata": {},
   "outputs": [],
   "source": []
  },
  {
   "cell_type": "code",
   "execution_count": null,
   "id": "ab332171-7421-4ab4-93be-93028b6784c0",
   "metadata": {},
   "outputs": [],
   "source": []
  },
  {
   "cell_type": "code",
   "execution_count": null,
   "id": "b946ddea-a5a1-40ff-927a-5960f320b70e",
   "metadata": {},
   "outputs": [],
   "source": []
  }
 ],
 "metadata": {
  "kernelspec": {
   "display_name": "Python 3 (ipykernel)",
   "language": "python",
   "name": "python3"
  },
  "language_info": {
   "codemirror_mode": {
    "name": "ipython",
    "version": 3
   },
   "file_extension": ".py",
   "mimetype": "text/x-python",
   "name": "python",
   "nbconvert_exporter": "python",
   "pygments_lexer": "ipython3",
   "version": "3.12.4"
  }
 },
 "nbformat": 4,
 "nbformat_minor": 5
}
