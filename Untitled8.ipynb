{
 "cells": [
  {
   "cell_type": "code",
   "execution_count": 16,
   "id": "abd2d241-133a-4147-9e4f-88310a530ed1",
   "metadata": {},
   "outputs": [
    {
     "name": "stdout",
     "output_type": "stream",
     "text": [
      "the element is [10]\n",
      "the element is [10, 20]\n"
     ]
    },
    {
     "ename": "AttributeError",
     "evalue": "'student' object has no attribute 'pop'",
     "output_type": "error",
     "traceback": [
      "\u001b[1;31m---------------------------------------------------------------------------\u001b[0m",
      "\u001b[1;31mAttributeError\u001b[0m                            Traceback (most recent call last)",
      "Cell \u001b[1;32mIn[16], line 16\u001b[0m\n\u001b[0;32m     14\u001b[0m a\u001b[38;5;241m.\u001b[39mpush(\u001b[38;5;241m10\u001b[39m)\n\u001b[0;32m     15\u001b[0m a\u001b[38;5;241m.\u001b[39mpush(\u001b[38;5;241m20\u001b[39m)\n\u001b[1;32m---> 16\u001b[0m a\u001b[38;5;241m.\u001b[39mpop()\n\u001b[0;32m     17\u001b[0m a\u001b[38;5;241m.\u001b[39mpop()\n\u001b[0;32m     18\u001b[0m a\u001b[38;5;241m.\u001b[39mdisplay()\n",
      "\u001b[1;31mAttributeError\u001b[0m: 'student' object has no attribute 'pop'"
     ]
    }
   ],
   "source": [
    "class student:\n",
    "    def __init__(self):\n",
    "        self.q=[]\n",
    "    def push(self,item):\n",
    "        self.q.append(item)\n",
    "        print(\"the element is\",self.q)\n",
    "    def remove(self):\n",
    "        if len(self.q)!=0:\n",
    "            r=pop()\n",
    "            print(\"the elementis\",r)\n",
    "    def display(self):\n",
    "        print(\"the elementis\",self.q)\n",
    "a=student()\n",
    "a.push(10)\n",
    "a.push(20)\n",
    "a.pop()\n",
    "a.pop()\n",
    "a.display()\n",
    "    "
   ]
  },
  {
   "cell_type": "code",
   "execution_count": 23,
   "id": "d632d3e2-39fb-4ca2-9e1c-d777b03bdc28",
   "metadata": {},
   "outputs": [
    {
     "name": "stdin",
     "output_type": "stream",
     "text": [
      "entere any number 10\n"
     ]
    },
    {
     "name": "stdout",
     "output_type": "stream",
     "text": [
      "10\n"
     ]
    }
   ],
   "source": [
    "def sum(n):\n",
    "    if n==1:\n",
    "        return 1\n",
    "    else:\n",
    "        s=n+sum(n-1)\n",
    "        return s\n",
    "        \n",
    "n=int(input(\"entere any number\"))\n",
    "t=sum(n)\n",
    "print(n)"
   ]
  },
  {
   "cell_type": "code",
   "execution_count": 33,
   "id": "e1891c5a-a91f-4c2b-9505-0bfe273de2c1",
   "metadata": {},
   "outputs": [
    {
     "name": "stdin",
     "output_type": "stream",
     "text": [
      "enter any number 10\n"
     ]
    },
    {
     "data": {
      "text/plain": [
       "3628800"
      ]
     },
     "execution_count": 33,
     "metadata": {},
     "output_type": "execute_result"
    }
   ],
   "source": [
    "def fact(n):\n",
    "    if n==1:\n",
    "        return 1\n",
    "    else:\n",
    "        r=n*fact(n-1)\n",
    "        return r\n",
    "n=int(input(\"enter any number\"))\n",
    "fact(n)\n",
    "      "
   ]
  },
  {
   "cell_type": "code",
   "execution_count": null,
   "id": "d1f82a00-716e-4a89-a885-4875ff2a83d7",
   "metadata": {},
   "outputs": [],
   "source": []
  }
 ],
 "metadata": {
  "kernelspec": {
   "display_name": "Python 3 (ipykernel)",
   "language": "python",
   "name": "python3"
  },
  "language_info": {
   "codemirror_mode": {
    "name": "ipython",
    "version": 3
   },
   "file_extension": ".py",
   "mimetype": "text/x-python",
   "name": "python",
   "nbconvert_exporter": "python",
   "pygments_lexer": "ipython3",
   "version": "3.12.4"
  }
 },
 "nbformat": 4,
 "nbformat_minor": 5
}
