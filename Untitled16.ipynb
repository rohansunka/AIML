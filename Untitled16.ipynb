{
 "cells": [
  {
   "cell_type": "code",
   "execution_count": 2,
   "id": "a7547721-ca92-415d-8490-c8fe19729a3d",
   "metadata": {},
   "outputs": [
    {
     "name": "stdout",
     "output_type": "stream",
     "text": [
      "(12,)\n",
      "10\n",
      "510\n",
      "90\n",
      "26.180463454008347\n",
      "[[10 20 30]\n",
      " [40 50 60]\n",
      " [70 80 90]\n",
      " [10 20 30]]\n"
     ]
    }
   ],
   "source": [
    "import numpy as np\n",
    "a=np.array([10,20,30,40,50,60,70,80,90,10,20,30])\n",
    "print(a.shape)\n",
    "print(a.min())\n",
    "print(a.sum())\n",
    "print(a.max())\n",
    "print(a.std())\n",
    "b=a.reshape(4,3)\n",
    "print(b)"
   ]
  },
  {
   "cell_type": "code",
   "execution_count": 19,
   "id": "6c1eab12-91e9-48dd-b830-76db652ee96d",
   "metadata": {},
   "outputs": [
    {
     "name": "stdout",
     "output_type": "stream",
     "text": [
      "0    10\n",
      "1    20\n",
      "2    30\n",
      "dtype: int64\n"
     ]
    }
   ],
   "source": [
    "import pandas as pd\n",
    "a=[10,20,30]\n",
    "b=pd.Series(a)\n",
    "print(b)"
   ]
  },
  {
   "cell_type": "code",
   "execution_count": 9,
   "id": "ebe483d6-f92a-4fc2-b6fa-05925c5ca0aa",
   "metadata": {},
   "outputs": [
    {
     "name": "stdout",
     "output_type": "stream",
     "text": [
      "0    1\n",
      "1    7\n",
      "2    2\n",
      "dtype: int64\n"
     ]
    }
   ],
   "source": [
    "import pandas as pd\n",
    "\n",
    "a = [1, 7, 2]\n",
    "\n",
    "myvar = pd.Series(a)\n",
    "\n",
    "print(myvar)"
   ]
  },
  {
   "cell_type": "code",
   "execution_count": 81,
   "id": "db2d51e4-146a-41d2-95dd-1a6a2e00671d",
   "metadata": {},
   "outputs": [
    {
     "name": "stdout",
     "output_type": "stream",
     "text": [
      "<class 'pandas.core.frame.DataFrame'>\n",
      "RangeIndex: 6 entries, 0 to 5\n",
      "Data columns (total 8 columns):\n",
      " #   Column   Non-Null Count  Dtype  \n",
      "---  ------   --------------  -----  \n",
      " 0   owner    6 non-null      object \n",
      " 1   tvs      6 non-null      int64  \n",
      " 2   model    6 non-null      int64  \n",
      " 3   city     6 non-null      object \n",
      " 4   total    6 non-null      int64  \n",
      " 5   average  6 non-null      float64\n",
      " 6   min      6 non-null      int64  \n",
      " 7   max      6 non-null      int64  \n",
      "dtypes: float64(1), int64(5), object(2)\n",
      "memory usage: 516.0+ bytes\n"
     ]
    },
    {
     "data": {
      "image/png": "[encoded data removed]",
      "text/plain": [
       "<Figure size 640x480 with 1 Axes>"
      ]
     },
     "metadata": {},
     "output_type": "display_data"
    }
   ],
   "source": [
    "import pandas as pd\n",
    "import matplotlib.pyplot as plt\n",
    "data={\n",
    "    \"owner\":[\"rohan\",\"ayan\",\"mehtab\",\"atif\",\"manoj\",\"nagu\"],\n",
    "    \"tvs\":[10,20,30,40,50,60],\n",
    "    \"model\":[2010,2022,2015,2018,2025,2026]\n",
    "}\n",
    "df=pd.DataFrame(data)\n",
    "df[\"city\"]=[\"soraba\",\"sagara\",\"shivamogga\",\"jade\",\"mysore\",\"talagadde\"]\n",
    "df[\"total\"]=df[[\"tvs\",\"model\"]].sum(axis=1)\n",
    "df[\"average\"]=df[[\"tvs\",\"model\"]].mean(axis=1)\n",
    "df[\"min\"]=df[[\"tvs\",\"model\"]].min(axis=1)\n",
    "df[\"max\"]=df[[\"tvs\",\"model\"]].max(axis=1)\n",
    "df\n",
    "plt.scatter(df[\"tvs\"],df[\"model\"])\n",
    "df.describe()\n",
    "df.head()\n",
    "df.size\n",
    "df.info()"
   ]
  },
  {
   "cell_type": "code",
   "execution_count": null,
   "id": "dea26319-0142-4f47-965d-aa11956d90c2",
   "metadata": {},
   "outputs": [],
   "source": []
  },
  {
   "cell_type": "code",
   "execution_count": null,
   "id": "22937733-333d-4587-8870-e74c677c2447",
   "metadata": {},
   "outputs": [],
   "source": []
  }
 ],
 "metadata": {
  "kernelspec": {
   "display_name": "Python 3 (ipykernel)",
   "language": "python",
   "name": "python3"
  },
  "language_info": {
   "codemirror_mode": {
    "name": "ipython",
    "version": 3
   },
   "file_extension": ".py",
   "mimetype": "text/x-python",
   "name": "python",
   "nbconvert_exporter": "python",
   "pygments_lexer": "ipython3",
   "version": "3.12.4"
  }
 },
 "nbformat": 4,
 "nbformat_minor": 5
}
