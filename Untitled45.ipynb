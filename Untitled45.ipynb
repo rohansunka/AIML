{
 "cells": [
  {
   "cell_type": "code",
   "execution_count": 9,
   "id": "83c120b9-f978-4f66-8fee-9502a000a761",
   "metadata": {},
   "outputs": [],
   "source": [
    "import pandas as pd\n",
    "data={\n",
    "    'name':['rohan','mehtab','atif','parshuram'],\n",
    "    'branch':['cs','Ec','cp','at'],\n",
    "    'math':[90,50,60,98],\n",
    "    'science':[60,80,35,45],\n",
    "    'english':[80,60,66,50]\n",
    "}\n",
    "df=pd.DataFrame(data)\n",
    "    "
   ]
  },
  {
   "cell_type": "code",
   "execution_count": null,
   "id": "c0023791-0dc6-4e51-bc80-58bb9f953776",
   "metadata": {},
   "outputs": [],
   "source": []
  },
  {
   "cell_type": "code",
   "execution_count": null,
   "id": "377df766-96a8-4272-8ae0-6d9dc4253945",
   "metadata": {},
   "outputs": [],
   "source": []
  },
  {
   "cell_type": "code",
   "execution_count": null,
   "id": "b7042f25-1026-48a3-97c0-e031bf4057f3",
   "metadata": {},
   "outputs": [],
   "source": []
  },
  {
   "cell_type": "code",
   "execution_count": null,
   "id": "50a9f589-5ff7-4b56-9d0f-04f12b745a1a",
   "metadata": {},
   "outputs": [],
   "source": []
  },
  {
   "cell_type": "code",
   "execution_count": null,
   "id": "9525f7ad-8a12-4c12-819f-6712275ccd2d",
   "metadata": {},
   "outputs": [],
   "source": []
  }
 ],
 "metadata": {
  "kernelspec": {
   "display_name": "Python 3 (ipykernel)",
   "language": "python",
   "name": "python3"
  },
  "language_info": {
   "codemirror_mode": {
    "name": "ipython",
    "version": 3
   },
   "file_extension": ".py",
   "mimetype": "text/x-python",
   "name": "python",
   "nbconvert_exporter": "python",
   "pygments_lexer": "ipython3",
   "version": "3.12.4"
  }
 },
 "nbformat": 4,
 "nbformat_minor": 5
}
