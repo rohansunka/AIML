{
 "cells": [
  {
   "cell_type": "code",
   "execution_count": 6,
   "id": "ccfad693-d111-4738-849c-b86d68d7ac2c",
   "metadata": {},
   "outputs": [
    {
     "data": {
      "text/html": [
       "<div>\n",
       "<style scoped>\n",
       "    .dataframe tbody tr th:only-of-type {\n",
       "        vertical-align: middle;\n",
       "    }\n",
       "\n",
       "    .dataframe tbody tr th {\n",
       "        vertical-align: top;\n",
       "    }\n",
       "\n",
       "    .dataframe thead th {\n",
       "        text-align: right;\n",
       "    }\n",
       "</style>\n",
       "<table border=\"1\" class=\"dataframe\">\n",
       "  <thead>\n",
       "    <tr style=\"text-align: right;\">\n",
       "      <th></th>\n",
       "      <th>name</th>\n",
       "      <th>age</th>\n",
       "      <th>deportment</th>\n",
       "    </tr>\n",
       "  </thead>\n",
       "  <tbody>\n",
       "    <tr>\n",
       "      <th>0</th>\n",
       "      <td>rohan</td>\n",
       "      <td>21</td>\n",
       "      <td>cs</td>\n",
       "    </tr>\n",
       "    <tr>\n",
       "      <th>1</th>\n",
       "      <td>atif</td>\n",
       "      <td>18</td>\n",
       "      <td>ENC</td>\n",
       "    </tr>\n",
       "    <tr>\n",
       "      <th>2</th>\n",
       "      <td>mehtab</td>\n",
       "      <td>20</td>\n",
       "      <td>mech</td>\n",
       "    </tr>\n",
       "    <tr>\n",
       "      <th>3</th>\n",
       "      <td>ayan</td>\n",
       "      <td>18</td>\n",
       "      <td>cp</td>\n",
       "    </tr>\n",
       "  </tbody>\n",
       "</table>\n",
       "</div>"
      ],
      "text/plain": [
       "     name  age deportment\n",
       "0   rohan   21         cs\n",
       "1    atif   18        ENC\n",
       "2  mehtab   20       mech\n",
       "3    ayan   18         cp"
      ]
     },
     "execution_count": 6,
     "metadata": {},
     "output_type": "execute_result"
    }
   ],
   "source": [
    "import pandas as pd\n",
    "data={\n",
    "    \"name\":[\"rohan\",\"atif\",\"mehtab\",\"ayan\"],\n",
    "    \"age\":[21,18,20,18],\n",
    "    \"deportment\":[\"cs\",\"ENC\",\"mech\",\"cp\"]  \n",
    "}\n",
    "df=pd.DataFrame(data)\n",
    "df"
   ]
  },
  {
   "cell_type": "code",
   "execution_count": 12,
   "id": "8483b5a1-d721-4992-9848-103cffed51f5",
   "metadata": {},
   "outputs": [
    {
     "data": {
      "text/plain": [
       "4"
      ]
     },
     "execution_count": 12,
     "metadata": {},
     "output_type": "execute_result"
    }
   ],
   "source": [
    "a=df[\"age\"]>10\n",
    "a.sum()"
   ]
  },
  {
   "cell_type": "code",
   "execution_count": 23,
   "id": "bcdbc9e3-2431-4857-aee6-89f163f18fe1",
   "metadata": {},
   "outputs": [
    {
     "name": "stdout",
     "output_type": "stream",
     "text": [
      "[18, 20, 18]\n"
     ]
    }
   ],
   "source": [
    "b=filter(lambda x:x%2==0,df[\"age\"])\n",
    "print(list(b))"
   ]
  },
  {
   "cell_type": "code",
   "execution_count": 28,
   "id": "8b98c28b-2ef1-430a-bf6f-d539b8b7cfc6",
   "metadata": {},
   "outputs": [
    {
     "ename": "SyntaxError",
     "evalue": "unterminated string literal (detected at line 1) (3889745295.py, line 1)",
     "output_type": "error",
     "traceback": [
      "\u001b[1;36m  Cell \u001b[1;32mIn[28], line 1\u001b[1;36m\u001b[0m\n\u001b[1;33m    df[\"vectorize]=(df[\"age\"]/df[\"code\"])\u001b[0m\n\u001b[1;37m                                      ^\u001b[0m\n\u001b[1;31mSyntaxError\u001b[0m\u001b[1;31m:\u001b[0m unterminated string literal (detected at line 1)\n"
     ]
    }
   ],
   "source": [
    "df[\"vectorize]=(df[\"age\"]/df[\"code\"])"
   ]
  },
  {
   "cell_type": "code",
   "execution_count": 25,
   "id": "38b77aa7-286c-4969-aed1-82250e33f9f9",
   "metadata": {},
   "outputs": [],
   "source": [
    "df[\"code\"]=[10,20,55,64]"
   ]
  },
  {
   "cell_type": "code",
   "execution_count": 26,
   "id": "a7b564b2-f5aa-4e4d-b475-b4be16d5d1c2",
   "metadata": {},
   "outputs": [
    {
     "data": {
      "text/html": [
       "<div>\n",
       "<style scoped>\n",
       "    .dataframe tbody tr th:only-of-type {\n",
       "        vertical-align: middle;\n",
       "    }\n",
       "\n",
       "    .dataframe tbody tr th {\n",
       "        vertical-align: top;\n",
       "    }\n",
       "\n",
       "    .dataframe thead th {\n",
       "        text-align: right;\n",
       "    }\n",
       "</style>\n",
       "<table border=\"1\" class=\"dataframe\">\n",
       "  <thead>\n",
       "    <tr style=\"text-align: right;\">\n",
       "      <th></th>\n",
       "      <th>name</th>\n",
       "      <th>age</th>\n",
       "      <th>deportment</th>\n",
       "      <th>code</th>\n",
       "    </tr>\n",
       "  </thead>\n",
       "  <tbody>\n",
       "    <tr>\n",
       "      <th>0</th>\n",
       "      <td>rohan</td>\n",
       "      <td>21</td>\n",
       "      <td>cs</td>\n",
       "      <td>10</td>\n",
       "    </tr>\n",
       "    <tr>\n",
       "      <th>1</th>\n",
       "      <td>atif</td>\n",
       "      <td>18</td>\n",
       "      <td>ENC</td>\n",
       "      <td>20</td>\n",
       "    </tr>\n",
       "    <tr>\n",
       "      <th>2</th>\n",
       "      <td>mehtab</td>\n",
       "      <td>20</td>\n",
       "      <td>mech</td>\n",
       "      <td>55</td>\n",
       "    </tr>\n",
       "    <tr>\n",
       "      <th>3</th>\n",
       "      <td>ayan</td>\n",
       "      <td>18</td>\n",
       "      <td>cp</td>\n",
       "      <td>64</td>\n",
       "    </tr>\n",
       "  </tbody>\n",
       "</table>\n",
       "</div>"
      ],
      "text/plain": [
       "     name  age deportment  code\n",
       "0   rohan   21         cs    10\n",
       "1    atif   18        ENC    20\n",
       "2  mehtab   20       mech    55\n",
       "3    ayan   18         cp    64"
      ]
     },
     "execution_count": 26,
     "metadata": {},
     "output_type": "execute_result"
    }
   ],
   "source": [
    "df"
   ]
  },
  {
   "cell_type": "code",
   "execution_count": 31,
   "id": "ec1fa047-5e9e-4a4e-9e86-da3bbd1df802",
   "metadata": {},
   "outputs": [
    {
     "data": {
      "text/html": [
       "<div>\n",
       "<style scoped>\n",
       "    .dataframe tbody tr th:only-of-type {\n",
       "        vertical-align: middle;\n",
       "    }\n",
       "\n",
       "    .dataframe tbody tr th {\n",
       "        vertical-align: top;\n",
       "    }\n",
       "\n",
       "    .dataframe thead th {\n",
       "        text-align: right;\n",
       "    }\n",
       "</style>\n",
       "<table border=\"1\" class=\"dataframe\">\n",
       "  <thead>\n",
       "    <tr style=\"text-align: right;\">\n",
       "      <th></th>\n",
       "      <th>name</th>\n",
       "      <th>age</th>\n",
       "      <th>deportment</th>\n",
       "      <th>code</th>\n",
       "      <th>vectorize</th>\n",
       "    </tr>\n",
       "  </thead>\n",
       "  <tbody>\n",
       "    <tr>\n",
       "      <th>0</th>\n",
       "      <td>rohan</td>\n",
       "      <td>21</td>\n",
       "      <td>cs</td>\n",
       "      <td>10</td>\n",
       "      <td>2.100000</td>\n",
       "    </tr>\n",
       "    <tr>\n",
       "      <th>1</th>\n",
       "      <td>atif</td>\n",
       "      <td>18</td>\n",
       "      <td>ENC</td>\n",
       "      <td>20</td>\n",
       "      <td>0.900000</td>\n",
       "    </tr>\n",
       "    <tr>\n",
       "      <th>2</th>\n",
       "      <td>mehtab</td>\n",
       "      <td>20</td>\n",
       "      <td>mech</td>\n",
       "      <td>55</td>\n",
       "      <td>0.363636</td>\n",
       "    </tr>\n",
       "    <tr>\n",
       "      <th>3</th>\n",
       "      <td>ayan</td>\n",
       "      <td>18</td>\n",
       "      <td>cp</td>\n",
       "      <td>64</td>\n",
       "      <td>0.281250</td>\n",
       "    </tr>\n",
       "  </tbody>\n",
       "</table>\n",
       "</div>"
      ],
      "text/plain": [
       "     name  age deportment  code  vectorize\n",
       "0   rohan   21         cs    10   2.100000\n",
       "1    atif   18        ENC    20   0.900000\n",
       "2  mehtab   20       mech    55   0.363636\n",
       "3    ayan   18         cp    64   0.281250"
      ]
     },
     "execution_count": 31,
     "metadata": {},
     "output_type": "execute_result"
    }
   ],
   "source": [
    "df[\"vectorize\"]=(df['age']/df['code'])\n",
    "df"
   ]
  },
  {
   "cell_type": "code",
   "execution_count": 37,
   "id": "54c07389-90f1-4fd6-97db-2c2f4d0a90fa",
   "metadata": {},
   "outputs": [
    {
     "ename": "SyntaxError",
     "evalue": "invalid syntax (107896373.py, line 1)",
     "output_type": "error",
     "traceback": [
      "\u001b[1;36m  Cell \u001b[1;32mIn[37], line 1\u001b[1;36m\u001b[0m\n\u001b[1;33m    df add(x.y):\u001b[0m\n\u001b[1;37m       ^\u001b[0m\n\u001b[1;31mSyntaxError\u001b[0m\u001b[1;31m:\u001b[0m invalid syntax\n"
     ]
    }
   ],
   "source": [
    "df add(x.y):\n",
    "\n",
    "\n",
    "list=[10,30,50,60,70]\n",
    "result=reduce(add,lis"
   ]
  },
  {
   "cell_type": "code",
   "execution_count": 44,
   "id": "23ffd338-f950-4948-87be-5fe2b2aedd7a",
   "metadata": {},
   "outputs": [
    {
     "ename": "SyntaxError",
     "evalue": "invalid syntax (4140959118.py, line 2)",
     "output_type": "error",
     "traceback": [
      "\u001b[1;36m  Cell \u001b[1;32mIn[44], line 2\u001b[1;36m\u001b[0m\n\u001b[1;33m    df add(x,y):\u001b[0m\n\u001b[1;37m       ^\u001b[0m\n\u001b[1;31mSyntaxError\u001b[0m\u001b[1;31m:\u001b[0m invalid syntax\n"
     ]
    }
   ],
   "source": [
    "from functools import reduce\n",
    "df add(x,y):\n",
    "    return x+y\n",
    "\n",
    "\n",
    "list=[10,20,30,40,50,60,70]\n",
    "result=reduce(add,list)"
   ]
  },
  {
   "cell_type": "code",
   "execution_count": null,
   "id": "d143a7d2-f6d8-4f29-be40-2ac0c6696c8b",
   "metadata": {},
   "outputs": [],
   "source": []
  }
 ],
 "metadata": {
  "kernelspec": {
   "display_name": "Python 3 (ipykernel)",
   "language": "python",
   "name": "python3"
  },
  "language_info": {
   "codemirror_mode": {
    "name": "ipython",
    "version": 3
   },
   "file_extension": ".py",
   "mimetype": "text/x-python",
   "name": "python",
   "nbconvert_exporter": "python",
   "pygments_lexer": "ipython3",
   "version": "3.12.4"
  }
 },
 "nbformat": 4,
 "nbformat_minor": 5
}
