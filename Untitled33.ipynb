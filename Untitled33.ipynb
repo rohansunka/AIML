{
 "cells": [
  {
   "cell_type": "code",
   "execution_count": 5,
   "id": "5a458787-c620-4e04-a4dc-ae7b2f0e3ab5",
   "metadata": {},
   "outputs": [
    {
     "name": "stdout",
     "output_type": "stream",
     "text": [
      "the list is [10, 20, 30, 40, 50]\n",
      "the length of the list is 5\n",
      "[50, 40, 30, 20, 10]\n"
     ]
    }
   ],
   "source": [
    "a=[10,20,30,40,50]\n",
    "print(\"the list is\",a)\n",
    "print(\"the length of the list is\",len(a))\n",
    "print(a[::-1])\n"
   ]
  },
  {
   "cell_type": "code",
   "execution_count": 9,
   "id": "7a2098ef-633c-4b5c-9e67-96a299cd9e77",
   "metadata": {},
   "outputs": [
    {
     "name": "stdout",
     "output_type": "stream",
     "text": [
      "the name is rohan\n",
      "the age is 56\n",
      "the register number is 20\n"
     ]
    }
   ],
   "source": [
    "class student:\n",
    "    def __init__(self):\n",
    "        self.name=\" \"\n",
    "        self.age=0\n",
    "        self.reg=0\n",
    "    def push(self,n,r,a):\n",
    "        self.name=n\n",
    "        self.age=a\n",
    "        self.reg=r\n",
    "    def display(self):\n",
    "        print(\"the name is\",self.name)\n",
    "        print(\"the age is\",self.age)\n",
    "        print(\"the register number is\",self.reg)\n",
    "a=student()\n",
    "a.push(\"rohan\",20,56)\n",
    "a.display()\n",
    "    "
   ]
  },
  {
   "cell_type": "code",
   "execution_count": 15,
   "id": "3ca1134f-8705-46e0-9ec2-fc4600296eb7",
   "metadata": {},
   "outputs": [
    {
     "name": "stdin",
     "output_type": "stream",
     "text": [
      "enter any number 10\n"
     ]
    },
    {
     "name": "stdout",
     "output_type": "stream",
     "text": [
      " found\n"
     ]
    }
   ],
   "source": [
    "a=[10,30,20,50,90,40]\n",
    "key=int(input(\"enter any number\"))\n",
    "flag=-1\n",
    "for i in range(len(a)):\n",
    "    if a[i]==key:\n",
    "        flag=i\n",
    "        break\n",
    "if flag==-1:\n",
    "    print(\" not element is found\")\n",
    "else:\n",
    "    print(\" found\")"
   ]
  },
  {
   "cell_type": "code",
   "execution_count": 38,
   "id": "dcd0cdd8-0e1e-4c87-ac88-bb6ee9970128",
   "metadata": {},
   "outputs": [
    {
     "name": "stdout",
     "output_type": "stream",
     "text": [
      "[10, 20, 30, 50, 80, 90]\n"
     ]
    }
   ],
   "source": [
    "a=[10,30,20,50,90,80]\n",
    "n=len(a)\n",
    "for i in range(n):\n",
    "    for j in range(n-1):\n",
    "        if(a[j]>a[j+1]):\n",
    "            temp=a[j]\n",
    "            a[j]=a[j+1]\n",
    "            a[j+1]=temp\n",
    "print(a)\n",
    "        \n",
    "        "
   ]
  },
  {
   "cell_type": "code",
   "execution_count": 48,
   "id": "5bd519e5-1b30-4eae-81c8-4774b5430948",
   "metadata": {},
   "outputs": [
    {
     "name": "stdout",
     "output_type": "stream",
     "text": [
      "[10, 20, 30, 40, 50, 90]\n"
     ]
    }
   ],
   "source": [
    "a=[10,30,20,50,90,40]\n",
    "n=len(a)\n",
    "for i in range(n-1):\n",
    "    min=i\n",
    "    for j in range(i+1,n):\n",
    "        if a[j]<a[min]:\n",
    "            temp=a[j]\n",
    "            a[j]=a[min]\n",
    "            a[min]=temp\n",
    "print(a)"
   ]
  },
  {
   "cell_type": "code",
   "execution_count": null,
   "id": "f2a366ac-0440-45d5-abb7-4508e570fbe1",
   "metadata": {},
   "outputs": [],
   "source": []
  },
  {
   "cell_type": "code",
   "execution_count": null,
   "id": "8e51d34d-8443-4f36-86b2-b00876262b01",
   "metadata": {},
   "outputs": [],
   "source": []
  }
 ],
 "metadata": {
  "kernelspec": {
   "display_name": "Python 3 (ipykernel)",
   "language": "python",
   "name": "python3"
  },
  "language_info": {
   "codemirror_mode": {
    "name": "ipython",
    "version": 3
   },
   "file_extension": ".py",
   "mimetype": "text/x-python",
   "name": "python",
   "nbconvert_exporter": "python",
   "pygments_lexer": "ipython3",
   "version": "3.12.4"
  }
 },
 "nbformat": 4,
 "nbformat_minor": 5
}
