{
 "cells": [
  {
   "cell_type": "code",
   "execution_count": 17,
   "id": "95e4851d-8a27-4a80-a9db-9ce0e7e30520",
   "metadata": {},
   "outputs": [
    {
     "name": "stdin",
     "output_type": "stream",
     "text": [
      "enter any number 10\n"
     ]
    },
    {
     "name": "stdout",
     "output_type": "stream",
     "text": [
      "[10, 20, 30, 40, 50]\n"
     ]
    },
    {
     "ename": "NameError",
     "evalue": "name 'mid' is not defined",
     "output_type": "error",
     "traceback": [
      "\u001b[1;31m---------------------------------------------------------------------------\u001b[0m",
      "\u001b[1;31mNameError\u001b[0m                                 Traceback (most recent call last)",
      "Cell \u001b[1;32mIn[17], line 16\u001b[0m\n\u001b[0;32m     14\u001b[0m key\u001b[38;5;241m=\u001b[39m\u001b[38;5;28mint\u001b[39m(\u001b[38;5;28minput\u001b[39m(\u001b[38;5;124m\"\u001b[39m\u001b[38;5;124menter any number\u001b[39m\u001b[38;5;124m\"\u001b[39m))\n\u001b[0;32m     15\u001b[0m \u001b[38;5;28mprint\u001b[39m(a)\n\u001b[1;32m---> 16\u001b[0m binary(a,key)\n",
      "Cell \u001b[1;32mIn[17], line 6\u001b[0m, in \u001b[0;36mbinary\u001b[1;34m(a, key)\u001b[0m\n\u001b[0;32m      4\u001b[0m \u001b[38;5;28;01mwhile\u001b[39;00m(s\u001b[38;5;241m<\u001b[39m\u001b[38;5;241m=\u001b[39me):\n\u001b[0;32m      5\u001b[0m     m\u001b[38;5;241m=\u001b[39m(s\u001b[38;5;241m+\u001b[39me)\u001b[38;5;241m/\u001b[39m\u001b[38;5;241m2\u001b[39m\n\u001b[1;32m----> 6\u001b[0m     \u001b[38;5;28;01mif\u001b[39;00m(key\u001b[38;5;241m==\u001b[39m[mid]):\n\u001b[0;32m      7\u001b[0m         \u001b[38;5;28mprint\u001b[39m(\u001b[38;5;124m\"\u001b[39m\u001b[38;5;124melement is fopund\u001b[39m\u001b[38;5;124m\"\u001b[39m)\n\u001b[0;32m      8\u001b[0m         \u001b[38;5;28;01mbreak\u001b[39;00m\n",
      "\u001b[1;31mNameError\u001b[0m: name 'mid' is not defined"
     ]
    }
   ],
   "source": [
    "def binary(a,key):\n",
    "    s=0\n",
    "    e=len(a)-1\n",
    "    while(s<=e):\n",
    "        m=(s+e)/2\n",
    "        if(key==[mid]):\n",
    "            print(\"element is fopund\")\n",
    "            break\n",
    "        elif(key<a[m]):\n",
    "            end=m-1\n",
    "        else:\n",
    "            m+1\n",
    "a=[10,20,30,40,50]\n",
    "key=int(input(\"enter any number\"))\n",
    "print(a)\n",
    "binary(a,key)"
   ]
  },
  {
   "cell_type": "code",
   "execution_count": null,
   "id": "7dec7e63-c7cf-486c-b474-8fa5dc305841",
   "metadata": {},
   "outputs": [],
   "source": []
  }
 ],
 "metadata": {
  "kernelspec": {
   "display_name": "Python 3 (ipykernel)",
   "language": "python",
   "name": "python3"
  },
  "language_info": {
   "codemirror_mode": {
    "name": "ipython",
    "version": 3
   },
   "file_extension": ".py",
   "mimetype": "text/x-python",
   "name": "python",
   "nbconvert_exporter": "python",
   "pygments_lexer": "ipython3",
   "version": "3.12.4"
  }
 },
 "nbformat": 4,
 "nbformat_minor": 5
}
