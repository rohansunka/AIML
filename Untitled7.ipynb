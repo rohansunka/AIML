{
 "cells": [
  {
   "cell_type": "code",
   "execution_count": 5,
   "id": "a9f24a3d-a28e-459d-a8d8-a5173f48dd60",
   "metadata": {},
   "outputs": [
    {
     "name": "stdout",
     "output_type": "stream",
     "text": [
      "<class 'numpy.ndarray'>\n",
      "the index is 60\n",
      "the indexing is [60 30 20 70 50]\n"
     ]
    }
   ],
   "source": [
    "import numpy as np\n",
    "a=np.array([45,60,30,20,70,50])\n",
    "print(type(a))\n",
    "print(\"the index is\",a[1])\n",
    "print(\"the indexing is\",a[1:6])"
   ]
  },
  {
   "cell_type": "code",
   "execution_count": 11,
   "id": "671ef961-38e2-45c0-9fd6-638f8b21932c",
   "metadata": {},
   "outputs": [
    {
     "name": "stdout",
     "output_type": "stream",
     "text": [
      "(2, 4)\n"
     ]
    }
   ],
   "source": [
    "import numpy as np\n",
    "a=np.array([[30,40,60,90],[50,70,60,80]])\n",
    "print(a.shape)"
   ]
  },
  {
   "cell_type": "code",
   "execution_count": 17,
   "id": "f861c3c8-b04c-49ea-9dc5-c260490eb42d",
   "metadata": {},
   "outputs": [
    {
     "name": "stdout",
     "output_type": "stream",
     "text": [
      "[[30 40 60 90]\n",
      " [50 70 60 80]]\n"
     ]
    }
   ],
   "source": [
    "import numpy as np\n",
    "a=np.array([30,40,60,90,50,70,60,80])\n",
    "print(a.reshape(2,4))"
   ]
  },
  {
   "cell_type": "code",
   "execution_count": 28,
   "id": "f1776846-db85-4e0d-86d9-72c7285a80ae",
   "metadata": {},
   "outputs": [
    {
     "name": "stdout",
     "output_type": "stream",
     "text": [
      "[10 15 16 23 12 20 18 18 12 20 24 18 21 20 13 15 23 15 22 13 12 17 16 16\n",
      " 24 17 19 18 16 19 13 10 22 15 18 23 12 13 17 21 21 23 23 16 15 15 10 18\n",
      " 17 18 14 18 22 12 22 14 23 17 24 14]\n"
     ]
    }
   ],
   "source": [
    "from numpy import random\n",
    "x=random.randint(10,25,60)\n",
    "print(x)\n"
   ]
  },
  {
   "cell_type": "code",
   "execution_count": null,
   "id": "99f847d7-5a9e-4840-b4e5-8cdfea79d57e",
   "metadata": {},
   "outputs": [],
   "source": []
  },
  {
   "cell_type": "code",
   "execution_count": 33,
   "id": "573a5a29-10e4-452e-b18f-93d27cd15afd",
   "metadata": {},
   "outputs": [
    {
     "name": "stdout",
     "output_type": "stream",
     "text": [
      "0    1\n",
      "1    7\n",
      "2    2\n",
      "dtype: int64\n"
     ]
    }
   ],
   "source": [
    "import pandas as pd\n",
    "\n",
    "a = [1, 7, 2]\n",
    "\n",
    "myvar = pd.Series(a)\n",
    "\n",
    "print(myvar)"
   ]
  },
  {
   "cell_type": "code",
   "execution_count": 59,
   "id": "c06c9e94-4c4a-498c-a209-2f9bcd50f2b9",
   "metadata": {},
   "outputs": [],
   "source": [
    "import pandas as pd\n",
    "data={\n",
    "    'name':['rohan','manoj','mehtab','ayan','mohamed atif'],\n",
    "    'age':[20,40,60,80,100,120]\n",
    "}\n",
    "a=pandas.DataFrame"
   ]
  },
  {
   "cell_type": "code",
   "execution_count": 57,
   "id": "c957b475-8f01-4307-9b22-8ec245564d8f",
   "metadata": {},
   "outputs": [
    {
     "name": "stdout",
     "output_type": "stream",
     "text": [
      "   rohan  mehtab\n",
      "0     10      10\n",
      "1     20      20\n",
      "2     30      30\n",
      "3     40      40\n"
     ]
    }
   ],
   "source": [
    "import pandas\n",
    "data={\n",
    "    \"rohan\" :[10,20,30,40],\n",
    "     \"mehtab\" :[10,20,30,40]\n",
    "}\n",
    "a=pandas.DataFrame(data)\n",
    "print(a)"
   ]
  },
  {
   "cell_type": "code",
   "execution_count": 64,
   "id": "758e701f-65fd-44c8-8c38-03adba32d3a4",
   "metadata": {},
   "outputs": [
    {
     "name": "stdout",
     "output_type": "stream",
     "text": [
      "[10 20 30 40 50 60]\n",
      "10\n",
      "60\n",
      "35.0\n",
      "210\n"
     ]
    }
   ],
   "source": [
    "import numpy as np\n",
    "a=np.array((10,20,30,40,50,60))\n",
    "print(a)\n",
    "print(a.min())\n",
    "print(a.max())\n",
    "print(a.mean())\n",
    "print(a.sum())"
   ]
  },
  {
   "cell_type": "code",
   "execution_count": 69,
   "id": "c3b98d03-8540-4cbb-b61f-df2e2b4b73c3",
   "metadata": {},
   "outputs": [
    {
     "name": "stdout",
     "output_type": "stream",
     "text": [
      "<filter object at 0x000001F864D899F0>\n"
     ]
    }
   ],
   "source": [
    "a=[20,70,90,10,50,60]\n",
    "b=filter( lambda x : x % 2 == 0, a)\n",
    "print(b)"
   ]
  },
  {
   "cell_type": "code",
   "execution_count": null,
   "id": "fc0d7c01-46e4-4a37-b55a-0cb04f6503c1",
   "metadata": {},
   "outputs": [],
   "source": []
  }
 ],
 "metadata": {
  "kernelspec": {
   "display_name": "Python 3 (ipykernel)",
   "language": "python",
   "name": "python3"
  },
  "language_info": {
   "codemirror_mode": {
    "name": "ipython",
    "version": 3
   },
   "file_extension": ".py",
   "mimetype": "text/x-python",
   "name": "python",
   "nbconvert_exporter": "python",
   "pygments_lexer": "ipython3",
   "version": "3.12.4"
  }
 },
 "nbformat": 4,
 "nbformat_minor": 5
}
