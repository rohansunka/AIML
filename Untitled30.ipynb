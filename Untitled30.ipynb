{
 "cells": [
  {
   "cell_type": "code",
   "execution_count": null,
   "id": "e93b5c30-47ea-4631-bc55-feee949eabb4",
   "metadata": {},
   "outputs": [],
   "source": [
    "import numpy as np\n",
    "import pandas as pd\n",
    "import matplotlib.pyplot as plt\n",
    "import seaborn as sns\n",
    "import warnings\n",
    "warnings.filterwarnings('ignore')"
   ]
  },
  {
   "cell_type": "code",
   "execution_count": 5,
   "id": "79bcea42-92d2-408e-b5c5-18d6732f9007",
   "metadata": {},
   "outputs": [],
   "source": [
    "df = pd.read_csv(\"Downloads/Indian_House_Rent_Dataset.csv\")"
   ]
  },
  {
   "cell_type": "code",
   "execution_count": 6,
   "id": "557432d3-e8da-433c-ace9-3cf08324e20e",
   "metadata": {},
   "outputs": [
    {
     "name": "stdout",
     "output_type": "stream",
     "text": [
      "       Posted On       BHK    Size         Floor    Area Type  \\\n",
      "0            NaN       2.0  1100.0           NaN   Super Area   \n",
      "1     2022-05-13       2.0   800.0    1 out of 3   Super Area   \n",
      "2     2022-05-16       2.0  1000.0    1 out of 3   Super Area   \n",
      "3     2022-07-04       2.0   800.0    1 out of 2   Super Area   \n",
      "4     2022-05-09  2.0 room   850.0    1 out of 2  Carpet Area   \n",
      "...          ...       ...     ...           ...          ...   \n",
      "4741  2022-05-18       NaN  1000.0    3 out of 5  Carpet Area   \n",
      "4742         NaN       3.0  2000.0    1 out of 4   Super Area   \n",
      "4743  2022-07-10       NaN  1750.0           NaN          NaN   \n",
      "4744  2022-07-06       NaN  1500.0  23 out of 34  Carpet Area   \n",
      "4745  2022-05-04       2.0  1000.0    4 out of 5  Carpet Area   \n",
      "\n",
      "                 Area Locality               City Furnishing Status  \\\n",
      "0                       Bandel    India-! Kolkata       Unfurnished   \n",
      "1     Phool Bagan, Kankurgachi    India-! Kolkata    Semi-Furnished   \n",
      "2      Salt Lake City Sector 2    India-- Kolkata    Semi-Furnished   \n",
      "3                          NaN                NaN       Unfurnished   \n",
      "4                South Dum Dum    India-^ Kolkata       Unfurnished   \n",
      "...                        ...                ...               ...   \n",
      "4741              Bandam Kommu  India-< Hyderabad    Semi-Furnished   \n",
      "4742                       NaN  India-| Hyderabad    Semi-Furnished   \n",
      "4743                       NaN      %-9 Hyderabad    Semi-Furnished   \n",
      "4744                Gachibowli  India-{ Hyderabad    Semi-Furnished   \n",
      "4745           Suchitra Circle      _-9 Hyderabad               NaN   \n",
      "\n",
      "        Tenant Preferred Bathroom Point of Contact   Rent  \n",
      "0     Bach^elors/Fam.ily      2.0    Contact Owner  10000  \n",
      "1     Bachelors\\/Family*      NaN              NaN  20000  \n",
      "2                    NaN      1.0    Contact Owner  17000  \n",
      "3     Bachel]ors/F@amily      1.0              NaN  10000  \n",
      "4            Bache[lors&      1.0    Contact Owner   7500  \n",
      "...                  ...      ...              ...    ...  \n",
      "4741  Bachelors/Fa:mily!      2.0    Contact Owner  15000  \n",
      "4742  B?achelors,/Family      3.0    Contact Owner  29000  \n",
      "4743  !Bachelors+/Family      3.0              NaN  35000  \n",
      "4744            $Family%      2.0    Contact Agent  45000  \n",
      "4745         Bachelo%rs:      2.0              NaN  15000  \n",
      "\n",
      "[4746 rows x 12 columns]\n"
     ]
    }
   ],
   "source": [
    "print(df)"
   ]
  },
  {
   "cell_type": "code",
   "execution_count": 7,
   "id": "dde93614-f65d-4fe4-921c-dffe6c47e500",
   "metadata": {},
   "outputs": [
    {
     "data": {
      "text/html": [
       "<div>\n",
       "<style scoped>\n",
       "    .dataframe tbody tr th:only-of-type {\n",
       "        vertical-align: middle;\n",
       "    }\n",
       "\n",
       "    .dataframe tbody tr th {\n",
       "        vertical-align: top;\n",
       "    }\n",
       "\n",
       "    .dataframe thead th {\n",
       "        text-align: right;\n",
       "    }\n",
       "</style>\n",
       "<table border=\"1\" class=\"dataframe\">\n",
       "  <thead>\n",
       "    <tr style=\"text-align: right;\">\n",
       "      <th></th>\n",
       "      <th>Posted On</th>\n",
       "      <th>BHK</th>\n",
       "      <th>Size</th>\n",
       "      <th>Floor</th>\n",
       "      <th>Area Type</th>\n",
       "      <th>Area Locality</th>\n",
       "      <th>City</th>\n",
       "      <th>Furnishing Status</th>\n",
       "      <th>Tenant Preferred</th>\n",
       "      <th>Bathroom</th>\n",
       "      <th>Point of Contact</th>\n",
       "      <th>Rent</th>\n",
       "    </tr>\n",
       "  </thead>\n",
       "  <tbody>\n",
       "    <tr>\n",
       "      <th>0</th>\n",
       "      <td>NaN</td>\n",
       "      <td>2.0</td>\n",
       "      <td>1100.0</td>\n",
       "      <td>NaN</td>\n",
       "      <td>Super Area</td>\n",
       "      <td>Bandel</td>\n",
       "      <td>India-! Kolkata</td>\n",
       "      <td>Unfurnished</td>\n",
       "      <td>Bach^elors/Fam.ily</td>\n",
       "      <td>2.0</td>\n",
       "      <td>Contact Owner</td>\n",
       "      <td>10000</td>\n",
       "    </tr>\n",
       "    <tr>\n",
       "      <th>1</th>\n",
       "      <td>2022-05-13</td>\n",
       "      <td>2.0</td>\n",
       "      <td>800.0</td>\n",
       "      <td>1 out of 3</td>\n",
       "      <td>Super Area</td>\n",
       "      <td>Phool Bagan, Kankurgachi</td>\n",
       "      <td>India-! Kolkata</td>\n",
       "      <td>Semi-Furnished</td>\n",
       "      <td>Bachelors\\/Family*</td>\n",
       "      <td>NaN</td>\n",
       "      <td>NaN</td>\n",
       "      <td>20000</td>\n",
       "    </tr>\n",
       "    <tr>\n",
       "      <th>2</th>\n",
       "      <td>2022-05-16</td>\n",
       "      <td>2.0</td>\n",
       "      <td>1000.0</td>\n",
       "      <td>1 out of 3</td>\n",
       "      <td>Super Area</td>\n",
       "      <td>Salt Lake City Sector 2</td>\n",
       "      <td>India-- Kolkata</td>\n",
       "      <td>Semi-Furnished</td>\n",
       "      <td>NaN</td>\n",
       "      <td>1.0</td>\n",
       "      <td>Contact Owner</td>\n",
       "      <td>17000</td>\n",
       "    </tr>\n",
       "    <tr>\n",
       "      <th>3</th>\n",
       "      <td>2022-07-04</td>\n",
       "      <td>2.0</td>\n",
       "      <td>800.0</td>\n",
       "      <td>1 out of 2</td>\n",
       "      <td>Super Area</td>\n",
       "      <td>NaN</td>\n",
       "      <td>NaN</td>\n",
       "      <td>Unfurnished</td>\n",
       "      <td>Bachel]ors/F@amily</td>\n",
       "      <td>1.0</td>\n",
       "      <td>NaN</td>\n",
       "      <td>10000</td>\n",
       "    </tr>\n",
       "    <tr>\n",
       "      <th>4</th>\n",
       "      <td>2022-05-09</td>\n",
       "      <td>2.0 room</td>\n",
       "      <td>850.0</td>\n",
       "      <td>1 out of 2</td>\n",
       "      <td>Carpet Area</td>\n",
       "      <td>South Dum Dum</td>\n",
       "      <td>India-^ Kolkata</td>\n",
       "      <td>Unfurnished</td>\n",
       "      <td>Bache[lors&amp;</td>\n",
       "      <td>1.0</td>\n",
       "      <td>Contact Owner</td>\n",
       "      <td>7500</td>\n",
       "    </tr>\n",
       "  </tbody>\n",
       "</table>\n",
       "</div>"
      ],
      "text/plain": [
       "    Posted On       BHK    Size       Floor    Area Type  \\\n",
       "0         NaN       2.0  1100.0         NaN   Super Area   \n",
       "1  2022-05-13       2.0   800.0  1 out of 3   Super Area   \n",
       "2  2022-05-16       2.0  1000.0  1 out of 3   Super Area   \n",
       "3  2022-07-04       2.0   800.0  1 out of 2   Super Area   \n",
       "4  2022-05-09  2.0 room   850.0  1 out of 2  Carpet Area   \n",
       "\n",
       "              Area Locality             City Furnishing Status  \\\n",
       "0                    Bandel  India-! Kolkata       Unfurnished   \n",
       "1  Phool Bagan, Kankurgachi  India-! Kolkata    Semi-Furnished   \n",
       "2   Salt Lake City Sector 2  India-- Kolkata    Semi-Furnished   \n",
       "3                       NaN              NaN       Unfurnished   \n",
       "4             South Dum Dum  India-^ Kolkata       Unfurnished   \n",
       "\n",
       "     Tenant Preferred Bathroom Point of Contact   Rent  \n",
       "0  Bach^elors/Fam.ily      2.0    Contact Owner  10000  \n",
       "1  Bachelors\\/Family*      NaN              NaN  20000  \n",
       "2                 NaN      1.0    Contact Owner  17000  \n",
       "3  Bachel]ors/F@amily      1.0              NaN  10000  \n",
       "4         Bache[lors&      1.0    Contact Owner   7500  "
      ]
     },
     "execution_count": 7,
     "metadata": {},
     "output_type": "execute_result"
    }
   ],
   "source": [
    "df.head()"
   ]
  },
  {
   "cell_type": "code",
   "execution_count": 8,
   "id": "e76ae2bb-9080-49a5-90e8-23a86bb4e036",
   "metadata": {},
   "outputs": [
    {
     "name": "stdout",
     "output_type": "stream",
     "text": [
      "<class 'pandas.core.frame.DataFrame'>\n",
      "RangeIndex: 4746 entries, 0 to 4745\n",
      "Data columns (total 12 columns):\n",
      " #   Column             Non-Null Count  Dtype \n",
      "---  ------             --------------  ----- \n",
      " 0   Posted On          4084 non-null   object\n",
      " 1   BHK                3963 non-null   object\n",
      " 2   Size               3826 non-null   object\n",
      " 3   Floor              3960 non-null   object\n",
      " 4   Area Type          3804 non-null   object\n",
      " 5   Area Locality      4146 non-null   object\n",
      " 6   City               4091 non-null   object\n",
      " 7   Furnishing Status  4042 non-null   object\n",
      " 8   Tenant Preferred   4094 non-null   object\n",
      " 9   Bathroom           4205 non-null   object\n",
      " 10  Point of Contact   4137 non-null   object\n",
      " 11  Rent               4746 non-null   int64 \n",
      "dtypes: int64(1), object(11)\n",
      "memory usage: 445.1+ KB\n"
     ]
    }
   ],
   "source": [
    "df.info()\n"
   ]
  },
  {
   "cell_type": "code",
   "execution_count": 9,
   "id": "7426d2d3-9576-4079-afc3-adedb511ceb1",
   "metadata": {},
   "outputs": [
    {
     "data": {
      "text/html": [
       "<div>\n",
       "<style scoped>\n",
       "    .dataframe tbody tr th:only-of-type {\n",
       "        vertical-align: middle;\n",
       "    }\n",
       "\n",
       "    .dataframe tbody tr th {\n",
       "        vertical-align: top;\n",
       "    }\n",
       "\n",
       "    .dataframe thead th {\n",
       "        text-align: right;\n",
       "    }\n",
       "</style>\n",
       "<table border=\"1\" class=\"dataframe\">\n",
       "  <thead>\n",
       "    <tr style=\"text-align: right;\">\n",
       "      <th></th>\n",
       "      <th>Rent</th>\n",
       "    </tr>\n",
       "  </thead>\n",
       "  <tbody>\n",
       "    <tr>\n",
       "      <th>count</th>\n",
       "      <td>4.746000e+03</td>\n",
       "    </tr>\n",
       "    <tr>\n",
       "      <th>mean</th>\n",
       "      <td>3.499345e+04</td>\n",
       "    </tr>\n",
       "    <tr>\n",
       "      <th>std</th>\n",
       "      <td>7.810641e+04</td>\n",
       "    </tr>\n",
       "    <tr>\n",
       "      <th>min</th>\n",
       "      <td>1.200000e+03</td>\n",
       "    </tr>\n",
       "    <tr>\n",
       "      <th>25%</th>\n",
       "      <td>1.000000e+04</td>\n",
       "    </tr>\n",
       "    <tr>\n",
       "      <th>50%</th>\n",
       "      <td>1.600000e+04</td>\n",
       "    </tr>\n",
       "    <tr>\n",
       "      <th>75%</th>\n",
       "      <td>3.300000e+04</td>\n",
       "    </tr>\n",
       "    <tr>\n",
       "      <th>max</th>\n",
       "      <td>3.500000e+06</td>\n",
       "    </tr>\n",
       "  </tbody>\n",
       "</table>\n",
       "</div>"
      ],
      "text/plain": [
       "               Rent\n",
       "count  4.746000e+03\n",
       "mean   3.499345e+04\n",
       "std    7.810641e+04\n",
       "min    1.200000e+03\n",
       "25%    1.000000e+04\n",
       "50%    1.600000e+04\n",
       "75%    3.300000e+04\n",
       "max    3.500000e+06"
      ]
     },
     "execution_count": 9,
     "metadata": {},
     "output_type": "execute_result"
    }
   ],
   "source": [
    "df.describe()"
   ]
  },
  {
   "cell_type": "code",
   "execution_count": 10,
   "id": "3163efce-1c07-4a54-8bd7-044fb473f1bf",
   "metadata": {},
   "outputs": [
    {
     "data": {
      "text/plain": [
       "Posted On            662\n",
       "BHK                  783\n",
       "Size                 920\n",
       "Floor                786\n",
       "Area Type            942\n",
       "Area Locality        600\n",
       "City                 655\n",
       "Furnishing Status    704\n",
       "Tenant Preferred     652\n",
       "Bathroom             541\n",
       "Point of Contact     609\n",
       "Rent                   0\n",
       "dtype: int64"
      ]
     },
     "execution_count": 10,
     "metadata": {},
     "output_type": "execute_result"
    }
   ],
   "source": [
    "df.isnull().sum()"
   ]
  },
  {
   "cell_type": "code",
   "execution_count": 18,
   "id": "71b48cf9-7c40-4338-ae56-41688c043db6",
   "metadata": {},
   "outputs": [
    {
     "data": {
      "text/plain": [
       "array(['2', '1', nan, '3', '6', '4', '5'], dtype=object)"
      ]
     },
     "execution_count": 18,
     "metadata": {},
     "output_type": "execute_result"
    }
   ],
   "source": [
    "df['BHK'].unique()"
   ]
  },
  {
   "cell_type": "code",
   "execution_count": 19,
   "id": "3bbd86de-45cc-40c5-bffb-22635a0c2979",
   "metadata": {},
   "outputs": [],
   "source": [
    "df['BHK'] = df['BHK'].str.extract(r'(\\d+)')"
   ]
  },
  {
   "cell_type": "code",
   "execution_count": 16,
   "id": "9310f80f-7f10-46a7-a96f-4ebd541a1371",
   "metadata": {},
   "outputs": [
    {
     "data": {
      "text/plain": [
       "array(['2', '1', nan, '3', '6', '4', '5'], dtype=object)"
      ]
     },
     "execution_count": 16,
     "metadata": {},
     "output_type": "execute_result"
    }
   ],
   "source": [
    "\n",
    "df['BHK'].unique()"
   ]
  },
  {
   "cell_type": "code",
   "execution_count": 20,
   "id": "9a1cc279-f876-42a7-95d9-8681eaeb8bff",
   "metadata": {},
   "outputs": [
    {
     "data": {
      "text/plain": [
       "BHK\n",
       "2    1921\n",
       "1     947\n",
       "3     911\n",
       "4     162\n",
       "5      17\n",
       "6       5\n",
       "Name: count, dtype: int64"
      ]
     },
     "execution_count": 20,
     "metadata": {},
     "output_type": "execute_result"
    }
   ],
   "source": [
    "df['BHK'].value_counts()"
   ]
  },
  {
   "cell_type": "code",
   "execution_count": 21,
   "id": "785901d2-cf27-4d43-b189-00133e0ab9c9",
   "metadata": {},
   "outputs": [],
   "source": [
    "df['BHK'] = pd.to_numeric(df['BHK'])"
   ]
  },
  {
   "cell_type": "code",
   "execution_count": 22,
   "id": "dc7eaddf-ae51-4e54-b509-a0629525b096",
   "metadata": {},
   "outputs": [
    {
     "data": {
      "text/plain": [
       "array(['1100.0', '800.0', '1000.0', '850.0', '600.0', '700.0', '250.0',\n",
       "       nan, '1200.0', '400.0', '375.0', '900.0', '1286.0', '2000.0',\n",
       "       '650.0', '300.0', '1600.0', '355.0', '350.0', '550.0', '500.0',\n",
       "       '630.0', '270.0', '1500.0', '1068.0', '150.0', '450.0', '720.0',\n",
       "       '680.0', '950.0', '1800.0', '480.0', '435.0', '1300.0', '1450.0',\n",
       "       '750.0', '220.0', '20.0', '200.0', '840.0', '740.0', '490.0',\n",
       "       '280.0', '120.0', '1220.0', '670.0', '240.0', '2200.0', '685.0',\n",
       "       '44.0', '392.0', '710.0', '1400.0', '160.0', '1250.0', '839.0',\n",
       "       '230.0', '620.0', '1350.0Square Feet', '723.0', '320.0', '2160.0',\n",
       "       '1700.0', '130.0', '505.0', '4000.0', '1190.0', '1012.0', '812.0',\n",
       "       '420.0', '1750.0', '830.0', '1050.0', '960.0', '756.0', '288.0',\n",
       "       '1600.0Square Feet', '986.0', '322.0', '957.0', '1430.0', '1320.0',\n",
       "       '650.0Square Feet', '475.0', '550.0Square Feet', '570.0', '460.0',\n",
       "       '530.0', '850.0Square Feet', '558.0', '175.0', '721.0', '2210.0',\n",
       "       '675.0', '1880.0', '640.0', '518.0', '777.0', '2308.0', '890.0',\n",
       "       '888.0', '275.0', '424.0', '610.0', '722.0', '1150.0', '470.0',\n",
       "       '410.0', '435.0Square Feet', '932.0', '560.0', '3000.0', '751.0',\n",
       "       '696.0', '2500.0', '715.0', '1337.0', '737.0', '760.0', '365.0',\n",
       "       '2000.0Square Feet', '1330.0', '2600.0', '1783.0', '565.0',\n",
       "       '1080.0', '825.0', '1545.0', '780.0', '695.0', '1095.0', '790.0',\n",
       "       '661.0', '1350.0', '330.0', '925.0', '1105.0', '1460.0', '415.0',\n",
       "       '1755.0', '628.0', '1064.0', '845.0', '1915.0', '807.0',\n",
       "       '1100.0Square Feet', '380.0', '428.0', '1550.0', '860.0', '433.0',\n",
       "       '1225.0', '1650.0', '305.0', '690.0', '635.0', '935.0', '535.0',\n",
       "       '3700.0', '1208.0', '3200.0', '225.0', '1900.0', '905.0', '430.0',\n",
       "       '795.0', '575.0', '656.0', '719.0', '3064.0', '3400.0', '980.0',\n",
       "       '413.0', '1850.0', '1705.0', '1355.0', '610.0Square Feet', '471.0',\n",
       "       '1528.0Square Feet', '1030.0', '583.0', '806.0', '390.0', '994.0',\n",
       "       '520.0', '2750.0', '2424.0', '724.0', '1076.0', '485.0', '385.0',\n",
       "       '704.0', '755.0', '700.0Square Feet', '625.0', '805.0', '742.0',\n",
       "       '1265.0', '325.0', '1233.0', '2120.0', '1937.0', '596.0', '1950.0',\n",
       "       '510.0', '1260.0', '770.0', '3900.0', '660.0Square Feet', '694.0',\n",
       "       '1740.0', '472.0', '421.0', '831.0', '753.0', '2800.0', '1197.0',\n",
       "       '880.0', '1088.0', '2650.0', '975.0', '1325.0', '785.0', '1016.0',\n",
       "       '508.0', '623.0', '1358.0', '1255.0', '450.0Square Feet', '870.0',\n",
       "       '1691.0', '615.0', '663.0', '1432.0', '425.0', '649.0', '882.0',\n",
       "       '1710.0', '555.0', '854.0', '1130.0', '495.0', '407.0', '1092.0',\n",
       "       '669.0', '725.0', '1110.0Square Feet', '1110.0', '999.0', '1256.0',\n",
       "       '889.0', '660.0', '434.0', '1121.0', '937.0', '360.0', '379.0',\n",
       "       '440.0', '582.0', '444.0', '1617.0', '836.0', '585.0', '2046.0',\n",
       "       '730.0', '229.0', '910.0', '1648.0', '820.0', '771.0', '465.0',\n",
       "       '1073.0', '310.0Square Feet', '1649.0', '1560.0',\n",
       "       '4500.0Square Feet', '1425.0Square Feet', '1375.0', '920.0',\n",
       "       '265.0', '1663.0', '377.0', '2080.0', '965.0', '2100.0Square Feet',\n",
       "       '1380.0', '540.0', '500.0Square Feet', '970.0', '340.0', '641.0',\n",
       "       '810.0', '875.0', '758.0', '2880.0', '1962.0', '590.0', '1120.0',\n",
       "       '2729.0', '1040.0', '1403.0', '2608.0', '1400.0Square Feet',\n",
       "       '1045.0', '1021.0', '1155.0', '2900.0', '3150.0',\n",
       "       '100.0Square Feet', '1771.0', '773.0', '1840.0', '990.0', '1360.0',\n",
       "       '1757.0', '1281.0', '3500.0', '1221.0', '416.0', '976.0', '1387.0',\n",
       "       '1020.0', '400.0Square Feet', '1645.0', '3276.0', '1893.0',\n",
       "       '1296.0', '455.0', '1066.0', '2150.0', '2110.0', '1025.0',\n",
       "       '1180.0', '580.0', '904.0', '1252.0', '144.0', '1005.0', '1274.0',\n",
       "       '1480.0', '4500.0', '600.0Square Feet', '1115.0', '1278.0',\n",
       "       '4105.0', '1055.0', '800.0Square Feet', '1603.0',\n",
       "       '1900.0Square Feet', '894.0', '2400.0', '1200.0Square Feet',\n",
       "       '1680.0', '1475.0', '2100.0', '4341.0', '846.0', '110.0', '5700.0',\n",
       "       '1760.0', '775.0', '445.0', '2710.0', '1768.0', '1280.0', '532.0',\n",
       "       '1465.0', '940.0', '1789.0', '1618.0', '1580.0', '4550.0',\n",
       "       '1333.0', '1875.0', '1065.0', '1660.0', '625.0Square Feet',\n",
       "       '100.0', '1305.0', '1188.0', '2390.0', '1788.0', '1520.0',\n",
       "       '1464.0', '180.0', '140.0', '70.0', '60.0', '170.0', '48.0',\n",
       "       '1901.0', '145.0', '25.0', '892.0', '80.0', '45.0', '75.0',\n",
       "       '1125.0', '50.0', '63.0', '1440.0', '55.0', '65.0', '2300.0',\n",
       "       '84.0', '90.0', '446.0', '125.0', '2700.0', '30.0', '497.0',\n",
       "       '95.0', '272.0', '585.0Square Feet', '2925.0', '96.0',\n",
       "       '1800.0Square Feet', '545.0', '165.0', '1872.0', '40.0', '42.0',\n",
       "       '3800.0', '1205.0', '950.0Square Feet', '900.0Square Feet', '77.0',\n",
       "       '1000.0Square Feet', '1428.0', '2117.0', '1462.0', '674.0',\n",
       "       '1540.0', '985.0', '930.0', '1234.0', '1162.0', '1425.0', '1145.0',\n",
       "       '3600.0', '898.0', '2036.0', '115.0', '2064.0', '1557.0', '917.0',\n",
       "       '579.0Square Feet', '1920.0', '1002.0', '778.0', '1567.0',\n",
       "       '1113.0', '1175.0', '618.0', '705.0', '901.0', '1340.0', '1246.0',\n",
       "       '1530.0', '1780.0', '1500.0Square Feet', '1402.0Square Feet',\n",
       "       '1484.0', '1065.0Square Feet', '1140.0', '1525.0', '2550.0',\n",
       "       '1132.0', '3300.0', '1785.0', '985.0Square Feet', '1975.0',\n",
       "       '914.0', '1170.0Square Feet', '1444.0', '1503.0', '966.0',\n",
       "       '2900.0Square Feet', '1570.0', '1157.0', '1153.0', '506.0',\n",
       "       '749.0', '1107.0', '1235.0', '1415.0', '281.0', '6000.0', '926.0',\n",
       "       '2280.0', '826.0', '1050.0Square Feet', '745.0', '833.0', '809.0',\n",
       "       '1062.0', '2240.0', '1424.0', '1075.0', '2317.0', '1109.0',\n",
       "       '1290.0', '939.0', '1610.0', '1420.0', '1152.0', '1144.0',\n",
       "       '1903.0', '1383.0', '1912.0', '1146.0', '909.0',\n",
       "       '1570.0Square Feet', '750.0Square Feet', '1270.0', '1625.0',\n",
       "       '1535.0', '647.0', '2061.0', '919.0', '2210.0Square Feet',\n",
       "       '1815.0', '2430.0', '1210.0', '1010.0', '2290.0', '1473.0',\n",
       "       '4050.0Square Feet', '2520.0', '242.0', '1725.0', '878.0',\n",
       "       '1956.0', '1955.0', '1090.0', '1070.0', '3133.0', '2050.0',\n",
       "       '1565.0', '1135.0', '3698.0', '2405.0', '1248.0', '3115.0',\n",
       "       '1374.0', '927.0', '562.0', '1720.0', '103.0', '1730.0', '133.0',\n",
       "       '1315.0', '1230.0', '4761.0', '1970.0', '1940.0', '1170.0',\n",
       "       '167.0', '933.0', '1960.0', '1275.0', '1285.0', '1742.0', '2235.0',\n",
       "       '1283.0', '3455.0', '3050.0', '7000.0', '1606.0', '2352.0',\n",
       "       '2671.0', '1156.0', '67.0', '1060.0', '2780.0', '1685.0', '853.0',\n",
       "       '2310.0', '1965.0', '1834.0', '10.0', '3789.0', '1160.0', '1422.0',\n",
       "       '1124.0', '4200.0', '3250.0', '214.0', '855.0'], dtype=object)"
      ]
     },
     "execution_count": 22,
     "metadata": {},
     "output_type": "execute_result"
    }
   ],
   "source": [
    "df['Size'].unique()"
   ]
  },
  {
   "cell_type": "code",
   "execution_count": null,
   "id": "db624ee3-3ecc-43af-ac38-0580c579c3ac",
   "metadata": {},
   "outputs": [],
   "source": []
  }
 ],
 "metadata": {
  "kernelspec": {
   "display_name": "Python 3 (ipykernel)",
   "language": "python",
   "name": "python3"
  },
  "language_info": {
   "codemirror_mode": {
    "name": "ipython",
    "version": 3
   },
   "file_extension": ".py",
   "mimetype": "text/x-python",
   "name": "python",
   "nbconvert_exporter": "python",
   "pygments_lexer": "ipython3",
   "version": "3.12.4"
  }
 },
 "nbformat": 4,
 "nbformat_minor": 5
}
