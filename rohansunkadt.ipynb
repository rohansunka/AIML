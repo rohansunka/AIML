{
 "cells": [
  {
   "cell_type": "code",
   "execution_count": null,
   "id": "e93b5c30-47ea-4631-bc55-feee949eabb4",
   "metadata": {},
   "outputs": [],
   "source": [
    "import numpy as np\n",
    "import pandas as pd\n",
    "import matplotlib.pyplot as plt\n",
    "import seaborn as sns\n",
    "import warnings\n",
    "warnings.filterwarnings('ignore')"
   ]
  },
  {
   "cell_type": "code",
   "execution_count": 5,
   "id": "79bcea42-92d2-408e-b5c5-18d6732f9007",
   "metadata": {},
   "outputs": [],
   "source": [
    "df = pd.read_csv(\"Downloads/Indian_House_Rent_Dataset.csv\")"
   ]
  },
  {
   "cell_type": "code",
   "execution_count": 6,
   "id": "557432d3-e8da-433c-ace9-3cf08324e20e",
   "metadata": {},
   "outputs": [
    {
     "name": "stdout",
     "output_type": "stream",
     "text": [
      "       Posted On       BHK    Size         Floor    Area Type  \\\n",
      "0            NaN       2.0  1100.0           NaN   Super Area   \n",
      "1     2022-05-13       2.0   800.0    1 out of 3   Super Area   \n",
      "2     2022-05-16       2.0  1000.0    1 out of 3   Super Area   \n",
      "3     2022-07-04       2.0   800.0    1 out of 2   Super Area   \n",
      "4     2022-05-09  2.0 room   850.0    1 out of 2  Carpet Area   \n",
      "...          ...       ...     ...           ...          ...   \n",
      "4741  2022-05-18       NaN  1000.0    3 out of 5  Carpet Area   \n",
      "4742         NaN       3.0  2000.0    1 out of 4   Super Area   \n",
      "4743  2022-07-10       NaN  1750.0           NaN          NaN   \n",
      "4744  2022-07-06       NaN  1500.0  23 out of 34  Carpet Area   \n",
      "4745  2022-05-04       2.0  1000.0    4 out of 5  Carpet Area   \n",
      "\n",
      "                 Area Locality               City Furnishing Status  \\\n",
      "0                       Bandel    India-! Kolkata       Unfurnished   \n",
      "1     Phool Bagan, Kankurgachi    India-! Kolkata    Semi-Furnished   \n",
      "2      Salt Lake City Sector 2    India-- Kolkata    Semi-Furnished   \n",
      "3                          NaN                NaN       Unfurnished   \n",
      "4                South Dum Dum    India-^ Kolkata       Unfurnished   \n",
      "...                        ...                ...               ...   \n",
      "4741              Bandam Kommu  India-< Hyderabad    Semi-Furnished   \n",
      "4742                       NaN  India-| Hyderabad    Semi-Furnished   \n",
      "4743                       NaN      %-9 Hyderabad    Semi-Furnished   \n",
      "4744                Gachibowli  India-{ Hyderabad    Semi-Furnished   \n",
      "4745           Suchitra Circle      _-9 Hyderabad               NaN   \n",
      "\n",
      "        Tenant Preferred Bathroom Point of Contact   Rent  \n",
      "0     Bach^elors/Fam.ily      2.0    Contact Owner  10000  \n",
      "1     Bachelors\\/Family*      NaN              NaN  20000  \n",
      "2                    NaN      1.0    Contact Owner  17000  \n",
      "3     Bachel]ors/F@amily      1.0              NaN  10000  \n",
      "4            Bache[lors&      1.0    Contact Owner   7500  \n",
      "...                  ...      ...              ...    ...  \n",
      "4741  Bachelors/Fa:mily!      2.0    Contact Owner  15000  \n",
      "4742  B?achelors,/Family      3.0    Contact Owner  29000  \n",
      "4743  !Bachelors+/Family      3.0              NaN  35000  \n",
      "4744            $Family%      2.0    Contact Agent  45000  \n",
      "4745         Bachelo%rs:      2.0              NaN  15000  \n",
      "\n",
      "[4746 rows x 12 columns]\n"
     ]
    }
   ],
   "source": [
    "print(df)"
   ]
  },
  {
   "cell_type": "code",
   "execution_count": 7,
   "id": "dde93614-f65d-4fe4-921c-dffe6c47e500",
   "metadata": {},
   "outputs": [
    {
     "data": {
      "text/html": [
       "<div>\n",
       "<style scoped>\n",
       "    .dataframe tbody tr th:only-of-type {\n",
       "        vertical-align: middle;\n",
       "    }\n",
       "\n",
       "    .dataframe tbody tr th {\n",
       "        vertical-align: top;\n",
       "    }\n",
       "\n",
       "    .dataframe thead th {\n",
       "        text-align: right;\n",
       "    }\n",
       "</style>\n",
       "<table border=\"1\" class=\"dataframe\">\n",
       "  <thead>\n",
       "    <tr style=\"text-align: right;\">\n",
       "      <th></th>\n",
       "      <th>Posted On</th>\n",
       "      <th>BHK</th>\n",
       "      <th>Size</th>\n",
       "      <th>Floor</th>\n",
       "      <th>Area Type</th>\n",
       "      <th>Area Locality</th>\n",
       "      <th>City</th>\n",
       "      <th>Furnishing Status</th>\n",
       "      <th>Tenant Preferred</th>\n",
       "      <th>Bathroom</th>\n",
       "      <th>Point of Contact</th>\n",
       "      <th>Rent</th>\n",
       "    </tr>\n",
       "  </thead>\n",
       "  <tbody>\n",
       "    <tr>\n",
       "      <th>0</th>\n",
       "      <td>NaN</td>\n",
       "      <td>2.0</td>\n",
       "      <td>1100.0</td>\n",
       "      <td>NaN</td>\n",
       "      <td>Super Area</td>\n",
       "      <td>Bandel</td>\n",
       "      <td>India-! Kolkata</td>\n",
       "      <td>Unfurnished</td>\n",
       "      <td>Bach^elors/Fam.ily</td>\n",
       "      <td>2.0</td>\n",
       "      <td>Contact Owner</td>\n",
       "      <td>10000</td>\n",
       "    </tr>\n",
       "    <tr>\n",
       "      <th>1</th>\n",
       "      <td>2022-05-13</td>\n",
       "      <td>2.0</td>\n",
       "      <td>800.0</td>\n",
       "      <td>1 out of 3</td>\n",
       "      <td>Super Area</td>\n",
       "      <td>Phool Bagan, Kankurgachi</td>\n",
       "      <td>India-! Kolkata</td>\n",
       "      <td>Semi-Furnished</td>\n",
       "      <td>Bachelors\\/Family*</td>\n",
       "      <td>NaN</td>\n",
       "      <td>NaN</td>\n",
       "      <td>20000</td>\n",
       "    </tr>\n",
       "    <tr>\n",
       "      <th>2</th>\n",
       "      <td>2022-05-16</td>\n",
       "      <td>2.0</td>\n",
       "      <td>1000.0</td>\n",
       "      <td>1 out of 3</td>\n",
       "      <td>Super Area</td>\n",
       "      <td>Salt Lake City Sector 2</td>\n",
       "      <td>India-- Kolkata</td>\n",
       "      <td>Semi-Furnished</td>\n",
       "      <td>NaN</td>\n",
       "      <td>1.0</td>\n",
       "      <td>Contact Owner</td>\n",
       "      <td>17000</td>\n",
       "    </tr>\n",
       "    <tr>\n",
       "      <th>3</th>\n",
       "      <td>2022-07-04</td>\n",
       "      <td>2.0</td>\n",
       "      <td>800.0</td>\n",
       "      <td>1 out of 2</td>\n",
       "      <td>Super Area</td>\n",
       "      <td>NaN</td>\n",
       "      <td>NaN</td>\n",
       "      <td>Unfurnished</td>\n",
       "      <td>Bachel]ors/F@amily</td>\n",
       "      <td>1.0</td>\n",
       "      <td>NaN</td>\n",
       "      <td>10000</td>\n",
       "    </tr>\n",
       "    <tr>\n",
       "      <th>4</th>\n",
       "      <td>2022-05-09</td>\n",
       "      <td>2.0 room</td>\n",
       "      <td>850.0</td>\n",
       "      <td>1 out of 2</td>\n",
       "      <td>Carpet Area</td>\n",
       "      <td>South Dum Dum</td>\n",
       "      <td>India-^ Kolkata</td>\n",
       "      <td>Unfurnished</td>\n",
       "      <td>Bache[lors&amp;</td>\n",
       "      <td>1.0</td>\n",
       "      <td>Contact Owner</td>\n",
       "      <td>7500</td>\n",
       "    </tr>\n",
       "  </tbody>\n",
       "</table>\n",
       "</div>"
      ],
      "text/plain": [
       "    Posted On       BHK    Size       Floor    Area Type  \\\n",
       "0         NaN       2.0  1100.0         NaN   Super Area   \n",
       "1  2022-05-13       2.0   800.0  1 out of 3   Super Area   \n",
       "2  2022-05-16       2.0  1000.0  1 out of 3   Super Area   \n",
       "3  2022-07-04       2.0   800.0  1 out of 2   Super Area   \n",
       "4  2022-05-09  2.0 room   850.0  1 out of 2  Carpet Area   \n",
       "\n",
       "              Area Locality             City Furnishing Status  \\\n",
       "0                    Bandel  India-! Kolkata       Unfurnished   \n",
       "1  Phool Bagan, Kankurgachi  India-! Kolkata    Semi-Furnished   \n",
       "2   Salt Lake City Sector 2  India-- Kolkata    Semi-Furnished   \n",
       "3                       NaN              NaN       Unfurnished   \n",
       "4             South Dum Dum  India-^ Kolkata       Unfurnished   \n",
       "\n",
       "     Tenant Preferred Bathroom Point of Contact   Rent  \n",
       "0  Bach^elors/Fam.ily      2.0    Contact Owner  10000  \n",
       "1  Bachelors\\/Family*      NaN              NaN  20000  \n",
       "2                 NaN      1.0    Contact Owner  17000  \n",
       "3  Bachel]ors/F@amily      1.0              NaN  10000  \n",
       "4         Bache[lors&      1.0    Contact Owner   7500  "
      ]
     },
     "execution_count": 7,
     "metadata": {},
     "output_type": "execute_result"
    }
   ],
   "source": [
    "df.head()"
   ]
  },
  {
   "cell_type": "code",
   "execution_count": 8,
   "id": "e76ae2bb-9080-49a5-90e8-23a86bb4e036",
   "metadata": {},
   "outputs": [
    {
     "name": "stdout",
     "output_type": "stream",
     "text": [
      "<class 'pandas.core.frame.DataFrame'>\n",
      "RangeIndex: 4746 entries, 0 to 4745\n",
      "Data columns (total 12 columns):\n",
      " #   Column             Non-Null Count  Dtype \n",
      "---  ------             --------------  ----- \n",
      " 0   Posted On          4084 non-null   object\n",
      " 1   BHK                3963 non-null   object\n",
      " 2   Size               3826 non-null   object\n",
      " 3   Floor              3960 non-null   object\n",
      " 4   Area Type          3804 non-null   object\n",
      " 5   Area Locality      4146 non-null   object\n",
      " 6   City               4091 non-null   object\n",
      " 7   Furnishing Status  4042 non-null   object\n",
      " 8   Tenant Preferred   4094 non-null   object\n",
      " 9   Bathroom           4205 non-null   object\n",
      " 10  Point of Contact   4137 non-null   object\n",
      " 11  Rent               4746 non-null   int64 \n",
      "dtypes: int64(1), object(11)\n",
      "memory usage: 445.1+ KB\n"
     ]
    }
   ],
   "source": [
    "df.info()\n"
   ]
  },
  {
   "cell_type": "code",
   "execution_count": 9,
   "id": "7426d2d3-9576-4079-afc3-adedb511ceb1",
   "metadata": {},
   "outputs": [
    {
     "data": {
      "text/html": [
       "<div>\n",
       "<style scoped>\n",
       "    .dataframe tbody tr th:only-of-type {\n",
       "        vertical-align: middle;\n",
       "    }\n",
       "\n",
       "    .dataframe tbody tr th {\n",
       "        vertical-align: top;\n",
       "    }\n",
       "\n",
       "    .dataframe thead th {\n",
       "        text-align: right;\n",
       "    }\n",
       "</style>\n",
       "<table border=\"1\" class=\"dataframe\">\n",
       "  <thead>\n",
       "    <tr style=\"text-align: right;\">\n",
       "      <th></th>\n",
       "      <th>Rent</th>\n",
       "    </tr>\n",
       "  </thead>\n",
       "  <tbody>\n",
       "    <tr>\n",
       "      <th>count</th>\n",
       "      <td>4.746000e+03</td>\n",
       "    </tr>\n",
       "    <tr>\n",
       "      <th>mean</th>\n",
       "      <td>3.499345e+04</td>\n",
       "    </tr>\n",
       "    <tr>\n",
       "      <th>std</th>\n",
       "      <td>7.810641e+04</td>\n",
       "    </tr>\n",
       "    <tr>\n",
       "      <th>min</th>\n",
       "      <td>1.200000e+03</td>\n",
       "    </tr>\n",
       "    <tr>\n",
       "      <th>25%</th>\n",
       "      <td>1.000000e+04</td>\n",
       "    </tr>\n",
       "    <tr>\n",
       "      <th>50%</th>\n",
       "      <td>1.600000e+04</td>\n",
       "    </tr>\n",
       "    <tr>\n",
       "      <th>75%</th>\n",
       "      <td>3.300000e+04</td>\n",
       "    </tr>\n",
       "    <tr>\n",
       "      <th>max</th>\n",
       "      <td>3.500000e+06</td>\n",
       "    </tr>\n",
       "  </tbody>\n",
       "</table>\n",
       "</div>"
      ],
      "text/plain": [
       "               Rent\n",
       "count  4.746000e+03\n",
       "mean   3.499345e+04\n",
       "std    7.810641e+04\n",
       "min    1.200000e+03\n",
       "25%    1.000000e+04\n",
       "50%    1.600000e+04\n",
       "75%    3.300000e+04\n",
       "max    3.500000e+06"
      ]
     },
     "execution_count": 9,
     "metadata": {},
     "output_type": "execute_result"
    }
   ],
   "source": [
    "df.describe()"
   ]
  },
  {
   "cell_type": "code",
   "execution_count": 10,
   "id": "3163efce-1c07-4a54-8bd7-044fb473f1bf",
   "metadata": {},
   "outputs": [
    {
     "data": {
      "text/plain": [
       "Posted On            662\n",
       "BHK                  783\n",
       "Size                 920\n",
       "Floor                786\n",
       "Area Type            942\n",
       "Area Locality        600\n",
       "City                 655\n",
       "Furnishing Status    704\n",
       "Tenant Preferred     652\n",
       "Bathroom             541\n",
       "Point of Contact     609\n",
       "Rent                   0\n",
       "dtype: int64"
      ]
     },
     "execution_count": 10,
     "metadata": {},
     "output_type": "execute_result"
    }
   ],
   "source": [
    "df.isnull().sum()"
   ]
  },
  {
   "cell_type": "code",
   "execution_count": 9,
   "id": "71b48cf9-7c40-4338-ae56-41688c043db6",
   "metadata": {},
   "outputs": [
    {
     "ename": "NameError",
     "evalue": "name 'df' is not defined",
     "output_type": "error",
     "traceback": [
      "\u001b[1;31m---------------------------------------------------------------------------\u001b[0m",
      "\u001b[1;31mNameError\u001b[0m                                 Traceback (most recent call last)",
      "Cell \u001b[1;32mIn[9], line 1\u001b[0m\n\u001b[1;32m----> 1\u001b[0m df[\u001b[38;5;124m'\u001b[39m\u001b[38;5;124mBHK\u001b[39m\u001b[38;5;124m'\u001b[39m]\u001b[38;5;241m.\u001b[39munique()\n",
      "\u001b[1;31mNameError\u001b[0m: name 'df' is not defined"
     ]
    }
   ],
   "source": [
    "df['BHK'].unique()"
   ]
  },
  {
   "cell_type": "code",
   "execution_count": 19,
   "id": "3bbd86de-45cc-40c5-bffb-22635a0c2979",
   "metadata": {},
   "outputs": [],
   "source": [
    "df['BHK'] = df['BHK'].str.extract(r'(\\d+)')"
   ]
  },
  {
   "cell_type": "code",
   "execution_count": 16,
   "id": "9310f80f-7f10-46a7-a96f-4ebd541a1371",
   "metadata": {},
   "outputs": [
    {
     "data": {
      "text/plain": [
       "array(['2', '1', nan, '3', '6', '4', '5'], dtype=object)"
      ]
     },
     "execution_count": 16,
     "metadata": {},
     "output_type": "execute_result"
    }
   ],
   "source": [
    "\n",
    "df['BHK'].unique()"
   ]
  },
  {
   "cell_type": "code",
   "execution_count": 8,
   "id": "9a1cc279-f876-42a7-95d9-8681eaeb8bff",
   "metadata": {},
   "outputs": [
    {
     "ename": "NameError",
     "evalue": "name 'df' is not defined",
     "output_type": "error",
     "traceback": [
      "\u001b[1;31m---------------------------------------------------------------------------\u001b[0m",
      "\u001b[1;31mNameError\u001b[0m                                 Traceback (most recent call last)",
      "Cell \u001b[1;32mIn[8], line 1\u001b[0m\n\u001b[1;32m----> 1\u001b[0m df[\u001b[38;5;124m'\u001b[39m\u001b[38;5;124mBHK\u001b[39m\u001b[38;5;124m'\u001b[39m]\u001b[38;5;241m.\u001b[39mvalue_counts()\n",
      "\u001b[1;31mNameError\u001b[0m: name 'df' is not defined"
     ]
    }
   ],
   "source": [
    "df['BHK'].value_counts()"
   ]
  },
  {
   "cell_type": "code",
   "execution_count": 7,
   "id": "785901d2-cf27-4d43-b189-00133e0ab9c9",
   "metadata": {},
   "outputs": [
    {
     "ename": "NameError",
     "evalue": "name 'pd' is not defined",
     "output_type": "error",
     "traceback": [
      "\u001b[1;31m---------------------------------------------------------------------------\u001b[0m",
      "\u001b[1;31mNameError\u001b[0m                                 Traceback (most recent call last)",
      "Cell \u001b[1;32mIn[7], line 1\u001b[0m\n\u001b[1;32m----> 1\u001b[0m df[\u001b[38;5;124m'\u001b[39m\u001b[38;5;124mBHK\u001b[39m\u001b[38;5;124m'\u001b[39m] \u001b[38;5;241m=\u001b[39m pd\u001b[38;5;241m.\u001b[39mto_numeric(df[\u001b[38;5;124m'\u001b[39m\u001b[38;5;124mBHK\u001b[39m\u001b[38;5;124m'\u001b[39m])\n",
      "\u001b[1;31mNameError\u001b[0m: name 'pd' is not defined"
     ]
    }
   ],
   "source": [
    "df['BHK'] = pd.to_numeric(df['BHK'])"
   ]
  },
  {
   "cell_type": "code",
   "execution_count": 10,
   "id": "dc7eaddf-ae51-4e54-b509-a0629525b096",
   "metadata": {},
   "outputs": [
    {
     "ename": "NameError",
     "evalue": "name 'df' is not defined",
     "output_type": "error",
     "traceback": [
      "\u001b[1;31m---------------------------------------------------------------------------\u001b[0m",
      "\u001b[1;31mNameError\u001b[0m                                 Traceback (most recent call last)",
      "Cell \u001b[1;32mIn[10], line 1\u001b[0m\n\u001b[1;32m----> 1\u001b[0m df[\u001b[38;5;124m'\u001b[39m\u001b[38;5;124mSize\u001b[39m\u001b[38;5;124m'\u001b[39m]\u001b[38;5;241m.\u001b[39munique()\n",
      "\u001b[1;31mNameError\u001b[0m: name 'df' is not defined"
     ]
    }
   ],
   "source": [
    "df['Size'].unique()"
   ]
  },
  {
   "cell_type": "code",
   "execution_count": 4,
   "id": "db624ee3-3ecc-43af-ac38-0580c579c3ac",
   "metadata": {},
   "outputs": [
    {
     "ename": "NameError",
     "evalue": "name 'df' is not defined",
     "output_type": "error",
     "traceback": [
      "\u001b[1;31m---------------------------------------------------------------------------\u001b[0m",
      "\u001b[1;31mNameError\u001b[0m                                 Traceback (most recent call last)",
      "Cell \u001b[1;32mIn[4], line 1\u001b[0m\n\u001b[1;32m----> 1\u001b[0m df[\u001b[38;5;124m'\u001b[39m\u001b[38;5;124mSize\u001b[39m\u001b[38;5;124m'\u001b[39m] \u001b[38;5;241m=\u001b[39m df[\u001b[38;5;124m'\u001b[39m\u001b[38;5;124mSize\u001b[39m\u001b[38;5;124m'\u001b[39m]\u001b[38;5;241m.\u001b[39mstr\u001b[38;5;241m.\u001b[39mextract(\u001b[38;5;124mr\u001b[39m\u001b[38;5;124m'\u001b[39m\u001b[38;5;124m(\u001b[39m\u001b[38;5;124m\\\u001b[39m\u001b[38;5;124md+)\u001b[39m\u001b[38;5;124m'\u001b[39m)\n",
      "\u001b[1;31mNameError\u001b[0m: name 'df' is not defined"
     ]
    }
   ],
   "source": [
    "df['Size'] = df['Size'].str.extract(r'(\\d+)')"
   ]
  },
  {
   "cell_type": "code",
   "execution_count": 5,
   "id": "ab46c14b-a20a-42f2-9a8e-e95f55870701",
   "metadata": {},
   "outputs": [
    {
     "ename": "NameError",
     "evalue": "name 'df' is not defined",
     "output_type": "error",
     "traceback": [
      "\u001b[1;31m---------------------------------------------------------------------------\u001b[0m",
      "\u001b[1;31mNameError\u001b[0m                                 Traceback (most recent call last)",
      "Cell \u001b[1;32mIn[5], line 1\u001b[0m\n\u001b[1;32m----> 1\u001b[0m df[\u001b[38;5;124m'\u001b[39m\u001b[38;5;124mSize\u001b[39m\u001b[38;5;124m'\u001b[39m]\u001b[38;5;241m.\u001b[39munique()\n",
      "\u001b[1;31mNameError\u001b[0m: name 'df' is not defined"
     ]
    }
   ],
   "source": [
    "df['Size'].unique()"
   ]
  },
  {
   "cell_type": "code",
   "execution_count": null,
   "id": "4bae659c-6a22-463a-997a-52bba20e0c9a",
   "metadata": {},
   "outputs": [],
   "source": []
  }
 ],
 "metadata": {
  "kernelspec": {
   "display_name": "Python 3 (ipykernel)",
   "language": "python",
   "name": "python3"
  },
  "language_info": {
   "codemirror_mode": {
    "name": "ipython",
    "version": 3
   },
   "file_extension": ".py",
   "mimetype": "text/x-python",
   "name": "python",
   "nbconvert_exporter": "python",
   "pygments_lexer": "ipython3",
   "version": "3.12.4"
  }
 },
 "nbformat": 4,
 "nbformat_minor": 5
}
